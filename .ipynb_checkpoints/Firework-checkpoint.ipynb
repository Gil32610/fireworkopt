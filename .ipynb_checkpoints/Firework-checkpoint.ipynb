{
 "cells": [
  {
   "cell_type": "markdown",
   "id": "1e0cda56-6a7d-49a2-963b-35741b661b0e",
   "metadata": {},
   "source": [
    "# Firework Algorithm for Optimization"
   ]
  },
  {
   "cell_type": "markdown",
   "id": "2fc3c065-cc14-419c-a288-a555fa1bba03",
   "metadata": {},
   "source": [
    "- Autores originais: [*Ying Tan*](https://scholar.google.com/citations?user=PjNxSPsAAAAJ&hl=en) e [*Yuanchun Zhu*](https://ieeexplore.ieee.org/author/38008573100)\n",
    "- Ano de Publicação: 2010\n",
    "- Editora: [Springer](https://link.springer.com/chapter/10.1007/978-3-642-13495-1_44)\n",
    "- Conferência: [Advances in Swarm Intelligence](https://link.springer.com/book/10.1007/978-3-642-13495-1): First International Conference, ICSI 2010, Beijing, China, June 12-15, 2010, Proceedings, Part I 1"
   ]
  },
  {
   "cell_type": "markdown",
   "id": "9fe326d5-4a8d-417d-a39a-298681ffa22c",
   "metadata": {},
   "source": [
    "## Descrição:\n",
    "FA é um algoritmo de inteligência de enxames inspirado na explosão de fogos de artifício. Esse algoritmo é utilizado para a otimização global de funções complexas. São fornecidos dois processos de *“explosão”* (busca) e os mecanismos para manter a diversidade das *“faíscas”*."
   ]
  },
  {
   "cell_type": "code",
   "execution_count": 1,
   "id": "df7392b0-63a7-47e2-b9f9-bf26c29e771b",
   "metadata": {},
   "outputs": [],
   "source": [
    "import numpy as np\n",
    "import pandas as pd\n",
    "import random"
   ]
  },
  {
   "cell_type": "markdown",
   "id": "7898d621-7e52-4be9-b32c-3a6f9fe06528",
   "metadata": {},
   "source": [
    "## Funções Objetivos"
   ]
  },
  {
   "cell_type": "code",
   "execution_count": 2,
   "id": "728b6b8e-42ea-4597-a27b-89f3a0c6df38",
   "metadata": {},
   "outputs": [],
   "source": [
    "def sphere_function(x):\n",
    "    result = x**2\n",
    "    return np.sum(result)"
   ]
  },
  {
   "cell_type": "code",
   "execution_count": 3,
   "id": "2825a317-31a2-442a-8b5d-f463a4ed5dc9",
   "metadata": {},
   "outputs": [],
   "source": [
    "def rastrigin(x):\n",
    "    n = len(x)\n",
    "    total = 0\n",
    "    total = x**2 - 10*np.cos(2*np.pi*x)\n",
    "    return (10*n) + total"
   ]
  },
  {
   "cell_type": "code",
   "execution_count": 4,
   "id": "8451e066-dfd4-41d2-8964-8b5abb373a60",
   "metadata": {},
   "outputs": [],
   "source": [
    "def rosenbrook(x):\n",
    "    n = len(x)\n",
    "    term1 = 100 * (x[1:] - x[:-1]**2)**2\n",
    "    temr2 = (x[1:] -1)**2\n",
    "    sumterm = np.sum(term1 + term2)\n",
    "    return sumterm"
   ]
  },
  {
   "cell_type": "code",
   "execution_count": 5,
   "id": "ddd311c0-2c71-4aa5-bb5e-02007411fd38",
   "metadata": {},
   "outputs": [],
   "source": [
    "def ackley(x):\n",
    "    n = len(x)\n",
    "    sum1 = np.sum(x*2)\n",
    "    sum2 = np.sum(np.cos(2 * np.pi * x**2))\n",
    "    term1 = -20 * np.exp(-0.2 * np.sqrt(1/n * sum1))\n",
    "    term2 = -np.exp(1/n * sum2)\n",
    "    return term1 + term2 + 20 + np.exp(1)"
   ]
  },
  {
   "cell_type": "markdown",
   "id": "04680570-c1a8-4b3b-b36a-8eb276e3e11e",
   "metadata": {},
   "source": [
    "### Distribuição Gaussiana:"
   ]
  },
  {
   "cell_type": "code",
   "execution_count": 6,
   "id": "7d942653-1873-4892-9ece-4a30c3b7dec1",
   "metadata": {},
   "outputs": [
    {
     "data": {
      "text/plain": [
       "-0.633132664431415"
      ]
     },
     "execution_count": 6,
     "metadata": {},
     "output_type": "execute_result"
    }
   ],
   "source": [
    "value = random.gauss(1,1)\n",
    "value"
   ]
  },
  {
   "cell_type": "markdown",
   "id": "be09e63e-3449-4ab8-86ee-abacb2e752aa",
   "metadata": {},
   "source": [
    "### Distribuição Uniforme:"
   ]
  },
  {
   "cell_type": "code",
   "execution_count": 7,
   "id": "5e514605-57b3-4bdb-999b-48f9aa5d0b8c",
   "metadata": {
    "scrolled": true
   },
   "outputs": [
    {
     "data": {
      "text/plain": [
       "0.7012413762962668"
      ]
     },
     "execution_count": 7,
     "metadata": {},
     "output_type": "execute_result"
    }
   ],
   "source": [
    "value = random.uniform(-1,1)\n",
    "value"
   ]
  },
  {
   "cell_type": "markdown",
   "id": "dc883867-78eb-4d39-b8d8-5a5a5381ab2b",
   "metadata": {},
   "source": [
    "## Inicializando posições dos Fogos de Artifício:"
   ]
  },
  {
   "cell_type": "code",
   "execution_count": 33,
   "id": "fac67c24-d258-4ab2-b757-b7567e4c1580",
   "metadata": {},
   "outputs": [],
   "source": [
    "def initialize_firework_locations(n, d, xmin, xmax):\n",
    "    fireworks = xmin + (xmax - xmin) * np.random.rand(n,d)\n",
    "    return fireworks"
   ]
  },
  {
   "cell_type": "code",
   "execution_count": 9,
   "id": "abd7686f-f9da-4075-b948-30232a59db49",
   "metadata": {
    "scrolled": true
   },
   "outputs": [
    {
     "data": {
      "text/plain": [
       "array([ 1.17625644, -3.04062664,  2.18118833,  3.42343554,  5.00569121])"
      ]
     },
     "execution_count": 9,
     "metadata": {},
     "output_type": "execute_result"
    }
   ],
   "source": [
    "fireworks = initialize_firework_locations(5, -5.12, 5.12)\n",
    "fireworks"
   ]
  },
  {
   "cell_type": "markdown",
   "id": "cdede3b5-14d3-49c9-a20d-e0b5b06c3ad1",
   "metadata": {},
   "source": [
    "## Calculando o número de faíscas:"
   ]
  },
  {
   "cell_type": "code",
   "execution_count": 28,
   "id": "bace2692-922f-4cd4-9035-2a076c09189e",
   "metadata": {},
   "outputs": [],
   "source": [
    "def sparks_number(fx, fX, m, ymax, eps=.00001):\n",
    "    sum_difference_of_worst_fit_and_fx = np.sum(ymax-fX) + eps\n",
    "    difference_of_max_and_fx = (ymax - fx + eps)\n",
    "    s = m * difference_of_max_and_fx/sum_difference_of_worst_fit_and_fx\n",
    "    s = firework_boundaries(0.1, 0.8, m, s)\n",
    "    return s"
   ]
  },
  {
   "cell_type": "code",
   "execution_count": 11,
   "id": "2ef8f270-37b5-43a2-be18-82c8b536c61f",
   "metadata": {},
   "outputs": [],
   "source": [
    "def firework_boundaries(a, b, m, s):\n",
    "    term1 = np.round(a*m) * (s < (a*m))\n",
    "    term2 = np.round(b*m) * (s> b*m)\n",
    "    term3 = np.round(s) * (~(s < (a*m)) & ~((s > b *m) & (a<b<1)))\n",
    "    s_new = term1 + term2 + term3\n",
    "    return s_new"
   ]
  },
  {
   "cell_type": "markdown",
   "id": "d93e5b8c-1f72-4d4d-990f-68d200bde4dd",
   "metadata": {},
   "source": [
    "## Obtendo localização das Faíscas:"
   ]
  },
  {
   "cell_type": "markdown",
   "id": "1bbb5317-8561-42ad-be63-235907cc0d26",
   "metadata": {},
   "source": [
    "### Seletor de dimensões aleatório"
   ]
  },
  {
   "cell_type": "code",
   "execution_count": 12,
   "id": "4eadfcfc-babd-47a3-baad-8083bd703f77",
   "metadata": {},
   "outputs": [],
   "source": [
    "def random_dimension_selector(d):\n",
    "    xj = np.zeros(d)\n",
    "    z = round(d * random.uniform(0,1))\n",
    "    random_dimensions = np.random.choice(d, z, replace=False)\n",
    "    for i in random_dimensions:\n",
    "        xj[i] = 1\n",
    "    return xj\n",
    "    "
   ]
  },
  {
   "cell_type": "markdown",
   "id": "9d94fcba-7173-4854-b0ac-8b9acd763630",
   "metadata": {},
   "source": [
    "### Amplitude de explosão"
   ]
  },
  {
   "cell_type": "code",
   "execution_count": 13,
   "id": "44b3e10e-05de-4191-80b9-0b4b15d11faf",
   "metadata": {},
   "outputs": [],
   "source": [
    "def explosion_amplitude(A_hat, fx,fX, ymin, eps=.00001):\n",
    "    sum_difference_of_fx_and_best_fit = np.sum(fX - ymin) + eps\n",
    "    difference_of_fx_and_min = (fx - ymin + eps)\n",
    "    A = A_hat * difference_of_fx_and_min/sum_difference_of_fx_and_best_fit\n",
    "    return A"
   ]
  },
  {
   "cell_type": "code",
   "execution_count": 14,
   "id": "0a3c19f6-6eb9-4c3e-b7ee-088680fac9e1",
   "metadata": {},
   "outputs": [
    {
     "data": {
      "text/plain": [
       "4"
      ]
     },
     "execution_count": 14,
     "metadata": {},
     "output_type": "execute_result"
    }
   ],
   "source": [
    "d = 6\n",
    "round(6 * random.uniform(0,1))"
   ]
  },
  {
   "cell_type": "markdown",
   "id": "01ea8816-9fc6-4184-b410-1a36db11808a",
   "metadata": {},
   "source": [
    "### Obtendo faísca: Estratégia da Explosão"
   ]
  },
  {
   "cell_type": "code",
   "execution_count": 15,
   "id": "cb6377ea-839c-49f5-8f93-47c17dfdd1bf",
   "metadata": {},
   "outputs": [],
   "source": [
    "def obtain_location_of_spark(d, amp, xmin, xmax, xi):\n",
    "    #selecting z dimensions to be affected\n",
    "    xj = xi\n",
    "    random_selected_positions = random_dimension_selector(d) \n",
    "    h = amp * random.uniform(-1 ,1) \n",
    "    random_affected_dimensions = xj + (random_selected_positions* h)\n",
    "    #mapping affected dimensions to potential space\n",
    "    random_affected_dimensions = map_to_potential_space(xmin, xmax, random_affected_dimensions)\n",
    "    return random_affected_dimensions"
   ]
  },
  {
   "cell_type": "markdown",
   "id": "fab877e2-6934-4d5a-9d2c-ebf21b8c7845",
   "metadata": {},
   "source": [
    "### Mapeamento para espaço potencial:"
   ]
  },
  {
   "cell_type": "code",
   "execution_count": 16,
   "id": "e901366d-9f1c-4cb3-a68e-51fa10aee246",
   "metadata": {},
   "outputs": [],
   "source": [
    "def map_to_potential_space(xmin, xmax, affected):\n",
    "    inbound = xmin + abs(affected)%(xmax - xmin)\n",
    "    term1 = (affected > xmax) * inbound\n",
    "    term2 =  (affected < xmin) * inbound\n",
    "    fixed_bounds = term1 + term2\n",
    "    mapping = (fixed_bounds == 0) * affected + fixed_bounds \n",
    "    return mapping"
   ]
  },
  {
   "cell_type": "code",
   "execution_count": null,
   "id": "208dfb9f-b37a-4c13-b357-47665cc98a56",
   "metadata": {},
   "outputs": [],
   "source": []
  },
  {
   "cell_type": "code",
   "execution_count": 17,
   "id": "7e01f952-05d0-4315-ac01-f125461b5062",
   "metadata": {
    "scrolled": true
   },
   "outputs": [
    {
     "data": {
      "text/plain": [
       "array([ 0.47500779, -2.80197484,  0.13038762])"
      ]
     },
     "execution_count": 17,
     "metadata": {},
     "output_type": "execute_result"
    }
   ],
   "source": [
    "xi = np.random.rand(3)\n",
    "xmin = np.array([-3.12, -4.5, -6.6])\n",
    "xmax = np.array([3.12, 4.5, 6.6])\n",
    "d = 3\n",
    "amp = 5\n",
    "obtain_location_of_spark(d, amp, xmin, xmax, xi)"
   ]
  },
  {
   "cell_type": "markdown",
   "id": "597dafe7-6baa-4737-b57e-cc3e098c8f0f",
   "metadata": {},
   "source": [
    "### Obtendo faísca: Estratégia de Faíscas Gaussianas:"
   ]
  },
  {
   "cell_type": "code",
   "execution_count": 18,
   "id": "5d306158-65c4-44f1-9a59-8a626a775238",
   "metadata": {},
   "outputs": [],
   "source": [
    "def gaussian_spark_location(xmin, xmax, d, xi):\n",
    "    xj = xi\n",
    "    random_dimensions_selected = random_dimension_selector(d)\n",
    "    random_affected_dimensions = (xj * np.logical_not(random_dimensions_selected)) + xj * (random_dimensions_selected * np.random.normal(1,1,d))\n",
    "    random_affected_dimensions = map_to_potential_space(xmin, xmax, random_affected_dimensions)\n",
    "    return random_affected_dimensions"
   ]
  },
  {
   "cell_type": "code",
   "execution_count": 19,
   "id": "1bcc32a9-cffa-4b8b-bbe7-ee4797cfb6a4",
   "metadata": {},
   "outputs": [
    {
     "data": {
      "text/plain": [
       "array([1.16001331, 0.94374046, 2.03799127])"
      ]
     },
     "execution_count": 19,
     "metadata": {},
     "output_type": "execute_result"
    }
   ],
   "source": [
    "d =3\n",
    "np.random.normal(1,1,d)"
   ]
  },
  {
   "cell_type": "code",
   "execution_count": 20,
   "id": "ef0ba3da-7367-4f2b-826a-f132aacbfd0e",
   "metadata": {},
   "outputs": [
    {
     "data": {
      "text/plain": [
       "array([0.99937888, 0.53732951, 0.9730301 ])"
      ]
     },
     "execution_count": 20,
     "metadata": {},
     "output_type": "execute_result"
    }
   ],
   "source": [
    "np.random.rand(3)"
   ]
  },
  {
   "cell_type": "markdown",
   "id": "c5d2f1bb-0fd5-4368-82a3-d06b2da61b9a",
   "metadata": {},
   "source": [
    "## Seleção de Localizações:"
   ]
  },
  {
   "cell_type": "markdown",
   "id": "022aa1ec-c179-4c6d-a11a-e045c36bca2c",
   "metadata": {},
   "source": [
    "### Calculando Distância Geral:"
   ]
  },
  {
   "cell_type": "code",
   "execution_count": 21,
   "id": "a1884995-4ec6-416a-882f-4743027c6654",
   "metadata": {},
   "outputs": [],
   "source": [
    "def general_distance(xi , X, d):\n",
    "    sum_of_distances = np.sum(abs(xi - X))\n",
    "    return sum_of_distances"
   ]
  },
  {
   "cell_type": "markdown",
   "id": "22014bb4-30d2-4b8c-a46c-43697ab2ba06",
   "metadata": {},
   "source": [
    "### Calculando probabilidade de seleção:"
   ]
  },
  {
   "cell_type": "code",
   "execution_count": 22,
   "id": "cc941bca-a314-42e6-8469-6cdc713ba1aa",
   "metadata": {},
   "outputs": [],
   "source": [
    "def location_probability(RX, Rxi,d):\n",
    "    pxi = Rxi/RX\n",
    "    return pxi"
   ]
  },
  {
   "cell_type": "markdown",
   "id": "caa8799a-f80d-474a-ac61-5d0e4e98076d",
   "metadata": {},
   "source": [
    "## Framework ALgoritmo de Otimização Fogos de Artifício:"
   ]
  },
  {
   "cell_type": "code",
   "execution_count": 105,
   "id": "99c34196-db8d-4bed-9dda-85c4210b6b6c",
   "metadata": {},
   "outputs": [
    {
     "name": "stdout",
     "output_type": "stream",
     "text": [
      "147\n",
      "(146, 10)\n",
      "(146, 1)\n",
      "[ 1.66067785 -0.34623422  1.8755539  -2.9147944   3.04501523 -4.12481721\n",
      "  4.26525196 -2.20725453  1.4993986   3.23262845]\n",
      "(147, 1)\n"
     ]
    }
   ],
   "source": [
    "#localizações\n",
    "n = 10\n",
    "#quantidade de faíscas\n",
    "m = 50\n",
    "#dimensões\n",
    "d = 10\n",
    "#parâmetro para amplitude\n",
    "a = 20\n",
    "#faíscas gaussianas\n",
    "gauss = 15\n",
    "\n",
    "#Número de fogos na estratégia gaussiana\n",
    "m_hat = 5\n",
    "\n",
    "#minimo valor do espaço potencial\n",
    "xmin = -5\n",
    "\n",
    "#máximo valor do espaço potencial\n",
    "xmax = 5\n",
    "\n",
    "#Inicializando fogoso de artifício\n",
    "X = initialize_firework_locations(n, d, xmin, xmax)\n",
    "\n",
    "#Total de iterações\n",
    "explosion_generations = 1000\n",
    "\n",
    "#f(X)\n",
    "y = np.zeros((n,1))\n",
    "for i in range(n):\n",
    "    y[i] = sphere_function(X[i])\n",
    "\n",
    "#best fit\n",
    "ymin = y.min()\n",
    "#worst fit\n",
    "ymax = y.max()\n",
    "\n",
    "#Numero de faíscas por fogo de artifício\n",
    "S = np.zeros((n,1))\n",
    "#Amplitude de cada fogo de artificio\n",
    "A = np.zeros((n,1))\n",
    "\n",
    "for i in range(n):\n",
    "    S[i] = sparks_number(y[i],y, m, ymax) \n",
    "    A[i] = explosion_amplitude(a, y[i],y, ymin)\n",
    "\n",
    "total_sparks = np.sum(S)\n",
    "new_locations = X\n",
    "generation = np.array((n,d))\n",
    "for i in range(n):\n",
    "    xi = X[i]\n",
    "    n_sparks = int(S[i][0])\n",
    "    sparks = np.zeros((n_sparks,d))\n",
    "    for j in range(n_sparks):\n",
    "        sparks[j] = obtain_location_of_spark(d, a, xmin, xmax, xi)\n",
    "    new_locations = np.vstack((new_locations, sparks)) \n",
    "\n",
    "random_fireworks = np.sort(np.random.choice(n,m_hat, replace=False))\n",
    "for i in range(m_hat):\n",
    "    xi = X[random_fireworks[i]]\n",
    "    gaussian_sparks = np.zeros((gauss,d))\n",
    "    for j in range(gauss):\n",
    "        gaussian_sparks[j] = gaussian_spark_location(xmin, xmax, d, xi)\n",
    "    new_locations = np.vstack((new_locations, gaussian_sparks)) \n",
    "total_locations = int(total_sparks) + n + m_hat*gauss\n",
    "fx_new_locations = np.zeros((total_locations, 1))\n",
    "for i in range(total_locations):\n",
    "    fx_new_locations[i] = sphere_function(new_locations[i])\n",
    "\n",
    "current_best_location = fx_new_locations.argmin()\n",
    "best_location = new_locations[current_best_location]\n",
    "new_locations = np.delete(new_locations, current_best_location,0)\n",
    "RX = np.zeros((total_locations -1, 1)) \n",
    "for i in range(total_locations-1):\n",
    "    RX[i] = general_distance(new_locations[i], new_locations, d)\n",
    "\n",
    "prob = np.zeros((total_locations, 1))\n",
    "print(total_locations)\n",
    "print(new_locations.shape)\n",
    "print(RX.shape)\n",
    "print(X[0])\n",
    "sum_RX = np.sum(RX)\n",
    "for i in range(total_locations-1):\n",
    "    prob[i] = location_probability(sum_RX, RX[i],d)\n",
    "print((prob.shape))\n",
    "# np.zeros((int(total_sparks) + n + m_hat*gauss, d))\n",
    "# fx_new_locations = sphere_function(new_locations)\n",
    "# fx = y[0]\n",
    "# print(\"example X[0]: \", X[0])\n",
    "# print(\"objective function f(X[0]): \", y[0])\n",
    "# print(\"sparks per firework:\\n\", S)\n",
    "# print(\"amplitude of fireworks: \\n\", A)\n",
    "# print(\"Quantity of sparks\\n\",total_fireworks)  \n",
    "# print(\"Quantity of gaussian sparks:\\n \", gauss)\n",
    "# print(\"Amplitude of firework\\n\",A.shape)\n",
    "# print(\"new locations shape \\n\", new_locations.shape)\n",
    "# print(\"total locations: \",total_sparks + n + m_hat*gauss)\n",
    "# print(\"fx_best\", fx_new_locations)"
   ]
  },
  {
   "cell_type": "code",
   "execution_count": 54,
   "id": "9b3be042-5c67-4d43-a84a-d08f9ab3c402",
   "metadata": {},
   "outputs": [
    {
     "name": "stdout",
     "output_type": "stream",
     "text": [
      "si:  [5.]\n",
      "fx:  [104.36463033]\n",
      "ymax:  182.87446905467897\n",
      "sum:  874.6521453791307\n",
      "ymax - y[0]/sum:  [0.08976121]\n",
      "m * ymax - fx/sum:  [4.48806072]\n"
     ]
    }
   ],
   "source": [
    "fx = y[4]\n",
    "si = sparks_number(fx, y, m, ymax)\n",
    "print(\"si: \",si)\n",
    "print(\"fx: \", fx)\n",
    "print(\"ymax: \",ymax)\n",
    "sum = np.sum(ymax - y)\n",
    "print(\"sum: \",sum)\n",
    "spark =  (ymax - fx)/sum\n",
    "print(\"ymax - y[0]/sum: \", spark)\n",
    "print(\"m * ymax - fx/sum: \",m* spark)"
   ]
  },
  {
   "cell_type": "code",
   "execution_count": 25,
   "id": "56efe737-12c4-4df2-af13-a9ec03370c0b",
   "metadata": {},
   "outputs": [
    {
     "data": {
      "text/plain": [
       "68.0"
      ]
     },
     "execution_count": 25,
     "metadata": {},
     "output_type": "execute_result"
    }
   ],
   "source": [
    "total_fireworks = np.sum(S)\n",
    "total_fireworks"
   ]
  },
  {
   "cell_type": "code",
   "execution_count": 26,
   "id": "7193aa09-db00-4fc9-b37b-76c9921842f1",
   "metadata": {},
   "outputs": [
    {
     "data": {
      "text/plain": [
       "array([0, 2, 3, 6, 8])"
      ]
     },
     "execution_count": 26,
     "metadata": {},
     "output_type": "execute_result"
    }
   ],
   "source": [
    "np.sort(np.random.choice(10,5, replace=False))"
   ]
  },
  {
   "cell_type": "code",
   "execution_count": 27,
   "id": "ca58e7d2-1bde-4acd-8e7d-e3ddc61ca11c",
   "metadata": {},
   "outputs": [
    {
     "data": {
      "text/plain": [
       "array([-2.95871247, -4.93575806,  0.4718096 ,  1.34814434, -3.17250486,\n",
       "       -3.38159368, -0.80918401,  0.18070943, -0.90108277, -1.76472518])"
      ]
     },
     "execution_count": 27,
     "metadata": {},
     "output_type": "execute_result"
    }
   ],
   "source": [
    "xi = X[0]\n",
    "gaussian_spark_location(xmin, xmax, d, xi)"
   ]
  },
  {
   "cell_type": "code",
   "execution_count": 52,
   "id": "90eab028-1b20-43c1-9d7b-4fed2600993b",
   "metadata": {},
   "outputs": [
    {
     "data": {
      "text/plain": [
       "array([0., 0., 0., 0., 0., 0., 0., 0., 0., 0.])"
      ]
     },
     "execution_count": 52,
     "metadata": {},
     "output_type": "execute_result"
    }
   ],
   "source": [
    "new_locations[101]"
   ]
  },
  {
   "cell_type": "code",
   "execution_count": 69,
   "id": "1e6d466f-b694-4100-9b14-c5abd2e73fe5",
   "metadata": {},
   "outputs": [
    {
     "data": {
      "text/plain": [
       "array([[-4.85284209e+00,  1.32871135e+00, -4.31490190e+00,\n",
       "        -2.46195591e+00,  1.60816691e+00,  4.38218834e+00,\n",
       "         4.43305852e+00, -3.64379314e+00,  4.60038077e+00,\n",
       "         4.02160485e+00],\n",
       "       [ 1.34558145e-01,  1.32871135e+00, -4.31490190e+00,\n",
       "        -2.46195591e+00, -4.68214656e+00, -6.30411428e-01,\n",
       "         4.43305852e+00, -3.64379314e+00, -4.12218999e-01,\n",
       "         4.02160485e+00],\n",
       "       [-4.85284209e+00,  1.32871135e+00, -4.31490190e+00,\n",
       "        -2.46195591e+00,  3.30453206e-01,  4.38218834e+00,\n",
       "         4.43305852e+00, -3.64379314e+00,  4.60038077e+00,\n",
       "         4.02160485e+00],\n",
       "       [-4.85284209e+00,  1.32871135e+00, -4.31490190e+00,\n",
       "        -2.46195591e+00, -2.68682653e+00,  4.38218834e+00,\n",
       "         4.43305852e+00, -3.64379314e+00,  4.60038077e+00,\n",
       "         4.02160485e+00],\n",
       "       [-4.85284209e+00,  1.32871135e+00, -4.31490190e+00,\n",
       "        -2.46195591e+00,  3.30453206e-01,  4.38218834e+00,\n",
       "         4.43305852e+00, -3.84717257e+00,  4.39700133e+00,\n",
       "         4.02160485e+00],\n",
       "       [ 2.89967526e-01, -4.93105464e+00,  1.54705307e+00,\n",
       "        -4.03166833e+00,  4.99836541e+00, -1.23440140e-01,\n",
       "         2.14538830e+00,  2.50906855e-01,  2.66436368e+00,\n",
       "         4.46496807e+00],\n",
       "       [ 3.15591946e-01,  4.32337501e+00,  4.63841412e-01,\n",
       "        -3.36191599e+00, -4.48857892e+00, -5.83856516e-02,\n",
       "        -3.46869458e+00, -3.62087192e+00,  1.43447210e+00,\n",
       "         3.85864697e+00],\n",
       "       [ 2.89967526e-01,  4.32337501e+00, -2.22302896e+00,\n",
       "        -3.57840659e+00, -4.48857892e+00, -5.83856516e-02,\n",
       "        -3.46869458e+00, -3.09887213e+00,  2.66436368e+00,\n",
       "         1.56524293e+00],\n",
       "       [ 1.91001611e-01,  4.32337501e+00, -2.14507224e+00,\n",
       "         4.01642362e+00, -4.48857892e+00, -5.83856516e-02,\n",
       "         3.52589714e+00, -2.71201991e+00,  2.44993593e+00,\n",
       "        -2.14262953e+00],\n",
       "       [ 2.89967526e-01,  4.32337501e+00, -2.22302896e+00,\n",
       "        -4.03166833e+00, -3.22172632e+00, -5.83856516e-02,\n",
       "        -3.46869458e+00, -3.09887213e+00,  1.29505798e+00,\n",
       "         4.46496807e+00],\n",
       "       [ 2.89967526e-01,  4.32337501e+00, -9.97247097e-01,\n",
       "        -4.03166833e+00, -3.50189187e+00, -5.83856516e-02,\n",
       "        -3.46869458e+00, -3.09887213e+00,  2.66436368e+00,\n",
       "         4.46496807e+00],\n",
       "       [ 2.89967526e-01,  2.67403223e+00, -2.22302896e+00,\n",
       "        -1.72204123e+00, -1.54719136e+00, -5.83856516e-02,\n",
       "        -3.46869458e+00, -3.09887213e+00,  2.66436368e+00,\n",
       "         4.46496807e+00],\n",
       "       [ 2.89967526e-01,  4.32337501e+00, -2.22302896e+00,\n",
       "        -4.03166833e+00, -4.48857892e+00, -5.83856516e-02,\n",
       "        -3.46869458e+00, -3.09887213e+00,  2.66436368e+00,\n",
       "         4.46496807e+00],\n",
       "       [ 2.89967526e-01,  4.32337501e+00, -2.22302896e+00,\n",
       "        -2.99820580e+00, -4.48857892e+00, -5.83856516e-02,\n",
       "         4.19392032e-01, -3.09887213e+00,  2.66436368e+00,\n",
       "         4.46496807e+00],\n",
       "       [ 1.02637650e+00,  4.32337501e+00, -3.05922546e+00,\n",
       "        -4.03166833e+00, -4.48857892e+00, -8.88526247e-02,\n",
       "        -4.18492403e+00, -3.09887213e+00,  2.66436368e+00,\n",
       "         4.46496807e+00],\n",
       "       [ 3.28546801e-01,  4.92675661e+00, -2.22302896e+00,\n",
       "        -6.20570545e-01, -3.24272961e+00, -5.83856516e-02,\n",
       "        -4.90080542e+00,  4.52423615e+00,  2.66436368e+00,\n",
       "         4.46496807e+00],\n",
       "       [ 3.17070339e-01,  2.81994340e+00, -1.75891552e+00,\n",
       "         3.36202000e+00, -4.94069265e+00, -1.52450498e-02,\n",
       "        -3.46869458e+00, -1.81818120e+00,  1.50631901e+00,\n",
       "         4.46496807e+00],\n",
       "       [ 2.89967526e-01,  4.32337501e+00, -2.22302896e+00,\n",
       "        -4.03166833e+00, -4.48857892e+00, -5.83856516e-02,\n",
       "        -3.46869458e+00, -3.70704224e+00,  2.66436368e+00,\n",
       "         4.46496807e+00],\n",
       "       [ 2.89967526e-01,  4.32337501e+00, -2.22302896e+00,\n",
       "        -4.03166833e+00, -4.48857892e+00, -5.83856516e-02,\n",
       "        -3.46869458e+00, -3.09887213e+00,  2.66436368e+00,\n",
       "         4.46496807e+00],\n",
       "       [ 2.89967526e-01,  4.32337501e+00, -4.58071736e+00,\n",
       "        -4.94192153e+00, -5.82186840e-01, -1.10244863e-01,\n",
       "         1.48517502e+00, -3.09887213e+00,  2.66436368e+00,\n",
       "         4.69597695e+00],\n",
       "       [-4.22181373e-01,  2.81724514e+00,  2.38199363e+00,\n",
       "         4.64095286e+00, -4.09442380e+00, -3.77346563e+00,\n",
       "         1.29145128e+00,  3.57011541e+00, -2.50587715e+00,\n",
       "        -2.67833792e+00],\n",
       "       [ 5.04820908e-01,  4.37988432e+00,  2.59956141e+00,\n",
       "         4.64095286e+00, -4.22872537e+00, -3.77346563e+00,\n",
       "        -1.97176587e+00,  2.04518325e+00, -2.50587715e+00,\n",
       "        -2.67833792e+00],\n",
       "       [ 5.04820908e-01,  2.81724514e+00,  4.06305498e+00,\n",
       "         4.64095286e+00, -4.09442380e+00,  1.66928433e+00,\n",
       "        -4.52672074e+00,  4.52392546e+00, -2.54107717e-01,\n",
       "        -2.67833792e+00],\n",
       "       [ 5.04820908e-01, -9.12300746e-01, -1.75697596e+00,\n",
       "         3.71728800e-01,  2.06839863e+00,  1.78024750e+00,\n",
       "        -4.34417598e+00, -2.52529293e+00,  2.46059639e+00,\n",
       "        -3.74431686e+00],\n",
       "       [-4.10007006e-02,  2.75741162e+00, -8.06790468e-01,\n",
       "         8.74544799e-01,  2.82479550e-01, -4.53010462e+00,\n",
       "        -9.80513899e-01,  1.28730577e+00, -2.26522073e-01,\n",
       "        -2.71050853e+00],\n",
       "       [ 4.63954909e-01,  4.87893490e+00,  4.27827172e+00,\n",
       "         4.88027873e+00, -1.16480978e+00, -2.60267107e-01,\n",
       "         3.06346626e-01,  2.01061056e+00, -2.88982812e+00,\n",
       "        -4.37668399e+00],\n",
       "       [ 5.04820908e-01,  2.81724514e+00,  2.38199363e+00,\n",
       "         4.64095286e+00, -4.09442380e+00, -3.77346563e+00,\n",
       "        -4.52672074e+00,  4.52392546e+00, -2.50587715e+00,\n",
       "         1.82336197e+00],\n",
       "       [ 5.04820908e-01,  2.23769830e+00,  2.38199363e+00,\n",
       "         4.64095286e+00, -4.09442380e+00, -3.77346563e+00,\n",
       "         2.12997310e-02,  4.52392546e+00, -2.50587715e+00,\n",
       "        -4.78667801e+00],\n",
       "       [ 5.04820908e-01,  3.97352390e+00,  2.38199363e+00,\n",
       "         2.26917683e+00,  3.74052164e+00,  2.64473297e+00,\n",
       "        -4.52672074e+00,  4.52392546e+00,  2.31523293e+00,\n",
       "        -2.67833792e+00],\n",
       "       [ 3.40644553e-01, -4.95828128e-01,  4.94986031e-01,\n",
       "         4.64095286e+00,  1.39698471e+00,  1.56253162e+00,\n",
       "        -2.21686821e+00,  1.99422547e+00, -2.50587715e+00,\n",
       "        -2.67833792e+00],\n",
       "       [ 4.92407221e-01,  2.67584617e+00,  4.81207961e-01,\n",
       "         4.64095286e+00,  2.68898077e+00, -4.56137149e+00,\n",
       "        -3.93022190e+00, -3.44728947e+00,  1.00837542e+00,\n",
       "        -4.52458181e-01],\n",
       "       [ 5.04820908e-01,  2.81724514e+00,  2.38199363e+00,\n",
       "         4.64095286e+00, -1.57727399e+00, -1.44413339e+00,\n",
       "         3.83155555e+00,  4.52392546e+00, -2.50587715e+00,\n",
       "        -2.67833792e+00],\n",
       "       [ 5.04820908e-01,  3.73839926e+00,  2.38199363e+00,\n",
       "         4.64095286e+00, -5.56673472e-01, -5.76058877e-01,\n",
       "        -4.05782847e+00, -3.43528982e-01, -4.80528685e+00,\n",
       "         9.42574474e-01],\n",
       "       [ 1.59732577e+00,  2.81724514e+00,  1.12129367e+00,\n",
       "         1.69301742e+00, -1.91964837e+00, -3.77346563e+00,\n",
       "         2.15047298e+00, -4.18811127e+00, -4.54864485e+00,\n",
       "        -4.29142827e+00],\n",
       "       [-2.64354051e-01,  4.89113938e-01,  4.14633046e+00,\n",
       "         3.01774911e+00, -7.46741681e-01,  8.13746060e-01,\n",
       "         4.03509113e+00,  6.27933436e-01, -1.65706189e+00,\n",
       "        -1.52515766e+00],\n",
       "       [-1.17666474e+00, -2.85619144e+00, -2.75461656e+00,\n",
       "        -4.29857669e+00,  5.06790429e-02,  4.60402366e+00,\n",
       "         1.13910922e-01, -1.66454016e+00, -3.77899852e+00,\n",
       "         4.11549705e+00],\n",
       "       [-1.23169574e+00,  2.08275283e+00, -2.80767975e+00,\n",
       "        -4.83110988e-01,  5.06790429e-02,  2.40234369e+00,\n",
       "        -3.03280550e-01, -1.54159727e+00,  2.41133460e+00,\n",
       "         2.79489754e-01],\n",
       "       [-1.59450434e+00,  2.08275283e+00, -2.80767975e+00,\n",
       "        -4.60495260e+00,  5.06790429e-02,  3.99983799e+00,\n",
       "        -3.03280550e-01, -1.66454016e+00, -3.01570054e+00,\n",
       "         3.87656385e+00],\n",
       "       [-9.21008019e-01,  3.75672787e-01, -2.80767975e+00,\n",
       "         2.54982118e+00,  1.82265886e-02, -2.59699438e+00,\n",
       "        -3.03280550e-01, -1.24680052e+00,  3.56774524e+00,\n",
       "         3.05932078e+00],\n",
       "       [-3.07709188e+00,  2.10213397e+00,  1.04241873e+00,\n",
       "         1.73589161e+00,  7.91976421e-02,  1.03003709e+00,\n",
       "        -8.80435454e-01, -4.07311673e-01, -3.01570054e+00,\n",
       "         1.01424542e+00],\n",
       "       [-1.17666474e+00,  2.08275283e+00, -2.80767975e+00,\n",
       "        -4.60495260e+00,  5.06790429e-02,  3.99983799e+00,\n",
       "        -3.03280550e-01, -2.69245345e+00, -3.01570054e+00,\n",
       "         3.87656385e+00],\n",
       "       [-2.02606511e+00,  1.70998724e+00, -6.87120358e-01,\n",
       "        -2.26456996e+00,  4.64698912e-02,  2.68098904e+00,\n",
       "        -3.03280550e-01,  1.67537208e+00,  2.86568864e+00,\n",
       "        -2.57517795e+00],\n",
       "       [-6.83569535e-01,  1.50986405e-01, -2.55531840e+00,\n",
       "        -1.83249071e+00,  2.92257650e-02,  2.44538153e+00,\n",
       "        -3.03280550e-01, -1.41053341e+00, -3.01570054e+00,\n",
       "        -2.15661625e+00],\n",
       "       [-1.17666474e+00,  2.08275283e+00, -2.80767975e+00,\n",
       "        -4.60495260e+00,  5.06790429e-02,  3.34509730e+00,\n",
       "        -3.03280550e-01, -1.66454016e+00, -3.01570054e+00,\n",
       "         1.44077688e+00],\n",
       "       [-1.17666474e+00,  2.08275283e+00,  1.45720962e+00,\n",
       "        -2.01249790e+00,  5.06790429e-02,  3.99983799e+00,\n",
       "        -3.03280550e-01, -1.66454016e+00,  4.55023666e+00,\n",
       "         3.87656385e+00],\n",
       "       [-1.17666474e+00,  2.08275283e+00, -2.16416798e-01,\n",
       "        -4.73462640e+00,  5.06790429e-02,  3.99983799e+00,\n",
       "         6.44608830e-02, -1.66454016e+00,  2.62842225e+00,\n",
       "         3.87656385e+00],\n",
       "       [-1.67929392e+00,  2.08275283e+00, -2.80767975e+00,\n",
       "         1.46046336e+00,  8.44047421e-02,  3.99983799e+00,\n",
       "        -2.55746690e-01, -1.66454016e+00, -2.70190256e+00,\n",
       "        -3.32901112e+00],\n",
       "       [-1.43516298e+00,  3.09764641e+00, -1.36116216e+00,\n",
       "         2.87968523e+00,  5.67379054e-02,  4.36321827e+00,\n",
       "        -2.20431780e-01, -2.61448437e+00, -3.88410210e+00,\n",
       "         2.08991253e+00],\n",
       "       [-1.89384034e+00,  1.29570244e+00, -2.80767975e+00,\n",
       "         2.68687325e+00,  1.76797725e-02,  2.46577297e+00,\n",
       "        -2.95545699e-01, -5.08258314e-01, -3.01570054e+00,\n",
       "         2.52065614e+00],\n",
       "       [-1.86649608e+00,  3.41302837e+00, -5.95715978e-02,\n",
       "        -4.60495260e+00,  5.06790429e-02,  3.99983799e+00,\n",
       "        -3.03280550e-01,  6.09748745e-01, -2.64441307e+00,\n",
       "         3.87656385e+00],\n",
       "       [ 3.16821605e+00, -2.88731522e+00,  1.72626196e-01,\n",
       "         6.82418188e-01, -2.14094332e-01,  1.99661632e+00,\n",
       "         3.55790555e+00,  1.25700300e+00, -3.07723317e+00,\n",
       "         2.63477024e+00],\n",
       "       [-2.47358981e-01, -3.30678620e+00,  2.48882660e+00,\n",
       "         6.82418188e-01, -3.05964142e-02, -1.96059933e-01,\n",
       "        -2.31845313e+00, -1.08633718e+00,  4.54891743e+00,\n",
       "         2.01943413e+00],\n",
       "       [ 3.16821605e+00, -2.88731522e+00,  4.44793442e+00,\n",
       "         6.82418188e-01, -4.74982991e-01, -1.27450772e-03,\n",
       "         3.55790555e+00,  1.25700300e+00,  4.47866210e+00,\n",
       "        -1.63534484e+00],\n",
       "       [ 2.71358058e-01, -2.35596268e+00,  8.69585431e-01,\n",
       "         2.02586577e+00, -1.38088039e+00, -2.43587580e+00,\n",
       "        -3.32280692e+00,  2.04212907e+00,  3.35363436e-01,\n",
       "         4.43949369e+00],\n",
       "       [ 3.16821605e+00, -2.88731522e+00,  4.44793442e+00,\n",
       "         6.82418188e-01, -4.74982991e-01, -2.43587580e+00,\n",
       "         3.55790555e+00,  1.25700300e+00,  4.47866210e+00,\n",
       "        -3.07844342e+00],\n",
       "       [ 3.09125166e+00,  2.96576281e+00,  2.70491863e-01,\n",
       "         9.03436115e-01, -6.96138499e-01, -4.45173012e+00,\n",
       "        -3.01444432e+00,  1.92536485e+00,  4.40373232e+00,\n",
       "        -3.21227030e+00],\n",
       "       [ 2.49077371e+00,  3.11679281e+00,  4.02452115e+00,\n",
       "        -4.96522842e-02, -7.64979704e-01, -1.74482601e+00,\n",
       "         3.54798947e+00,  7.62805807e-01, -1.90830765e+00,\n",
       "        -4.91442682e+00],\n",
       "       [ 3.41151023e+00, -2.88731522e+00,  1.30387071e-01,\n",
       "         8.46599757e-01, -4.74982991e-01, -7.42633614e-01,\n",
       "         2.51138081e+00,  9.41239794e-01,  4.47866210e+00,\n",
       "        -3.07844342e+00],\n",
       "       [ 3.16821605e+00, -2.88731522e+00,  1.78730064e+00,\n",
       "         6.82418188e-01, -4.74982991e-01, -2.43587580e+00,\n",
       "         3.55790555e+00, -1.75655251e-01,  4.47866210e+00,\n",
       "        -1.24474622e+00],\n",
       "       [ 3.62859817e+00, -2.88731522e+00,  4.44793442e+00,\n",
       "         2.83183044e+00, -5.75237082e-01,  2.79019780e-01,\n",
       "         4.35796322e+00,  5.62559279e-01,  4.84694986e+00,\n",
       "        -4.72612168e+00],\n",
       "       [-3.24699967e-01, -2.88731522e+00,  3.20135885e+00,\n",
       "         9.76292786e-01, -6.52478662e-01, -1.55553921e+00,\n",
       "         3.55790555e+00,  1.25700300e+00,  4.18279540e+00,\n",
       "        -3.29922114e+00],\n",
       "       [ 3.56186302e+00, -1.66763358e+00,  4.40839306e+00,\n",
       "        -1.34484807e-01, -6.19434448e-01, -2.97187442e+00,\n",
       "         1.57963967e+00,  1.25700300e+00, -3.31943612e+00,\n",
       "        -4.19280379e+00],\n",
       "       [ 3.16821605e+00, -2.88731522e+00,  2.15833802e+00,\n",
       "         6.82418188e-01, -4.74982991e-01, -2.43587580e+00,\n",
       "         3.55790555e+00,  1.25700300e+00,  3.76465922e+00,\n",
       "        -3.07844342e+00],\n",
       "       [ 3.16821605e+00, -2.88731522e+00,  4.44793442e+00,\n",
       "        -6.80504704e-01, -6.57595912e-01, -3.49156183e+00,\n",
       "         3.55790555e+00,  1.25700300e+00,  1.48502360e+00,\n",
       "        -3.82875555e+00],\n",
       "       [ 9.04315774e-01, -2.88731522e+00,  4.44793442e+00,\n",
       "         6.82418188e-01, -7.72075257e-01, -2.43587580e+00,\n",
       "         2.28827580e+00,  4.25987967e-03, -1.20765038e+00,\n",
       "         3.73157167e+00],\n",
       "       [ 6.77118383e-01, -3.50437454e+00, -4.73779961e+00,\n",
       "        -3.54792303e+00,  2.86474411e+00,  4.52485077e+00,\n",
       "        -3.54450948e+00, -3.58656778e+00, -5.98643838e-01,\n",
       "         2.65001692e+00],\n",
       "       [ 2.15982294e+00, -3.20955762e+00, -4.31654679e+00,\n",
       "        -5.72800066e-01,  2.27939525e+00,  1.66293558e+00,\n",
       "         3.18891567e+00, -3.58656778e+00, -1.05052059e+00,\n",
       "         2.06955188e+00],\n",
       "       [ 3.86895111e+00, -5.48270196e-01,  1.79166450e+00,\n",
       "         4.89816404e-01,  3.10624464e+00,  4.99678910e+00,\n",
       "         2.20793213e+00, -1.91348871e+00, -3.81249286e-01,\n",
       "        -1.28300605e-01],\n",
       "       [-3.85916012e+00,  4.07366407e+00,  1.15585954e+00,\n",
       "        -4.07051031e-01,  3.59233177e+00,  3.70974892e+00,\n",
       "         4.14363563e+00, -3.39361065e+00, -4.25671220e-01,\n",
       "         1.30160000e+00],\n",
       "       [ 3.33717825e+00, -3.50437454e+00, -4.73779961e+00,\n",
       "        -3.54792303e+00,  2.86474411e+00,  4.88897936e+00,\n",
       "        -3.54450948e+00, -3.58656778e+00, -4.73698580e-01,\n",
       "         3.42972324e+00],\n",
       "       [ 2.15982294e+00, -3.50437454e+00, -4.73779961e+00,\n",
       "        -3.54792303e+00,  2.86474411e+00,  4.44520588e+00,\n",
       "        -2.33455955e+00, -3.58656778e+00, -5.98643838e-01,\n",
       "         2.65001692e+00],\n",
       "       [ 2.15982294e+00, -3.50437454e+00,  1.28199150e+00,\n",
       "        -3.54792303e+00,  2.86474411e+00,  4.88897936e+00,\n",
       "        -3.54450948e+00,  4.65515433e+00, -5.98643838e-01,\n",
       "         2.65001692e+00],\n",
       "       [ 2.15982294e+00, -3.50437454e+00, -4.73779961e+00,\n",
       "        -3.54792303e+00,  2.86474411e+00,  4.88897936e+00,\n",
       "        -2.12525743e+00, -3.58656778e+00,  1.38546905e-01,\n",
       "         2.65001692e+00],\n",
       "       [ 2.15982294e+00, -3.50437454e+00, -1.70896413e+00,\n",
       "        -3.54792303e+00,  2.86474411e+00,  4.88897936e+00,\n",
       "        -3.54450948e+00,  8.49011514e-01, -5.98643838e-01,\n",
       "         2.65001692e+00],\n",
       "       [ 1.53745079e+00, -1.28081090e+00,  4.19246313e+00,\n",
       "        -1.70845436e+00,  2.86474411e+00,  4.88897936e+00,\n",
       "         1.14217454e+00, -4.61975876e+00, -4.19270731e-01,\n",
       "         4.47946726e+00],\n",
       "       [ 3.48024041e-01,  3.98941345e-01, -4.73779961e+00,\n",
       "         2.32694345e+00,  2.86474411e+00,  4.88897936e+00,\n",
       "        -3.54450948e+00, -3.58656778e+00, -5.98643838e-01,\n",
       "         2.25288540e+00],\n",
       "       [ 1.36350616e+00, -3.00367172e+00, -1.25777056e+00,\n",
       "         1.14502970e+00, -3.70275529e+00,  5.50296374e-01,\n",
       "        -6.58812441e-02, -2.40296501e+00, -5.98643838e-01,\n",
       "         2.69032270e+00],\n",
       "       [ 2.15982294e+00, -3.50437454e+00, -4.73779961e+00,\n",
       "        -3.54792303e+00,  2.86474411e+00,  4.88897936e+00,\n",
       "        -3.54450948e+00, -3.58656778e+00, -5.98643838e-01,\n",
       "         2.65001692e+00],\n",
       "       [ 3.51069161e+00, -3.83532059e+00,  2.19566463e+00,\n",
       "        -1.17281842e+00,  1.11210906e-02, -2.43979070e+00,\n",
       "         4.23909396e+00, -4.70570496e+00, -1.80351515e-01,\n",
       "         8.77662733e-01],\n",
       "       [ 2.15982294e+00, -3.50437454e+00, -4.73779961e+00,\n",
       "        -4.63045489e+00,  3.04514662e+00,  4.88897936e+00,\n",
       "         3.45342441e+00, -2.34690312e+00,  2.26569319e-01,\n",
       "         2.65001692e+00]])"
      ]
     },
     "execution_count": 69,
     "metadata": {},
     "output_type": "execute_result"
    }
   ],
   "source": [
    "new_locations[69:]"
   ]
  },
  {
   "cell_type": "code",
   "execution_count": 88,
   "id": "6f0778b1-7c9a-4366-83a8-897abde2376f",
   "metadata": {},
   "outputs": [
    {
     "data": {
      "text/plain": [
       "array([ 1.0718881 , -0.39035607, -0.37146852, -0.39237122,  1.1058866 ,\n",
       "        0.74441681, -0.72170397,  0.81595826, -2.04869278,  2.0996152 ])"
      ]
     },
     "execution_count": 88,
     "metadata": {},
     "output_type": "execute_result"
    }
   ],
   "source": [
    "current_best_location"
   ]
  },
  {
   "cell_type": "code",
   "execution_count": null,
   "id": "fcd74e41-c782-4111-8409-d6d5e042c39f",
   "metadata": {},
   "outputs": [],
   "source": []
  },
  {
   "cell_type": "code",
   "execution_count": null,
   "id": "2866c205-bc94-4b67-8336-44782e5b68d6",
   "metadata": {},
   "outputs": [],
   "source": []
  },
  {
   "cell_type": "code",
   "execution_count": null,
   "id": "e4fa01c5-121c-42d9-a657-df9585b54370",
   "metadata": {},
   "outputs": [],
   "source": []
  }
 ],
 "metadata": {
  "kernelspec": {
   "display_name": "Python 3 (ipykernel)",
   "language": "python",
   "name": "python3"
  },
  "language_info": {
   "codemirror_mode": {
    "name": "ipython",
    "version": 3
   },
   "file_extension": ".py",
   "mimetype": "text/x-python",
   "name": "python",
   "nbconvert_exporter": "python",
   "pygments_lexer": "ipython3",
   "version": "3.12.1"
  }
 },
 "nbformat": 4,
 "nbformat_minor": 5
}
