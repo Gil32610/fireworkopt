{
 "cells": [
  {
   "cell_type": "markdown",
   "id": "1e0cda56-6a7d-49a2-963b-35741b661b0e",
   "metadata": {},
   "source": [
    "# Firework Algorithm for Optimization"
   ]
  },
  {
   "cell_type": "markdown",
   "id": "2fc3c065-cc14-419c-a288-a555fa1bba03",
   "metadata": {},
   "source": [
    "- Autores originais: [*Ying Tan*](https://scholar.google.com/citations?user=PjNxSPsAAAAJ&hl=en) e [*Yuanchun Zhu*](https://ieeexplore.ieee.org/author/38008573100)\n",
    "- Ano de Publicação: 2010\n",
    "- Editora: [Springer](https://link.springer.com/chapter/10.1007/978-3-642-13495-1_44)\n",
    "- Conferência: [Advances in Swarm Intelligence](https://link.springer.com/book/10.1007/978-3-642-13495-1): First International Conference, ICSI 2010, Beijing, China, June 12-15, 2010, Proceedings, Part I 1"
   ]
  },
  {
   "cell_type": "markdown",
   "id": "9fe326d5-4a8d-417d-a39a-298681ffa22c",
   "metadata": {},
   "source": [
    "## Descrição:\n",
    "FA é um algoritmo de inteligência de enxames inspirado na explosão de fogos de artifício. Esse algoritmo é utilizado para a otimização global de funções complexas. São fornecidos dois processos de *“explosão”* (busca) e os mecanismos para manter a diversidade das *“faíscas”*."
   ]
  },
  {
   "cell_type": "code",
   "execution_count": 10,
   "id": "df7392b0-63a7-47e2-b9f9-bf26c29e771b",
   "metadata": {},
   "outputs": [],
   "source": [
    "import numpy as np\n",
    "import pandas as pd\n",
    "import random"
   ]
  },
  {
   "cell_type": "markdown",
   "id": "7898d621-7e52-4be9-b32c-3a6f9fe06528",
   "metadata": {},
   "source": [
    "## Funções Objetivos"
   ]
  },
  {
   "cell_type": "code",
   "execution_count": 11,
   "id": "728b6b8e-42ea-4597-a27b-89f3a0c6df38",
   "metadata": {},
   "outputs": [],
   "source": [
    "def sphere_function(x):\n",
    "    result = x**2\n",
    "    return np.sum(result)"
   ]
  },
  {
   "cell_type": "code",
   "execution_count": 12,
   "id": "2825a317-31a2-442a-8b5d-f463a4ed5dc9",
   "metadata": {},
   "outputs": [],
   "source": [
    "def rastrigin(x):\n",
    "    n = len(x)\n",
    "    total = 0\n",
    "    total = x**2 - 10*np.cos(2*np.pi*x)\n",
    "    return (10*n) + total"
   ]
  },
  {
   "cell_type": "code",
   "execution_count": 13,
   "id": "8451e066-dfd4-41d2-8964-8b5abb373a60",
   "metadata": {},
   "outputs": [],
   "source": [
    "def rosenbrook(x):\n",
    "    n = len(x)\n",
    "    term1 = 100 * (x[1:] - x[:-1]**2)**2\n",
    "    temr2 = (x[1:] -1)**2\n",
    "    sumterm = np.sum(term1 + term2)\n",
    "    return sumterm"
   ]
  },
  {
   "cell_type": "code",
   "execution_count": 14,
   "id": "ddd311c0-2c71-4aa5-bb5e-02007411fd38",
   "metadata": {},
   "outputs": [],
   "source": [
    "def ackley(x):\n",
    "    n = len(x)\n",
    "    sum1 = np.sum(x*2)\n",
    "    sum2 = np.sum(np.cos(2 * np.pi * x**2))\n",
    "    term1 = -20 * np.exp(-0.2 * np.sqrt(1/n * sum1))\n",
    "    term2 = -np.exp(1/n * sum2)\n",
    "    return term1 + term2 + 20 + np.exp(1)"
   ]
  },
  {
   "cell_type": "markdown",
   "id": "04680570-c1a8-4b3b-b36a-8eb276e3e11e",
   "metadata": {},
   "source": [
    "### Distribuição Gaussiana:"
   ]
  },
  {
   "cell_type": "code",
   "execution_count": 15,
   "id": "7d942653-1873-4892-9ece-4a30c3b7dec1",
   "metadata": {},
   "outputs": [
    {
     "data": {
      "text/plain": [
       "0.8875296029796005"
      ]
     },
     "execution_count": 15,
     "metadata": {},
     "output_type": "execute_result"
    }
   ],
   "source": [
    "value = random.gauss(1,1)\n",
    "value"
   ]
  },
  {
   "cell_type": "markdown",
   "id": "be09e63e-3449-4ab8-86ee-abacb2e752aa",
   "metadata": {},
   "source": [
    "### Distribuição Uniforme:"
   ]
  },
  {
   "cell_type": "code",
   "execution_count": 16,
   "id": "5e514605-57b3-4bdb-999b-48f9aa5d0b8c",
   "metadata": {
    "scrolled": true
   },
   "outputs": [
    {
     "data": {
      "text/plain": [
       "-0.6262641041074666"
      ]
     },
     "execution_count": 16,
     "metadata": {},
     "output_type": "execute_result"
    }
   ],
   "source": [
    "value = random.uniform(-1,1)\n",
    "value"
   ]
  },
  {
   "cell_type": "markdown",
   "id": "dc883867-78eb-4d39-b8d8-5a5a5381ab2b",
   "metadata": {},
   "source": [
    "## Inicializando posições dos Fogos de Artifício:"
   ]
  },
  {
   "cell_type": "code",
   "execution_count": 17,
   "id": "fac67c24-d258-4ab2-b757-b7567e4c1580",
   "metadata": {},
   "outputs": [],
   "source": [
    "def initialize_firework_locations(n, d, xmin, xmax):\n",
    "    fireworks = xmin + (xmax - xmin) * np.random.rand(n,d)\n",
    "    return fireworks"
   ]
  },
  {
   "cell_type": "code",
   "execution_count": null,
   "id": "abd7686f-f9da-4075-b948-30232a59db49",
   "metadata": {
    "scrolled": true
   },
   "outputs": [],
   "source": []
  },
  {
   "cell_type": "markdown",
   "id": "cdede3b5-14d3-49c9-a20d-e0b5b06c3ad1",
   "metadata": {},
   "source": [
    "## Calculando o número de faíscas:"
   ]
  },
  {
   "cell_type": "code",
   "execution_count": 18,
   "id": "bace2692-922f-4cd4-9035-2a076c09189e",
   "metadata": {},
   "outputs": [],
   "source": [
    "def sparks_number(fx, fX, m, ymax, eps=.00001):\n",
    "    sum_difference_of_worst_fit_and_fx = np.sum(ymax-fX) + eps\n",
    "    difference_of_max_and_fx = (ymax - fx + eps)\n",
    "    s = m * difference_of_max_and_fx/sum_difference_of_worst_fit_and_fx\n",
    "    s = firework_boundaries(0.1, 0.8, m, s)\n",
    "    return s"
   ]
  },
  {
   "cell_type": "code",
   "execution_count": 19,
   "id": "2ef8f270-37b5-43a2-be18-82c8b536c61f",
   "metadata": {},
   "outputs": [],
   "source": [
    "def firework_boundaries(a, b, m, s):\n",
    "    term1 = np.round(a*m) * (s < (a*m))\n",
    "    term2 = np.round(b*m) * (s> b*m)\n",
    "    term3 = np.round(s) * (~(s < (a*m)) & ~((s > b *m) & (a<b<1)))\n",
    "    s_new = term1 + term2 + term3\n",
    "    return s_new"
   ]
  },
  {
   "cell_type": "markdown",
   "id": "d93e5b8c-1f72-4d4d-990f-68d200bde4dd",
   "metadata": {},
   "source": [
    "## Obtendo localização das Faíscas:"
   ]
  },
  {
   "cell_type": "markdown",
   "id": "1bbb5317-8561-42ad-be63-235907cc0d26",
   "metadata": {},
   "source": [
    "### Seletor de dimensões aleatório"
   ]
  },
  {
   "cell_type": "code",
   "execution_count": 20,
   "id": "4eadfcfc-babd-47a3-baad-8083bd703f77",
   "metadata": {},
   "outputs": [],
   "source": [
    "def random_dimension_selector(d):\n",
    "    xj = np.zeros(d)\n",
    "    z = round(d * random.uniform(0,1))\n",
    "    random_dimensions = np.random.choice(d, z, replace=False)\n",
    "    for i in random_dimensions:\n",
    "        xj[i] = 1\n",
    "    return xj\n",
    "    "
   ]
  },
  {
   "cell_type": "markdown",
   "id": "9d94fcba-7173-4854-b0ac-8b9acd763630",
   "metadata": {},
   "source": [
    "### Amplitude de explosão"
   ]
  },
  {
   "cell_type": "code",
   "execution_count": 21,
   "id": "44b3e10e-05de-4191-80b9-0b4b15d11faf",
   "metadata": {},
   "outputs": [],
   "source": [
    "def explosion_amplitude(A_hat, fx,fX, ymin, eps=.00001):\n",
    "    sum_difference_of_fx_and_best_fit = np.sum(fX - ymin) + eps\n",
    "    difference_of_fx_and_min = (fx - ymin + eps)\n",
    "    A = A_hat * difference_of_fx_and_min/sum_difference_of_fx_and_best_fit\n",
    "    return A"
   ]
  },
  {
   "cell_type": "code",
   "execution_count": 22,
   "id": "0a3c19f6-6eb9-4c3e-b7ee-088680fac9e1",
   "metadata": {},
   "outputs": [
    {
     "data": {
      "text/plain": [
       "1"
      ]
     },
     "execution_count": 22,
     "metadata": {},
     "output_type": "execute_result"
    }
   ],
   "source": [
    "d = 6\n",
    "round(6 * random.uniform(0,1))"
   ]
  },
  {
   "cell_type": "markdown",
   "id": "01ea8816-9fc6-4184-b410-1a36db11808a",
   "metadata": {},
   "source": [
    "### Obtendo faísca: Estratégia da Explosão"
   ]
  },
  {
   "cell_type": "code",
   "execution_count": 23,
   "id": "cb6377ea-839c-49f5-8f93-47c17dfdd1bf",
   "metadata": {},
   "outputs": [],
   "source": [
    "def obtain_location_of_spark(d, amp, xmin, xmax, xi):\n",
    "    #selecting z dimensions to be affected\n",
    "    xj = xi\n",
    "    random_selected_positions = random_dimension_selector(d) \n",
    "    h = amp * random.uniform(-1 ,1) \n",
    "    random_affected_dimensions = xj + (random_selected_positions* h)\n",
    "    #mapping affected dimensions to potential space\n",
    "    random_affected_dimensions = map_to_potential_space(xmin, xmax, random_affected_dimensions)\n",
    "    return random_affected_dimensions"
   ]
  },
  {
   "cell_type": "markdown",
   "id": "fab877e2-6934-4d5a-9d2c-ebf21b8c7845",
   "metadata": {},
   "source": [
    "### Mapeamento para espaço potencial:"
   ]
  },
  {
   "cell_type": "code",
   "execution_count": 24,
   "id": "e901366d-9f1c-4cb3-a68e-51fa10aee246",
   "metadata": {},
   "outputs": [],
   "source": [
    "def map_to_potential_space(xmin, xmax, affected):\n",
    "    inbound = xmin + abs(affected)%(xmax - xmin)\n",
    "    term1 = (affected > xmax) * inbound\n",
    "    term2 =  (affected < xmin) * inbound\n",
    "    fixed_bounds = term1 + term2\n",
    "    mapping = (fixed_bounds == 0) * affected + fixed_bounds \n",
    "    return mapping"
   ]
  },
  {
   "cell_type": "code",
   "execution_count": 25,
   "id": "7e01f952-05d0-4315-ac01-f125461b5062",
   "metadata": {
    "scrolled": true
   },
   "outputs": [
    {
     "data": {
      "text/plain": [
       "array([ 0.51426892, -3.32213318,  0.53298253])"
      ]
     },
     "execution_count": 25,
     "metadata": {},
     "output_type": "execute_result"
    }
   ],
   "source": [
    "xi = np.random.rand(3)\n",
    "xmin = np.array([-3.12, -4.5, -6.6])\n",
    "xmax = np.array([3.12, 4.5, 6.6])\n",
    "d = 3\n",
    "amp = 5\n",
    "obtain_location_of_spark(d, amp, xmin, xmax, xi)"
   ]
  },
  {
   "cell_type": "markdown",
   "id": "597dafe7-6baa-4737-b57e-cc3e098c8f0f",
   "metadata": {},
   "source": [
    "### Obtendo faísca: Estratégia de Faíscas Gaussianas:"
   ]
  },
  {
   "cell_type": "code",
   "execution_count": 26,
   "id": "5d306158-65c4-44f1-9a59-8a626a775238",
   "metadata": {},
   "outputs": [],
   "source": [
    "def gaussian_spark_location(xmin, xmax, d, xi):\n",
    "    xj = xi\n",
    "    random_dimensions_selected = random_dimension_selector(d)\n",
    "    random_affected_dimensions = (xj * np.logical_not(random_dimensions_selected)) + xj * (random_dimensions_selected * np.random.normal(1,1,d))\n",
    "    random_affected_dimensions = map_to_potential_space(xmin, xmax, random_affected_dimensions)\n",
    "    return random_affected_dimensions"
   ]
  },
  {
   "cell_type": "code",
   "execution_count": 27,
   "id": "1bcc32a9-cffa-4b8b-bbe7-ee4797cfb6a4",
   "metadata": {},
   "outputs": [
    {
     "data": {
      "text/plain": [
       "array([ 2.00417187,  2.13230407, -0.62905488])"
      ]
     },
     "execution_count": 27,
     "metadata": {},
     "output_type": "execute_result"
    }
   ],
   "source": [
    "d =3\n",
    "np.random.normal(1,1,d)"
   ]
  },
  {
   "cell_type": "code",
   "execution_count": 28,
   "id": "ef0ba3da-7367-4f2b-826a-f132aacbfd0e",
   "metadata": {},
   "outputs": [
    {
     "data": {
      "text/plain": [
       "array([0.54020565, 0.12537599, 0.14140263])"
      ]
     },
     "execution_count": 28,
     "metadata": {},
     "output_type": "execute_result"
    }
   ],
   "source": [
    "np.random.rand(3)"
   ]
  },
  {
   "cell_type": "markdown",
   "id": "c5d2f1bb-0fd5-4368-82a3-d06b2da61b9a",
   "metadata": {},
   "source": [
    "## Seleção de Localizações:"
   ]
  },
  {
   "cell_type": "markdown",
   "id": "022aa1ec-c179-4c6d-a11a-e045c36bca2c",
   "metadata": {},
   "source": [
    "### Calculando Distância Geral:"
   ]
  },
  {
   "cell_type": "code",
   "execution_count": 29,
   "id": "a1884995-4ec6-416a-882f-4743027c6654",
   "metadata": {},
   "outputs": [],
   "source": [
    "def general_distance(xi , X, d):\n",
    "    sum_of_distances = np.sum(abs(xi - X))\n",
    "    return sum_of_distances"
   ]
  },
  {
   "cell_type": "markdown",
   "id": "22014bb4-30d2-4b8c-a46c-43697ab2ba06",
   "metadata": {},
   "source": [
    "### Calculando probabilidade de seleção:"
   ]
  },
  {
   "cell_type": "code",
   "execution_count": 30,
   "id": "cc941bca-a314-42e6-8469-6cdc713ba1aa",
   "metadata": {},
   "outputs": [],
   "source": [
    "def location_probability(RX, Rxi,d):\n",
    "    pxi = Rxi/RX\n",
    "    return pxi"
   ]
  },
  {
   "cell_type": "markdown",
   "id": "caa8799a-f80d-474a-ac61-5d0e4e98076d",
   "metadata": {},
   "source": [
    "## Framework ALgoritmo de Otimização Fogos de Artifício:"
   ]
  },
  {
   "cell_type": "code",
   "execution_count": 120,
   "id": "99c34196-db8d-4bed-9dda-85c4210b6b6c",
   "metadata": {},
   "outputs": [
    {
     "name": "stdout",
     "output_type": "stream",
     "text": [
      "current best location:\n",
      " [-0.81644327 -0.91303287  0.70230129 -2.3737117   2.41173736 -0.54810815\n",
      "  0.76710885 -0.31725263 -2.1621021   0.00368007]\n"
     ]
    }
   ],
   "source": [
    "#localizações\n",
    "n = 10\n",
    "#quantidade de faíscas\n",
    "m = 50\n",
    "#dimensões\n",
    "d = 10\n",
    "#parâmetro para amplitude\n",
    "a = 20\n",
    "#faíscas gaussianas\n",
    "gauss = 15\n",
    "\n",
    "#Número de fogos na estratégia gaussiana\n",
    "m_hat = 5\n",
    "\n",
    "#minimo valor do espaço potencial\n",
    "xmin = -5\n",
    "\n",
    "#máximo valor do espaço potencial\n",
    "xmax = 5\n",
    "\n",
    "#Inicializando fogoso de artifício\n",
    "X = initialize_firework_locations(n, d, xmin, xmax)\n",
    "\n",
    "#Total de iterações\n",
    "explosion_generations = 10\n",
    "\n",
    "current_generation = 0\n",
    "\n",
    "    #f(X)\n",
    "y = np.zeros((n,1))\n",
    "for i in range(n):\n",
    "    y[i] = sphere_function(X[i])\n",
    "\n",
    "#best fit\n",
    "ymin = y.min()\n",
    "#worst fit\n",
    "ymax = y.max()\n",
    "\n",
    "#Numero de faíscas por fogo de artifício\n",
    "S = np.zeros((n,1))\n",
    "#Amplitude de cada fogo de artificio\n",
    "A = np.zeros((n,1))\n",
    "\n",
    "for i in range(n):\n",
    "    S[i] = sparks_number(y[i],y, m, ymax) \n",
    "    A[i] = explosion_amplitude(a, y[i],y, ymin)\n",
    "\n",
    "total_sparks = np.sum(S)\n",
    "new_locations = X\n",
    "generation = np.array((n,d))\n",
    "for i in range(n):\n",
    "    xi = X[i]\n",
    "    n_sparks = int(S[i][0])\n",
    "    sparks = np.zeros((n_sparks,d))\n",
    "    for j in range(n_sparks):\n",
    "        sparks[j] = obtain_location_of_spark(d, a, xmin, xmax, xi)\n",
    "    new_locations = np.vstack((new_locations, sparks)) \n",
    "\n",
    "random_fireworks = np.sort(np.random.choice(n,m_hat, replace=False))\n",
    "for i in range(m_hat):\n",
    "    xi = X[random_fireworks[i]]\n",
    "    gaussian_sparks = np.zeros((gauss,d))\n",
    "    for j in range(gauss):\n",
    "        gaussian_sparks[j] = gaussian_spark_location(xmin, xmax, d, xi)\n",
    "    new_locations = np.vstack((new_locations, gaussian_sparks)) \n",
    "total_locations = int(total_sparks) + n + m_hat*gauss\n",
    "fx_new_locations = np.zeros((total_locations, 1))\n",
    "for i in range(total_locations):\n",
    "    fx_new_locations[i] = sphere_function(new_locations[i])\n",
    "\n",
    "current_best_location = fx_new_locations.argmin()\n",
    "best_location = new_locations[current_best_location]\n",
    "new_locations = np.delete(new_locations, current_best_location,0)\n",
    "RX = np.zeros((total_locations -1, 1)) \n",
    "for i in range(total_locations-1):\n",
    "    RX[i] = general_distance(new_locations[i], new_locations, d)\n",
    "\n",
    "prob = np.zeros((total_locations, 1))\n",
    "sum_RX = np.sum(RX)\n",
    "for i in range(total_locations-1):\n",
    "    prob[i] = location_probability(sum_RX, RX[i],d)\n",
    "prob = prob.flatten()\n",
    "indexes = np.arange(total_locations)\n",
    "\n",
    "next_generation_selection = np.random.choice(indexes, n -1, p=prob, replace=False)\n",
    "\n",
    "X = np.zeros((n-1,d))\n",
    "for i in range(n-1):\n",
    "    X[i] = next_generation_selection[i]\n",
    "X = np.vstack((best_location, X))\n",
    "print(\"current best location:\\n\",best_location)\n"
   ]
  },
  {
   "cell_type": "code",
   "execution_count": 32,
   "id": "9b3be042-5c67-4d43-a84a-d08f9ab3c402",
   "metadata": {},
   "outputs": [
    {
     "name": "stdout",
     "output_type": "stream",
     "text": [
      "si:  [5.]\n",
      "fx:  [93.62072488]\n",
      "ymax:  114.62867243142851\n",
      "sum:  326.9434401436402\n",
      "ymax - y[0]/sum:  [0.0642556]\n",
      "m * ymax - fx/sum:  [3.2127801]\n"
     ]
    }
   ],
   "source": [
    "fx = y[4]\n",
    "si = sparks_number(fx, y, m, ymax)\n",
    "print(\"si: \",si)\n",
    "print(\"fx: \", fx)\n",
    "print(\"ymax: \",ymax)\n",
    "sum = np.sum(ymax - y)\n",
    "print(\"sum: \",sum)\n",
    "spark =  (ymax - fx)/sum\n",
    "print(\"ymax - y[0]/sum: \", spark)\n",
    "print(\"m * ymax - fx/sum: \",m* spark)"
   ]
  },
  {
   "cell_type": "code",
   "execution_count": 33,
   "id": "56efe737-12c4-4df2-af13-a9ec03370c0b",
   "metadata": {},
   "outputs": [
    {
     "data": {
      "text/plain": [
       "62.0"
      ]
     },
     "execution_count": 33,
     "metadata": {},
     "output_type": "execute_result"
    }
   ],
   "source": [
    "total_fireworks = np.sum(S)\n",
    "total_fireworks"
   ]
  },
  {
   "cell_type": "code",
   "execution_count": 34,
   "id": "7193aa09-db00-4fc9-b37b-76c9921842f1",
   "metadata": {},
   "outputs": [
    {
     "data": {
      "text/plain": [
       "array([1, 3, 4, 6, 9])"
      ]
     },
     "execution_count": 34,
     "metadata": {},
     "output_type": "execute_result"
    }
   ],
   "source": [
    "np.sort(np.random.choice(10,5, replace=False))"
   ]
  },
  {
   "cell_type": "code",
   "execution_count": 35,
   "id": "ca58e7d2-1bde-4acd-8e7d-e3ddc61ca11c",
   "metadata": {},
   "outputs": [
    {
     "data": {
      "text/plain": [
       "array([-0.5478428 , -2.49553569, -1.92993621, -0.19739772,  3.61693716,\n",
       "        1.18483508, -4.01740075,  3.27813369,  2.05261901,  0.37253318])"
      ]
     },
     "execution_count": 35,
     "metadata": {},
     "output_type": "execute_result"
    }
   ],
   "source": [
    "xi = X[0]\n",
    "gaussian_spark_location(xmin, xmax, d, xi)"
   ]
  },
  {
   "cell_type": "code",
   "execution_count": 36,
   "id": "90eab028-1b20-43c1-9d7b-4fed2600993b",
   "metadata": {},
   "outputs": [
    {
     "data": {
      "text/plain": [
       "array([ 3.63933362,  3.09253723, -3.43780373,  4.87334744, -4.98926002,\n",
       "       -0.13569889,  4.67454462, -3.85276055,  2.01691299, -1.35569374])"
      ]
     },
     "execution_count": 36,
     "metadata": {},
     "output_type": "execute_result"
    }
   ],
   "source": [
    "new_locations[101]"
   ]
  },
  {
   "cell_type": "code",
   "execution_count": 37,
   "id": "1e6d466f-b694-4100-9b14-c5abd2e73fe5",
   "metadata": {},
   "outputs": [
    {
     "data": {
      "text/plain": [
       "array([[ 3.74931957, -3.3901132 ,  1.00118681,  0.37352948,  2.27275181,\n",
       "         2.75840581, -4.75793008, -1.92461376, -0.58346312,  3.60840001],\n",
       "       [ 3.11565189,  0.25508467,  1.00118681,  0.37352948,  2.27275181,\n",
       "         2.75840581,  1.62290154,  3.44838199, -0.58346312,  3.98139576],\n",
       "       [ 0.67953011, -2.83756922, -0.01098129,  1.39157893,  1.25770793,\n",
       "         1.12968277, -2.62778941,  1.49368961,  1.60556048, -4.26494126],\n",
       "       [ 1.19488985, -1.69916705,  0.05020178,  1.39157893,  1.25770793,\n",
       "         1.12968277,  1.42872907, -4.99807856,  1.60556048, -4.44194145],\n",
       "       [ 1.14163011, -2.83756922,  0.05020178,  1.39157893,  3.53856236,\n",
       "         1.12968277,  4.74035321, -4.99807856,  1.60556048, -4.44194145],\n",
       "       [ 1.14163011, -4.32924973,  0.05881962,  0.32587392,  2.1696192 ,\n",
       "         1.12968277, -1.22136631, -2.21675928, -0.94576127, -4.47140739],\n",
       "       [ 0.21075148,  2.71972453,  0.04878913,  3.90705611,  1.91998087,\n",
       "         2.77552772,  3.22218671, -0.86427325,  2.79625459, -3.86046977],\n",
       "       [ 1.14163011, -2.83756922,  0.05020178,  1.39157893,  1.25770793,\n",
       "         1.12968277,  4.74035321, -4.99807856, -0.27597138, -4.44194145],\n",
       "       [ 1.14163011, -4.14479173,  0.09308255,  2.42931164,  1.77038478,\n",
       "         2.07300553,  4.98635085,  2.92252234,  2.13494436, -2.50723625],\n",
       "       [ 2.2743985 ,  1.01900871,  0.05020178,  1.68520263,  2.28571929,\n",
       "         0.38996027, -0.22303555, -4.85173051,  0.75530447,  2.89061275],\n",
       "       [ 0.23251472, -4.4670078 ,  0.05020178,  1.39157893,  1.25770793,\n",
       "         1.12968277,  0.57877994, -4.99807856,  1.60556048, -4.44194145],\n",
       "       [ 0.66559658,  3.19421014,  0.06970333,  0.8415944 ,  1.25770793,\n",
       "         1.12968277,  3.53597782, -4.32811617,  0.67608182, -3.99705617],\n",
       "       [ 1.14163011, -2.83756922,  0.05020178,  1.39157893,  1.25770793,\n",
       "         1.12968277,  4.74035321, -4.99807856,  3.00410297, -4.44194145],\n",
       "       [ 0.20416745, -2.83756922,  0.02312281,  1.39157893,  1.25770793,\n",
       "         1.12968277,  4.74035321,  4.91012486,  2.34193076, -4.44194145],\n",
       "       [ 2.45208122, -4.41072834,  0.05020178,  3.13931926,  1.46829747,\n",
       "         1.12968277,  4.74035321,  0.9836515 ,  1.60556048,  2.68475615],\n",
       "       [-1.1930368 , -0.69305331,  0.05020178,  3.82943229,  1.74817163,\n",
       "         4.54581472,  4.74035321,  3.39261187, -1.03165779, -4.44194145],\n",
       "       [ 1.14163011,  1.42397864,  0.05020178,  1.39157893,  1.25770793,\n",
       "         0.6828932 , -1.43217568, -4.99807856,  1.60556048, -4.44194145],\n",
       "       [ 0.1049075 ,  2.27517744,  3.88192635,  3.80188536,  0.66825488,\n",
       "         4.92118623,  2.70885439, -2.4245411 ,  4.83580419,  1.00158032],\n",
       "       [ 0.1049075 ,  4.50473691, -3.19672392,  3.80188536,  0.66068221,\n",
       "         4.92118623,  2.70885439, -2.4245411 ,  4.83580419,  1.00158032],\n",
       "       [ 0.15419161, -0.19639089,  0.84592973,  3.80188536, -0.15301885,\n",
       "        -4.46526616,  1.7535903 , -1.05544677, -2.68226922, -0.19701773],\n",
       "       [ 0.09988549,  0.05354477, -2.54946939,  0.77786865,  0.66825488,\n",
       "         4.92118623, -2.14401337, -4.87829792,  4.83580419,  0.08211229],\n",
       "       [ 0.12026904,  3.4692948 , -2.95116215,  3.80188536,  0.3062704 ,\n",
       "         4.32559472,  2.70885439, -1.76753083,  4.83580419,  1.26901938],\n",
       "       [ 0.32141697,  2.27517744, -3.19672392,  3.80188536,  0.66825488,\n",
       "         4.92118623,  2.70885439, -2.4245411 ,  4.83580419,  1.93062703],\n",
       "       [ 0.1049075 ,  2.27517744, -4.87759929,  3.80188536,  0.66825488,\n",
       "         4.92118623,  2.70885439, -2.4245411 ,  3.94076222, -0.9684725 ],\n",
       "       [-0.01507031,  2.27517744, -3.19672392,  3.80188536,  1.10380968,\n",
       "         4.92118623,  0.58289104,  0.58153546,  4.83580419,  1.00158032],\n",
       "       [ 0.2211906 ,  2.27517744, -3.97287081,  2.09574066,  0.66825488,\n",
       "         4.92118623,  2.70885439, -3.16122782,  4.83580419,  1.46279431],\n",
       "       [ 0.16573686,  2.25254163, -3.0348973 ,  2.61558454,  0.79898259,\n",
       "         1.24015847,  2.70885439, -4.00083059,  2.9842199 ,  1.41020417],\n",
       "       [ 0.1049075 ,  2.27517744, -3.19672392,  3.80188536,  0.66825488,\n",
       "         4.92118623,  2.70885439, -2.4245411 ,  4.83580419,  1.04763274],\n",
       "       [ 0.04462076,  2.27517744, -3.73086761,  3.80188536,  0.25702973,\n",
       "         4.92118623,  2.70885439, -3.45843891,  3.44862482,  1.93120839],\n",
       "       [ 0.1049075 ,  1.4785813 , -3.54549148,  3.80188536,  1.20041067,\n",
       "         0.17497896,  2.70885439, -4.02454721,  4.83580419,  1.54730958],\n",
       "       [ 0.1049075 ,  2.27517744, -1.30189133,  3.80188536,  0.66825488,\n",
       "         0.30992726,  4.19388434, -2.4245411 ,  4.30318084,  1.28100037],\n",
       "       [ 0.1049075 ,  0.22851603, -3.19672392,  3.80188536,  1.10373091,\n",
       "         4.92118623,  2.70885439, -4.22215879,  4.83580419,  1.00158032],\n",
       "       [ 3.63933362,  3.09253723, -3.43780373,  4.87334744, -4.98926002,\n",
       "        -0.13569889,  4.67454462, -3.85276055,  2.01691299, -1.35569374],\n",
       "       [ 0.40885704,  1.43072405, -3.21686683,  4.17923582, -4.98926002,\n",
       "        -0.321442  ,  3.29865066,  2.71298828, -0.75340197, -0.38104371],\n",
       "       [ 4.07916355,  3.00032715, -3.43780373,  4.17923582, -4.98926002,\n",
       "        -0.13569889,  4.67454462, -3.85276055,  2.62313166, -1.35569374],\n",
       "       [-0.49793231,  2.3181768 , -2.9482794 ,  4.17923582,  0.23231477,\n",
       "        -0.22507321,  2.21930769, -3.85276055,  2.62313166, -1.35569374],\n",
       "       [ 3.43272805,  1.79876564, -3.43780373,  4.17923582, -4.98926002,\n",
       "        -0.13569889,  4.67454462, -3.85276055,  2.62313166, -1.35569374],\n",
       "       [ 3.43272805,  1.79876564, -3.43780373,  4.17923582, -4.98926002,\n",
       "        -0.13569889,  4.67454462, -3.85276055,  2.62313166, -1.35569374],\n",
       "       [ 3.43272805,  2.94768686, -2.97405228,  4.17923582,  1.42608349,\n",
       "        -0.00707455,  4.68932935, -1.7661927 ,  2.57512895, -1.35569374],\n",
       "       [ 1.77784142,  1.79876564, -3.75462531,  3.39528887, -4.56448829,\n",
       "        -0.36382662, -2.68729108,  2.63315833,  4.63775484, -0.4389243 ],\n",
       "       [-1.30388733,  1.79876564, -3.43780373,  4.17923582, -4.98926002,\n",
       "        -0.21256215,  4.67454462, -2.67760642,  2.62313166, -1.35569374],\n",
       "       [-2.24071887, -0.09438477,  3.97964441,  4.17923582,  2.69105398,\n",
       "        -0.13569889,  4.67454462,  4.89600089, -0.93686375, -1.35569374],\n",
       "       [ 1.65661896,  1.56306138, -3.43780373,  3.03143513, -0.33155428,\n",
       "        -0.11066091,  3.67180906, -1.92068789,  2.62313166, -1.38387923],\n",
       "       [ 3.43272805,  3.92809685, -1.23782373,  4.17923582, -4.98926002,\n",
       "        -0.25202357,  3.51140928, -3.85276055,  1.49902027,  0.03928727],\n",
       "       [ 3.43272805,  1.79876564, -3.43780373,  4.17923582, -4.98926002,\n",
       "        -0.32959232,  2.7645347 , -3.85276055,  3.55926039, -1.35569374],\n",
       "       [ 2.80257532, -0.30006461, -3.43780373,  0.08401481, -4.98926002,\n",
       "        -0.28183656,  1.81230395,  1.34774057,  2.62313166, -1.35569374],\n",
       "       [ 1.06594052,  1.79876564, -3.43780373,  4.17923582, -4.98926002,\n",
       "        -0.13569889,  4.67454462, -3.85276055,  2.62313166, -1.35569374],\n",
       "       [ 4.09508966,  2.48747549,  1.18462271, -0.45809482,  3.89215643,\n",
       "         0.74700575,  4.75540151,  4.00374869, -4.69743651, -0.46173685],\n",
       "       [ 2.9349214 ,  3.05487241, -0.3197079 ,  0.56240517, -4.11640276,\n",
       "        -3.22082928,  1.5980263 ,  1.17188373, -4.3185209 , -0.61114992],\n",
       "       [ 3.92359179,  2.48747549,  1.16454843,  0.56240517, -2.75046702,\n",
       "        -2.84086796,  4.341315  ,  4.00374869, -4.11919274, -0.46173685],\n",
       "       [-4.78677506,  1.85847124,  2.41100986,  0.56240517,  2.94747952,\n",
       "        -4.76222267,  4.0909036 ,  4.00374869,  0.85407831, -0.48232177],\n",
       "       [ 4.32533966,  2.48747549,  2.53065662, -0.51769529, -1.71511619,\n",
       "         2.52487908,  4.341315  ,  4.00374869, -4.11919274, -0.46173685],\n",
       "       [-3.56694711,  1.5111334 ,  1.16454843,  0.56240517, -1.26037514,\n",
       "        -0.60789557,  4.341315  ,  2.35542777, -4.12209119, -0.46173685],\n",
       "       [ 3.92359179,  2.48747549, -0.35902957,  1.63815633,  1.67950325,\n",
       "        -3.20219593, -1.75459646,  2.78257325,  3.82020286, -0.4939073 ],\n",
       "       [ 3.92359179,  2.48747549,  1.16454843,  0.56240517, -3.19963205,\n",
       "        -2.84086796,  4.341315  ,  4.00374869, -4.11919274, -0.46173685],\n",
       "       [ 3.18376337,  0.23651491,  0.78446399,  0.51385546,  1.83080677,\n",
       "        -2.84086796,  3.93229548, -3.80309176, -4.11919274, -0.35681301],\n",
       "       [ 1.44993338,  2.48747549,  1.42073415,  0.56240517, -2.09510971,\n",
       "        -1.03513902,  4.341315  , -0.49893004, -4.89382244, -0.46173685],\n",
       "       [ 3.92359179,  2.48747549,  1.76460392,  0.2596162 , -3.19963205,\n",
       "        -2.84086796,  4.86064826,  3.84876477,  4.49769352, -0.48985688],\n",
       "       [ 3.92359179,  2.48747549,  0.61036266,  0.56240517,  1.37565398,\n",
       "        -2.84086796, -2.25295882, -3.41612546, -1.83654083, -0.46173685],\n",
       "       [ 3.92359179,  2.48747549, -0.35079251,  0.56240517, -3.19963205,\n",
       "        -2.84086796,  1.995371  , -1.42544974, -4.11919274, -0.0077214 ],\n",
       "       [ 2.68946363,  2.46670458,  0.60561318,  0.56240517, -2.46438273,\n",
       "        -1.66913068,  2.79675184,  4.00374869, -4.11919274, -0.46173685],\n",
       "       [-1.44851497,  0.96866542,  1.16454843,  1.15516464, -1.57230586,\n",
       "         2.00648129,  4.341315  ,  1.28242821,  4.76454746, -0.40314145],\n",
       "       [-4.55206505, -0.51597597,  1.66178248,  1.07009229,  0.01467033,\n",
       "         2.16069517, -2.89014107, -1.22068723,  2.30555753,  2.72448583],\n",
       "       [-4.55206505, -1.40907697,  1.50788842,  1.07009229, -3.09054334,\n",
       "        -2.25952464, -4.97322757, -1.22068723,  3.96093492,  1.50770255],\n",
       "       [-4.7078814 , -0.51597597,  1.50788842,  1.07009229, -3.09054334,\n",
       "         1.21073771, -2.90304914, -1.22068723,  1.26551983,  0.47216375],\n",
       "       [ 0.19201914, -0.51597597, -0.19713853,  1.07009229, -3.51231173,\n",
       "         1.78087564, -4.78729632, -1.22068723,  2.30555753,  1.02241239],\n",
       "       [-4.55206505, -1.4784302 ,  1.50788842,  1.07009229,  0.40494291,\n",
       "         1.78087564, -2.89014107, -1.22068723,  2.30555753, -4.20599306],\n",
       "       [ 0.41820108, -0.91574506,  1.04401881,  2.07259932, -4.5227177 ,\n",
       "         1.78087564, -2.89014107, -2.52233544,  2.30555753,  0.53752189],\n",
       "       [-4.55206505, -1.54686385,  0.51919302,  2.23792671, -1.80012364,\n",
       "         1.01475259,  3.2277397 , -2.08761936,  2.30555753, -3.78520099],\n",
       "       [ 4.68382938, -0.51597597,  4.79651035,  1.07009229, -3.09054334,\n",
       "         1.78087564, -2.89014107, -1.22068723,  2.30555753, -3.78520099],\n",
       "       [-4.55206505, -0.23997532,  4.25816887,  0.7855292 , -3.09054334,\n",
       "        -0.60396483,  1.72839725, -2.01298341,  2.9101693 ,  2.38417857],\n",
       "       [-4.55206505, -0.61886305,  1.8375549 ,  1.07009229,  0.29855018,\n",
       "         0.87260291,  2.10495603, -3.07395713,  2.49195942, -3.78520099],\n",
       "       [-4.55206505, -0.51597597,  1.50788842,  1.07009229, -3.09054334,\n",
       "         0.05493133, -2.89014107, -1.22068723,  2.30555753, -3.78520099],\n",
       "       [-4.55206505, -0.51597597,  1.50788842,  2.31374614, -0.15300089,\n",
       "         2.91223725,  3.00316545, -1.28140656, -0.09163285, -3.78520099],\n",
       "       [-4.97632589, -0.55698243,  1.62528917,  0.18540546, -2.92453805,\n",
       "         0.54566333, -2.89014107, -2.41946209,  2.30555753, -3.78520099],\n",
       "       [ 2.236991  , -0.37379062,  1.50788842,  1.07009229, -4.74484229,\n",
       "         1.78087564, -2.89014107, -2.7613183 ,  2.30555753,  1.51596339],\n",
       "       [-4.55206505, -0.51597597,  1.50788842,  1.07009229, -3.09054334,\n",
       "         0.76730583, -4.92886089, -1.22068723,  2.30555753, -3.78520099]])"
      ]
     },
     "execution_count": 37,
     "metadata": {},
     "output_type": "execute_result"
    }
   ],
   "source": [
    "new_locations[69:]"
   ]
  },
  {
   "cell_type": "code",
   "execution_count": 38,
   "id": "6f0778b1-7c9a-4366-83a8-897abde2376f",
   "metadata": {},
   "outputs": [
    {
     "data": {
      "text/plain": [
       "70"
      ]
     },
     "execution_count": 38,
     "metadata": {},
     "output_type": "execute_result"
    }
   ],
   "source": [
    "current_best_location"
   ]
  },
  {
   "cell_type": "code",
   "execution_count": 71,
   "id": "fcd74e41-c782-4111-8409-d6d5e042c39f",
   "metadata": {},
   "outputs": [
    {
     "ename": "IndexError",
     "evalue": "invalid index to scalar variable.",
     "output_type": "error",
     "traceback": [
      "\u001b[1;31m---------------------------------------------------------------------------\u001b[0m",
      "\u001b[1;31mIndexError\u001b[0m                                Traceback (most recent call last)",
      "Cell \u001b[1;32mIn[71], line 1\u001b[0m\n\u001b[1;32m----> 1\u001b[0m \u001b[43mnext_generation_selection\u001b[49m\u001b[43m[\u001b[49m\u001b[38;5;241;43m0\u001b[39;49m\u001b[43m]\u001b[49m\n",
      "\u001b[1;31mIndexError\u001b[0m: invalid index to scalar variable."
     ]
    }
   ],
   "source": [
    "next_generation_selection[0]"
   ]
  },
  {
   "cell_type": "code",
   "execution_count": 97,
   "id": "2866c205-bc94-4b67-8336-44782e5b68d6",
   "metadata": {},
   "outputs": [
    {
     "name": "stdout",
     "output_type": "stream",
     "text": [
      "(146,)\n",
      "[0.00867243 0.00703491 0.0067689  0.00628979 0.00690984 0.00601012\n",
      " 0.00772303 0.00768895 0.00624476 0.00636884 0.00812837 0.00950169\n",
      " 0.00767612 0.00705985 0.00794581 0.00711201 0.00713    0.00732064\n",
      " 0.00727127 0.0067499  0.00641714 0.00715639 0.0081243  0.0079248\n",
      " 0.00865838 0.00648492 0.0060099  0.00663166 0.00645732 0.00580073\n",
      " 0.00739646 0.00673709 0.00691657 0.00793621 0.00599925 0.00686246\n",
      " 0.00691302 0.00653242 0.00616618 0.00604553 0.00685695 0.00631654\n",
      " 0.00623073 0.00669889 0.00739735 0.00772303 0.00679738 0.00772303\n",
      " 0.0070962  0.00769722 0.00783018 0.00746205 0.006026   0.00721861\n",
      " 0.00574362 0.006673   0.00624476 0.00617448 0.00683413 0.00601342\n",
      " 0.00735298 0.00596702 0.00782632 0.00768042 0.00708799 0.00679616\n",
      " 0.00766761 0.00633692 0.00771842 0.00704899 0.00787659 0.00729126\n",
      " 0.00694156 0.0068163  0.00810337 0.00772671 0.0081495  0.00816535\n",
      " 0.00771402 0.00841735 0.00792841 0.00886334 0.00739703 0.00819531\n",
      " 0.00849057 0.0062153  0.00650235 0.00698255 0.00642763 0.00703491\n",
      " 0.00708244 0.00725978 0.00704681 0.00640075 0.0065302  0.00704837\n",
      " 0.00728655 0.00715424 0.00663063 0.00746128 0.00639631 0.00731324\n",
      " 0.00660943 0.00673516 0.00724467 0.00773958 0.00671617 0.00690984\n",
      " 0.00644579 0.0070051  0.00692378 0.00693507 0.0068991  0.00667078\n",
      " 0.00687978 0.00638102 0.00618567 0.00590596 0.00601012 0.00592787\n",
      " 0.00584263 0.0061552  0.00686944 0.00615604 0.00601012 0.00630363\n",
      " 0.00556225 0.0060742  0.00614992 0.00592281 0.00553792 0.00536687\n",
      " 0.00605633 0.00591029 0.00626543 0.00580765 0.00650931 0.00624476\n",
      " 0.00639474 0.00623936 0.00663263 0.00622726 0.00626055 0.00646531\n",
      " 0.00704208 0.        ]\n",
      "NEXT GEN SIZE:  145\n",
      "total locations: 146\n"
     ]
    }
   ],
   "source": [
    "print(indexes.shape)\n",
    "print(prob)\n",
    "next_gen = np.random.choice(indexes, total_locations -1, p=prob, replace=False)\n",
    "print(\"NEXT GEN SIZE: \", len(next_gen))\n",
    "print(\"total locations:\", total_locations)"
   ]
  },
  {
   "cell_type": "code",
   "execution_count": null,
   "id": "e4fa01c5-121c-42d9-a657-df9585b54370",
   "metadata": {},
   "outputs": [],
   "source": []
  },
  {
   "cell_type": "code",
   "execution_count": null,
   "id": "6dfed967-74bb-40e9-8023-efdfdd636f3d",
   "metadata": {},
   "outputs": [],
   "source": []
  },
  {
   "cell_type": "code",
   "execution_count": null,
   "id": "26da0203-ce73-4be1-86bf-72be1066563b",
   "metadata": {},
   "outputs": [],
   "source": []
  }
 ],
 "metadata": {
  "kernelspec": {
   "display_name": "Python 3 (ipykernel)",
   "language": "python",
   "name": "python3"
  },
  "language_info": {
   "codemirror_mode": {
    "name": "ipython",
    "version": 3
   },
   "file_extension": ".py",
   "mimetype": "text/x-python",
   "name": "python",
   "nbconvert_exporter": "python",
   "pygments_lexer": "ipython3",
   "version": "3.12.1"
  }
 },
 "nbformat": 4,
 "nbformat_minor": 5
}
