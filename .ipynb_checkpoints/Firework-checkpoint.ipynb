{
 "cells": [
  {
   "cell_type": "markdown",
   "id": "1e0cda56-6a7d-49a2-963b-35741b661b0e",
   "metadata": {},
   "source": [
    "# Firework Algorithm for Optimization"
   ]
  },
  {
   "cell_type": "markdown",
   "id": "2fc3c065-cc14-419c-a288-a555fa1bba03",
   "metadata": {},
   "source": [
    "- Autores originais: [*Ying Tan*](https://scholar.google.com/citations?user=PjNxSPsAAAAJ&hl=en) e [*Yuanchun Zhu*](https://ieeexplore.ieee.org/author/38008573100)\n",
    "- Ano de Publicação: 2010\n",
    "- Editora: [Springer](https://link.springer.com/chapter/10.1007/978-3-642-13495-1_44)\n",
    "- Conferência: [Advances in Swarm Intelligence](https://link.springer.com/book/10.1007/978-3-642-13495-1): First International Conference, ICSI 2010, Beijing, China, June 12-15, 2010, Proceedings, Part I 1"
   ]
  },
  {
   "cell_type": "markdown",
   "id": "9fe326d5-4a8d-417d-a39a-298681ffa22c",
   "metadata": {},
   "source": [
    "## Descrição:\n",
    "FA é um algoritmo de inteligência de enxames inspirado na explosão de fogos de artifício. Esse algoritmo é utilizado para a otimização global de funções complexas. São fornecidos dois processos de *“explosão”* (busca) e os mecanismos para manter a diversidade das *“faíscas”*."
   ]
  },
  {
   "cell_type": "code",
   "execution_count": 107,
   "id": "df7392b0-63a7-47e2-b9f9-bf26c29e771b",
   "metadata": {},
   "outputs": [],
   "source": [
    "import numpy as np\n",
    "import pandas as pd\n",
    "import random"
   ]
  },
  {
   "cell_type": "markdown",
   "id": "7898d621-7e52-4be9-b32c-3a6f9fe06528",
   "metadata": {},
   "source": [
    "## Funções Objetivos"
   ]
  },
  {
   "cell_type": "code",
   "execution_count": 108,
   "id": "728b6b8e-42ea-4597-a27b-89f3a0c6df38",
   "metadata": {},
   "outputs": [],
   "source": [
    "def sphere_function(x):\n",
    "    result = x**2\n",
    "    return np.sum(result)"
   ]
  },
  {
   "cell_type": "code",
   "execution_count": 109,
   "id": "2825a317-31a2-442a-8b5d-f463a4ed5dc9",
   "metadata": {},
   "outputs": [],
   "source": [
    "def rastrigin(x):\n",
    "    n = len(x)\n",
    "    total = 0\n",
    "    total = x**2 - 10*np.cos(2*np.pi*x)\n",
    "    return (10*n) + total"
   ]
  },
  {
   "cell_type": "code",
   "execution_count": 110,
   "id": "8451e066-dfd4-41d2-8964-8b5abb373a60",
   "metadata": {},
   "outputs": [],
   "source": [
    "def rosenbrook(x):\n",
    "    n = len(x)\n",
    "    term1 = 100 * (x[1:] - x[:-1]**2)**2\n",
    "    temr2 = (x[1:] -1)**2\n",
    "    sumterm = np.sum(term1 + term2)\n",
    "    return sumterm"
   ]
  },
  {
   "cell_type": "code",
   "execution_count": 111,
   "id": "ddd311c0-2c71-4aa5-bb5e-02007411fd38",
   "metadata": {},
   "outputs": [],
   "source": [
    "def ackley(x):\n",
    "    n = len(x)\n",
    "    sum1 = np.sum(x*2)\n",
    "    sum2 = np.sum(np.cos(2 * np.pi * x**2))\n",
    "    term1 = -20 * np.exp(-0.2 * np.sqrt(1/n * sum1))\n",
    "    term2 = -np.exp(1/n * sum2)\n",
    "    return term1 + term2 + 20 + np.exp(1)"
   ]
  },
  {
   "cell_type": "markdown",
   "id": "04680570-c1a8-4b3b-b36a-8eb276e3e11e",
   "metadata": {},
   "source": [
    "### Distribuição Gaussiana:"
   ]
  },
  {
   "cell_type": "code",
   "execution_count": 112,
   "id": "7d942653-1873-4892-9ece-4a30c3b7dec1",
   "metadata": {},
   "outputs": [
    {
     "data": {
      "text/plain": [
       "1.1112582793885282"
      ]
     },
     "execution_count": 112,
     "metadata": {},
     "output_type": "execute_result"
    }
   ],
   "source": [
    "value = random.gauss(1,1)\n",
    "value"
   ]
  },
  {
   "cell_type": "markdown",
   "id": "be09e63e-3449-4ab8-86ee-abacb2e752aa",
   "metadata": {},
   "source": [
    "### Distribuição Uniforme:"
   ]
  },
  {
   "cell_type": "code",
   "execution_count": 113,
   "id": "5e514605-57b3-4bdb-999b-48f9aa5d0b8c",
   "metadata": {
    "scrolled": true
   },
   "outputs": [
    {
     "data": {
      "text/plain": [
       "-0.6428649012705234"
      ]
     },
     "execution_count": 113,
     "metadata": {},
     "output_type": "execute_result"
    }
   ],
   "source": [
    "value = random.uniform(-1,1)\n",
    "value"
   ]
  },
  {
   "cell_type": "markdown",
   "id": "dc883867-78eb-4d39-b8d8-5a5a5381ab2b",
   "metadata": {},
   "source": [
    "## Inicializando posições dos Fogos de Artifício:"
   ]
  },
  {
   "cell_type": "code",
   "execution_count": 114,
   "id": "fac67c24-d258-4ab2-b757-b7567e4c1580",
   "metadata": {},
   "outputs": [],
   "source": [
    "def initialize_firework_locations(shape, xmin, xmax):\n",
    "    fireworks = xmin + (xmax - xmin) * np.random.rand(shape)\n",
    "    return fireworks"
   ]
  },
  {
   "cell_type": "code",
   "execution_count": 115,
   "id": "abd7686f-f9da-4075-b948-30232a59db49",
   "metadata": {
    "scrolled": true
   },
   "outputs": [
    {
     "data": {
      "text/plain": [
       "array([ 2.16398112, -0.79380139,  4.59024193,  0.87849134, -3.57482512])"
      ]
     },
     "execution_count": 115,
     "metadata": {},
     "output_type": "execute_result"
    }
   ],
   "source": [
    "fireworks = initialize_firework_locations(5, -5.12, 5.12)\n",
    "fireworks"
   ]
  },
  {
   "cell_type": "markdown",
   "id": "cdede3b5-14d3-49c9-a20d-e0b5b06c3ad1",
   "metadata": {},
   "source": [
    "## Calculando o número de faíscas:"
   ]
  },
  {
   "cell_type": "code",
   "execution_count": 311,
   "id": "bace2692-922f-4cd4-9035-2a076c09189e",
   "metadata": {},
   "outputs": [],
   "source": [
    "def sparks_number(fx, fX, m, ymax, eps=.00001):\n",
    "    sum_difference_of_worst_fit_and_fx = np.sum(ymax-fX) + eps\n",
    "    difference_of_max_and_fx = (ymax - fx + eps)\n",
    "    s = m * difference_of_max_and_fx/sum_difference_of_worst_fit_and_fx\n",
    "    print(\"sparks quantity: \", s)\n",
    "    s = firework_boundaries(0.1, 0.8, m, s)\n",
    "    return s"
   ]
  },
  {
   "cell_type": "code",
   "execution_count": 293,
   "id": "2ef8f270-37b5-43a2-be18-82c8b536c61f",
   "metadata": {},
   "outputs": [],
   "source": [
    "def firework_boundaries(a, b, m, s):\n",
    "    term1 = np.round(a*m) * (s < (a*m))\n",
    "    term2 = np.round(b*m) * (s> b*m)\n",
    "    term3 = np.round(s) * (~(s < (a*m)) & ~((s > b *m) & (a<b<1)))\n",
    "    s_new = term1 + term2 + term3\n",
    "    return s_new"
   ]
  },
  {
   "cell_type": "code",
   "execution_count": 118,
   "id": "53de897b-256f-4d50-9fce-eb51cecfe306",
   "metadata": {},
   "outputs": [
    {
     "data": {
      "text/plain": [
       "1.0"
      ]
     },
     "execution_count": 118,
     "metadata": {},
     "output_type": "execute_result"
    }
   ],
   "source": [
    "x = np.array([45.2,0.2,56.5, 2.8, 1.9])\n",
    "fx = sphere_function(x)\n",
    "m = 10\n",
    "ymax = x.max()\n",
    "sparks_number(fx, m, ymax)"
   ]
  },
  {
   "cell_type": "markdown",
   "id": "d93e5b8c-1f72-4d4d-990f-68d200bde4dd",
   "metadata": {},
   "source": [
    "## Obtendo localização das Faíscas:"
   ]
  },
  {
   "cell_type": "markdown",
   "id": "1bbb5317-8561-42ad-be63-235907cc0d26",
   "metadata": {},
   "source": [
    "### Seletor de dimensões aleatório"
   ]
  },
  {
   "cell_type": "code",
   "execution_count": 119,
   "id": "4eadfcfc-babd-47a3-baad-8083bd703f77",
   "metadata": {},
   "outputs": [],
   "source": [
    "def random_dimension_selector(d):\n",
    "    xj = np.zeros(d)\n",
    "    z = round(d * random.uniform(0,1))\n",
    "    random_dimensions = np.random.choice(d, z, replace=False)\n",
    "    for i in random_dimensions:\n",
    "        xj[i] = 1\n",
    "    return xj\n",
    "    "
   ]
  },
  {
   "cell_type": "markdown",
   "id": "9d94fcba-7173-4854-b0ac-8b9acd763630",
   "metadata": {},
   "source": [
    "### Amplitude de explosão"
   ]
  },
  {
   "cell_type": "code",
   "execution_count": 314,
   "id": "44b3e10e-05de-4191-80b9-0b4b15d11faf",
   "metadata": {},
   "outputs": [],
   "source": [
    "def explosion_amplitude(A_hat, fx,fX, ymin, eps=.00001):\n",
    "    sum_difference_of_fx_and_best_fit = np.sum(fX - ymin) + eps\n",
    "    difference_of_fx_and_min = (fx - ymin + eps)\n",
    "    A = A_hat * difference_of_fx_and_min/sum_difference_of_fx_and_best_fit\n",
    "    return A"
   ]
  },
  {
   "cell_type": "code",
   "execution_count": 121,
   "id": "0a3c19f6-6eb9-4c3e-b7ee-088680fac9e1",
   "metadata": {},
   "outputs": [
    {
     "data": {
      "text/plain": [
       "0"
      ]
     },
     "execution_count": 121,
     "metadata": {},
     "output_type": "execute_result"
    }
   ],
   "source": [
    "d = 6\n",
    "round(6 * random.uniform(0,1))"
   ]
  },
  {
   "cell_type": "code",
   "execution_count": 122,
   "id": "74b54fa6-a6f0-435f-979b-ee56144ae217",
   "metadata": {},
   "outputs": [
    {
     "data": {
      "text/plain": [
       "352.70000283526997"
      ]
     },
     "execution_count": 122,
     "metadata": {},
     "output_type": "execute_result"
    }
   ],
   "source": [
    "A_hat = 10\n",
    "x = np.array([1.3, 5.2, 2.8])\n",
    "fx = sphere_function(x)\n",
    "ymin = x.min()\n",
    "\n",
    "explosion_amplitude(A_hat, fx, ymin)"
   ]
  },
  {
   "cell_type": "markdown",
   "id": "01ea8816-9fc6-4184-b410-1a36db11808a",
   "metadata": {},
   "source": [
    "### Obtendo faísca: Estratégia da Explosão"
   ]
  },
  {
   "cell_type": "code",
   "execution_count": 203,
   "id": "cb6377ea-839c-49f5-8f93-47c17dfdd1bf",
   "metadata": {},
   "outputs": [],
   "source": [
    "def obtain_location_of_spark(d, amp, xmin, xmax, xi):\n",
    "    #selecting z dimensions to be affected\n",
    "    xj = xi\n",
    "    random_selected_positions = random_dimension_selector(d) \n",
    "    h = amp * random.uniform(-1 ,1) \n",
    "    random_affected_dimensions = xj + (random_selected_positions* h)\n",
    "    #mapping affected dimensions to potential space\n",
    "    random_affected_dimensions = map_to_potential_space(xmin, xmax, random_affected_dimensions)\n",
    "    return random_affected_dimensions"
   ]
  },
  {
   "cell_type": "markdown",
   "id": "fab877e2-6934-4d5a-9d2c-ebf21b8c7845",
   "metadata": {},
   "source": [
    "### Mapeamento para espaço potencial:"
   ]
  },
  {
   "cell_type": "code",
   "execution_count": 124,
   "id": "e901366d-9f1c-4cb3-a68e-51fa10aee246",
   "metadata": {},
   "outputs": [],
   "source": [
    "def map_to_potential_space(xmin, xmax, affected):\n",
    "    inbound = xmin + abs(affected)%(xmax - xmin)\n",
    "    term1 = (affected > xmax) * inbound\n",
    "    term2 =  (affected < xmin) * inbound\n",
    "    fixed_bounds = term1 + term2\n",
    "    mapping = (fixed_bounds == 0) * affected + fixed_bounds \n",
    "    return mapping"
   ]
  },
  {
   "cell_type": "code",
   "execution_count": null,
   "id": "208dfb9f-b37a-4c13-b357-47665cc98a56",
   "metadata": {},
   "outputs": [],
   "source": []
  },
  {
   "cell_type": "code",
   "execution_count": 189,
   "id": "7e01f952-05d0-4315-ac01-f125461b5062",
   "metadata": {
    "scrolled": true
   },
   "outputs": [
    {
     "name": "stdout",
     "output_type": "stream",
     "text": [
      "xj [0.38381748 0.59534831 0.83106449]\n",
      "random selected positions [0. 1. 0.]\n"
     ]
    },
    {
     "data": {
      "text/plain": [
       "array([ 0.38381748, -3.64458658,  0.83106449])"
      ]
     },
     "execution_count": 189,
     "metadata": {},
     "output_type": "execute_result"
    }
   ],
   "source": [
    "xi = np.random.rand(3)\n",
    "xmin = np.array([-3.12, -4.5, -6.6])\n",
    "xmax = np.array([3.12, 4.5, 6.6])\n",
    "d = 3\n",
    "amp = 5\n",
    "obtain_location_of_spark(d, amp, xmin, xmax, xi)"
   ]
  },
  {
   "cell_type": "markdown",
   "id": "597dafe7-6baa-4737-b57e-cc3e098c8f0f",
   "metadata": {},
   "source": [
    "### Obtendo faísca: Estratégia de Faíscas Gaussianas:"
   ]
  },
  {
   "cell_type": "code",
   "execution_count": 126,
   "id": "5d306158-65c4-44f1-9a59-8a626a775238",
   "metadata": {},
   "outputs": [],
   "source": [
    "def gaussian_spark_location(xmin, xmax, d, xi):\n",
    "    xj = xi\n",
    "    random_dimensions_selected = random_dimension_selector(d)\n",
    "    random_affected_dimensions = xj * (random_dimensions_selected * np.random.normal(1,1,d))\n",
    "    random_affected_dimensions = map_to_potential_space(xmin, xmax, random_affected_dimensions)\n",
    "    return random_affected_dimensions"
   ]
  },
  {
   "cell_type": "code",
   "execution_count": 127,
   "id": "1bcc32a9-cffa-4b8b-bbe7-ee4797cfb6a4",
   "metadata": {},
   "outputs": [
    {
     "data": {
      "text/plain": [
       "array([2.27430189, 0.02124222, 0.21764734])"
      ]
     },
     "execution_count": 127,
     "metadata": {},
     "output_type": "execute_result"
    }
   ],
   "source": [
    "d =3\n",
    "np.random.normal(1,1,d)"
   ]
  },
  {
   "cell_type": "code",
   "execution_count": 128,
   "id": "ef0ba3da-7367-4f2b-826a-f132aacbfd0e",
   "metadata": {},
   "outputs": [
    {
     "data": {
      "text/plain": [
       "array([0.9886992 , 0.88053157, 0.73505757])"
      ]
     },
     "execution_count": 128,
     "metadata": {},
     "output_type": "execute_result"
    }
   ],
   "source": [
    "np.random.rand(3)"
   ]
  },
  {
   "cell_type": "markdown",
   "id": "c5d2f1bb-0fd5-4368-82a3-d06b2da61b9a",
   "metadata": {},
   "source": [
    "## Seleção de Localizações:"
   ]
  },
  {
   "cell_type": "markdown",
   "id": "022aa1ec-c179-4c6d-a11a-e045c36bca2c",
   "metadata": {},
   "source": [
    "### Calculando Distância Geral:"
   ]
  },
  {
   "cell_type": "code",
   "execution_count": 129,
   "id": "a1884995-4ec6-416a-882f-4743027c6654",
   "metadata": {},
   "outputs": [],
   "source": [
    "def general_distance(xi , X, d):\n",
    "    sum_of_distances = 0\n",
    "    for xj in X:\n",
    "        sum_of_distances += np.sum(abs(xi - xj))\n",
    "    return sum_of_distances"
   ]
  },
  {
   "cell_type": "markdown",
   "id": "122ec7a2-5d48-4032-be21-65c608dd0663",
   "metadata": {},
   "source": [
    "#### Testando função:"
   ]
  },
  {
   "cell_type": "code",
   "execution_count": 130,
   "id": "5416dc45-4b85-49f7-ab25-0cd093836f03",
   "metadata": {},
   "outputs": [],
   "source": [
    "n1 = np.array([3,-8,2])\n",
    "n2 = np.array([[3,-8,2], [2,.9,12], [1,3,5]])\n",
    "distance = general_distance(n1, n2, 3)\n",
    "general_distance_of_fireworks_and_sparks = 0\n",
    "for i in n2:\n",
    "    general_distance_of_fireworks_and_sparks += general_distance(i, n2, d)\n",
    "\n",
    "general_distance_n1 = general_distance(n1, n2, 3)\n",
    "prob = location_probability(general_distance_of_fireworks_and_sparks, general_distance_n1, 3)"
   ]
  },
  {
   "cell_type": "markdown",
   "id": "22014bb4-30d2-4b8c-a46c-43697ab2ba06",
   "metadata": {},
   "source": [
    "### Calculando probabilidade de seleção:"
   ]
  },
  {
   "cell_type": "code",
   "execution_count": 248,
   "id": "cc941bca-a314-42e6-8469-6cdc713ba1aa",
   "metadata": {},
   "outputs": [],
   "source": [
    "def location_probability(RX, Rxi,d):\n",
    "    pxi = Rxi/RX\n",
    "    return pxi"
   ]
  },
  {
   "cell_type": "markdown",
   "id": "caa8799a-f80d-474a-ac61-5d0e4e98076d",
   "metadata": {},
   "source": [
    "## Framework ALgoritmo de Otimização Fogos de Artifício:"
   ]
  },
  {
   "cell_type": "code",
   "execution_count": 315,
   "id": "99c34196-db8d-4bed-9dda-85c4210b6b6c",
   "metadata": {},
   "outputs": [
    {
     "name": "stdout",
     "output_type": "stream",
     "text": [
      "sparks quantity:  [2.30092433]\n",
      "sparks quantity:  [2.20209388]\n",
      "sparks quantity:  [1.69246135]\n",
      "sparks quantity:  [1.50746977]\n",
      "sparks quantity:  [3.27352241]\n",
      "sparks quantity:  [2.53095436]\n",
      "sparks quantity:  [2.3595417]\n",
      "sparks quantity:  [1.45529596]\n",
      "sparks quantity:  [2.67773884]\n",
      "sparks quantity:  [3.25014675e-07]\n",
      "example X[0]:  [ 2.75446183  2.62761241  0.60667137 -1.49108967 -3.36334301  2.23952133\n",
      "  2.19982507  3.91622487  2.33619261 -3.81044291]\n",
      "objective function f(X[0]):  [73.56365613]\n",
      "sparks per firework:\n",
      " [[2.]\n",
      " [2.]\n",
      " [2.]\n",
      " [2.]\n",
      " [3.]\n",
      " [3.]\n",
      " [2.]\n",
      " [2.]\n",
      " [3.]\n",
      " [2.]]\n",
      "amplitude of fireworks: \n",
      " [[1.52741498e+00]\n",
      " [1.68262304e+00]\n",
      " [2.48297430e+00]\n",
      " [2.77349391e+00]\n",
      " [5.10418566e-07]\n",
      " [1.16616483e+00]\n",
      " [1.43535946e+00]\n",
      " [2.85543015e+00]\n",
      " [9.35647480e-01]\n",
      " [5.14089592e+00]]\n",
      "Quantity of sparks\n",
      " 23.0\n",
      "Amplitude of firework\n",
      " (10, 1)\n",
      "new locations example shape \n",
      " (38, 10)\n"
     ]
    }
   ],
   "source": [
    "#localizações\n",
    "n = 10\n",
    "#quantidade de faíscas\n",
    "m = 20\n",
    "#dimensões\n",
    "d = 10\n",
    "#parâmetro para amplitude\n",
    "a = 20\n",
    "#faíscas gaussianas\n",
    "m_hat = 5\n",
    "\n",
    "#minimo valor do espaço potencial\n",
    "xmin = -5\n",
    "\n",
    "#máximo valor do espaço potencial\n",
    "xmax = 5\n",
    "\n",
    "#Inicializando fogoso de artifício\n",
    "X = xmin + (xmax - xmin) * np.random.rand(n,d)\n",
    "\n",
    "#Total de iterações\n",
    "max_iter=1000\n",
    "\n",
    "#f(X)\n",
    "y = np.zeros((n,1))\n",
    "for i in range(n):\n",
    "    y[i] = sphere_function(X[i])\n",
    "\n",
    "#best fit\n",
    "ymin = y.min()\n",
    "#worst fit\n",
    "ymax = y.max()\n",
    "\n",
    "#Numero de faíscas por fogo de artifício\n",
    "S = np.zeros((n,1))\n",
    "#Amplitude de cada fogo de artificio\n",
    "A = np.zeros((n,1))\n",
    "\n",
    "for i in range(n):\n",
    "    S[i] = sparks_number(y[i],y, m, ymax) \n",
    "    A[i] = explosion_amplitude(a, y[i],y, ymin)\n",
    "\n",
    "total_fireworks = np.sum(S)\n",
    "new_locations = X\n",
    "for i in range(n):\n",
    "    xi = X[i]\n",
    "    n_sparks = int(S[i][0])\n",
    "    sparks = np.zeros((n_sparks,d))\n",
    "    for i in range(n_sparks):\n",
    "        sparks[i] = obtain_location_of_spark(d, a, xmin, xmax, xi)\n",
    "    new_locations = np.vstack((new_locations, sparks)) \n",
    "\n",
    "random_fireworks = np.sort(np.random.choice(n,m_hat, replace=False))\n",
    "for i in range(m_hat):\n",
    "    xi = X[random_fireworks[i]]\n",
    "    gaussian_spark = gaussian_spark_location(xmin, xmax, d, xi)\n",
    "    new_locations = np.vstack((new_locations, gaussian_spark)) \n",
    "    \n",
    "\n",
    "fx = y[0]\n",
    "print(\"example X[0]: \", X[0])\n",
    "print(\"objective function f(X[0]): \", y[0])\n",
    "print(\"sparks per firework:\\n\", S)\n",
    "print(\"amplitude of fireworks: \\n\", A)\n",
    "print(\"Quantity of sparks\\n\",total_fireworks)\n",
    "print(\"Amplitude of firework\\n\",A.shape)\n",
    "print(\"new locations example shape \\n\", new_locations.shape)"
   ]
  },
  {
   "cell_type": "code",
   "execution_count": 312,
   "id": "9b3be042-5c67-4d43-a84a-d08f9ab3c402",
   "metadata": {},
   "outputs": [
    {
     "name": "stdout",
     "output_type": "stream",
     "text": [
      "sparks quantity:  [3.12140339]\n",
      "si:  [3.]\n",
      "ymax:  121.70080532480854\n",
      "sum:  350.7901164530148\n",
      "ymax - y[0]/sum:  [0.15607015]\n",
      "m * (si)/sum:  [3.12140291]\n"
     ]
    }
   ],
   "source": [
    "si = sparks_number(y[0], y, m, ymax)\n",
    "print(\"si: \",si)\n",
    "print(\"ymax: \",ymax)\n",
    "sum = np.sum(ymax - y)\n",
    "print(\"sum: \",sum)\n",
    "spark =  (ymax - y[0])/sum\n",
    "print(\"ymax - y[0]/sum: \", spark)\n",
    "print(\"m * (si)/sum: \",m* spark)"
   ]
  },
  {
   "cell_type": "code",
   "execution_count": 196,
   "id": "56efe737-12c4-4df2-af13-a9ec03370c0b",
   "metadata": {},
   "outputs": [
    {
     "data": {
      "text/plain": [
       "59.0"
      ]
     },
     "execution_count": 196,
     "metadata": {},
     "output_type": "execute_result"
    }
   ],
   "source": [
    "total_fireworks = np.sum(S)\n",
    "total_fireworks"
   ]
  },
  {
   "cell_type": "code",
   "execution_count": 238,
   "id": "7193aa09-db00-4fc9-b37b-76c9921842f1",
   "metadata": {},
   "outputs": [
    {
     "data": {
      "text/plain": [
       "array([1, 5, 7, 8, 9])"
      ]
     },
     "execution_count": 238,
     "metadata": {},
     "output_type": "execute_result"
    }
   ],
   "source": [
    "np.sort(np.random.choice(10,5, replace=False))\n"
   ]
  },
  {
   "cell_type": "code",
   "execution_count": 264,
   "id": "ca58e7d2-1bde-4acd-8e7d-e3ddc61ca11c",
   "metadata": {},
   "outputs": [
    {
     "data": {
      "text/plain": [
       "5"
      ]
     },
     "execution_count": 264,
     "metadata": {},
     "output_type": "execute_result"
    }
   ],
   "source": []
  },
  {
   "cell_type": "code",
   "execution_count": null,
   "id": "90eab028-1b20-43c1-9d7b-4fed2600993b",
   "metadata": {},
   "outputs": [],
   "source": []
  }
 ],
 "metadata": {
  "kernelspec": {
   "display_name": "Python 3 (ipykernel)",
   "language": "python",
   "name": "python3"
  },
  "language_info": {
   "codemirror_mode": {
    "name": "ipython",
    "version": 3
   },
   "file_extension": ".py",
   "mimetype": "text/x-python",
   "name": "python",
   "nbconvert_exporter": "python",
   "pygments_lexer": "ipython3",
   "version": "3.12.1"
  }
 },
 "nbformat": 4,
 "nbformat_minor": 5
}
