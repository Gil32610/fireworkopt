{
 "cells": [
  {
   "cell_type": "markdown",
   "id": "1e0cda56-6a7d-49a2-963b-35741b661b0e",
   "metadata": {},
   "source": [
    "# Firework Algorithm for Optimization"
   ]
  },
  {
   "cell_type": "markdown",
   "id": "2fc3c065-cc14-419c-a288-a555fa1bba03",
   "metadata": {},
   "source": [
    "- Autores originais: [*Ying Tan*](https://scholar.google.com/citations?user=PjNxSPsAAAAJ&hl=en) e [*Yuanchun Zhu*](https://ieeexplore.ieee.org/author/38008573100)\n",
    "- Ano de Publicação: 2010\n",
    "- Editora: [Springer](https://link.springer.com/chapter/10.1007/978-3-642-13495-1_44)\n",
    "- Conferência: [Advances in Swarm Intelligence](https://link.springer.com/book/10.1007/978-3-642-13495-1): First International Conference, ICSI 2010, Beijing, China, June 12-15, 2010, Proceedings, Part I 1"
   ]
  },
  {
   "cell_type": "markdown",
   "id": "9fe326d5-4a8d-417d-a39a-298681ffa22c",
   "metadata": {},
   "source": [
    "## Descrição:\n",
    "FA é um algoritmo de inteligência de enxames inspirado na explosão de fogos de artifício. Esse algoritmo é utilizado para a otimização global de funções complexas. São fornecidos dois processos de *“explosão”* (busca) e os mecanismos para manter a diversidade das *“faíscas”*."
   ]
  },
  {
   "cell_type": "code",
   "execution_count": 60,
   "id": "df7392b0-63a7-47e2-b9f9-bf26c29e771b",
   "metadata": {},
   "outputs": [],
   "source": [
    "import numpy as np\n",
    "import pandas as pd\n",
    "import random"
   ]
  },
  {
   "cell_type": "code",
   "execution_count": null,
   "id": "728b6b8e-42ea-4597-a27b-89f3a0c6df38",
   "metadata": {},
   "outputs": [],
   "source": [
    "def objective_function(x):\n",
    "    result = x**2\n",
    "    return result"
   ]
  },
  {
   "cell_type": "code",
   "execution_count": 61,
   "id": "7d942653-1873-4892-9ece-4a30c3b7dec1",
   "metadata": {},
   "outputs": [
    {
     "data": {
      "text/plain": [
       "2.0498718408786143"
      ]
     },
     "execution_count": 61,
     "metadata": {},
     "output_type": "execute_result"
    }
   ],
   "source": [
    "value = random.gauss(1,1)\n",
    "value"
   ]
  },
  {
   "cell_type": "code",
   "execution_count": 81,
   "id": "5e514605-57b3-4bdb-999b-48f9aa5d0b8c",
   "metadata": {
    "scrolled": true
   },
   "outputs": [
    {
     "data": {
      "text/plain": [
       "0.3975802897608234"
      ]
     },
     "execution_count": 81,
     "metadata": {},
     "output_type": "execute_result"
    }
   ],
   "source": [
    "value = random.uniform(0,1)\n",
    "value"
   ]
  },
  {
   "cell_type": "markdown",
   "id": "dc883867-78eb-4d39-b8d8-5a5a5381ab2b",
   "metadata": {},
   "source": [
    "### Inicializando posições dos Fogos de Artifício:"
   ]
  },
  {
   "cell_type": "code",
   "execution_count": 63,
   "id": "fac67c24-d258-4ab2-b757-b7567e4c1580",
   "metadata": {},
   "outputs": [],
   "source": [
    "def initialize_firework_locations(n, xmin, xmax):\n",
    "    fireworks = xmin + (xmax - xmin) * np.random.rand(n)\n",
    "    return fireworks"
   ]
  },
  {
   "cell_type": "code",
   "execution_count": 69,
   "id": "abd7686f-f9da-4075-b948-30232a59db49",
   "metadata": {
    "scrolled": true
   },
   "outputs": [
    {
     "ename": "ValueError",
     "evalue": "The truth value of an array with more than one element is ambiguous. Use a.any() or a.all()",
     "output_type": "error",
     "traceback": [
      "\u001b[1;31m---------------------------------------------------------------------------\u001b[0m",
      "\u001b[1;31mValueError\u001b[0m                                Traceback (most recent call last)",
      "Cell \u001b[1;32mIn[69], line 4\u001b[0m\n\u001b[0;32m      2\u001b[0m fireworks\n\u001b[0;32m      3\u001b[0m s \u001b[38;5;241m=\u001b[39m np\u001b[38;5;241m.\u001b[39marray([\u001b[38;5;241m1\u001b[39m,\u001b[38;5;241m1\u001b[39m,\u001b[38;5;241m1\u001b[39m])\n\u001b[1;32m----> 4\u001b[0m si \u001b[38;5;241m=\u001b[39m \u001b[38;5;129;43;01mnot\u001b[39;49;00m\u001b[43m \u001b[49m\u001b[43m(\u001b[49m\u001b[43ms\u001b[49m\u001b[43m \u001b[49m\u001b[38;5;241;43m<\u001b[39;49m\u001b[43m \u001b[49m\u001b[43m(\u001b[49m\u001b[38;5;241;43m12\u001b[39;49m\u001b[38;5;241;43m*\u001b[39;49m\u001b[38;5;241;43m3\u001b[39;49m\u001b[43m)\u001b[49m\u001b[43m)\u001b[49m\n",
      "\u001b[1;31mValueError\u001b[0m: The truth value of an array with more than one element is ambiguous. Use a.any() or a.all()"
     ]
    }
   ],
   "source": [
    "fireworks = initialize_firework_locations(5, -5.12, 5.12)\n",
    "fireworks"
   ]
  },
  {
   "cell_type": "markdown",
   "id": "cdede3b5-14d3-49c9-a20d-e0b5b06c3ad1",
   "metadata": {},
   "source": [
    "### Calculando o número de faíscas:"
   ]
  },
  {
   "cell_type": "code",
   "execution_count": 76,
   "id": "bace2692-922f-4cd4-9035-2a076c09189e",
   "metadata": {},
   "outputs": [],
   "source": [
    "def sparks_number(fx, m, ymax, eps=.00001):\n",
    "    sum_difference_of_worst_fit_and_fx = np.sum(ymax-fx) + eps\n",
    "    s = m* ymax - fx + eps/sum_difference_of_worst_fit_and_fx\n",
    "    s = firework_boundaries(0.1, 0.8, m, s)\n",
    "    return s"
   ]
  },
  {
   "cell_type": "code",
   "execution_count": 77,
   "id": "2ef8f270-37b5-43a2-be18-82c8b536c61f",
   "metadata": {},
   "outputs": [],
   "source": [
    "def firework_boundaries(a, b, m, s):\n",
    "    term1 = round(a*m) * (s < (a*m))\n",
    "    print(term1)\n",
    "    term2 = round(b*m) * (s> b*m)\n",
    "    print(term2)\n",
    "    term3 = np.round(s) * (~(s < (a*m)) & ~((s > b *m) & (a<b<1)))\n",
    "    print(term3)\n",
    "    s_new = term1 + term2 + term3\n",
    "    return s_new"
   ]
  },
  {
   "cell_type": "code",
   "execution_count": 75,
   "id": "53de897b-256f-4d50-9fce-eb51cecfe306",
   "metadata": {},
   "outputs": [
    {
     "name": "stdout",
     "output_type": "stream",
     "text": [
      "[1 0 0]\n",
      "[0 8 8]\n",
      "[-0.  0.  0.]\n"
     ]
    },
    {
     "data": {
      "text/plain": [
       "array([1., 8., 8.])"
      ]
     },
     "execution_count": 75,
     "metadata": {},
     "output_type": "execute_result"
    }
   ],
   "source": [
    "x = np.array([45.2,5.2,12.5])\n",
    "fx = objective_function(x)\n",
    "m = 10\n",
    "ymax = x.max()\n",
    "sparks_number(fx, m, ymax)"
   ]
  },
  {
   "cell_type": "markdown",
   "id": "d93e5b8c-1f72-4d4d-990f-68d200bde4dd",
   "metadata": {},
   "source": [
    "### Obtendo localização das Faíscas:"
   ]
  },
  {
   "cell_type": "code",
   "execution_count": null,
   "id": "44b3e10e-05de-4191-80b9-0b4b15d11faf",
   "metadata": {},
   "outputs": [],
   "source": [
    "def explosion_amplitude(A_hat, fx, ymin, eps=.00001):\n",
    "    sum_difference_of_fx_and_best_fit = np.sum(fx - ymin) + eps\n",
    "    A = A_hat * (fx - ymin + eps/ sum_difference_of_fx_and_best_fit)\n",
    "    return A"
   ]
  },
  {
   "cell_type": "code",
   "execution_count": 86,
   "id": "0a3c19f6-6eb9-4c3e-b7ee-088680fac9e1",
   "metadata": {},
   "outputs": [
    {
     "data": {
      "text/plain": [
       "1"
      ]
     },
     "execution_count": 86,
     "metadata": {},
     "output_type": "execute_result"
    }
   ],
   "source": [
    "d = 6\n",
    "round(6 * random.uniform(0,1))"
   ]
  },
  {
   "cell_type": "code",
   "execution_count": null,
   "id": "cb6377ea-839c-49f5-8f93-47c17dfdd1bf",
   "metadata": {},
   "outputs": [],
   "source": [
    "def obtain_location_of_spark(d):\n",
    "    #selecting z dimensions to be affected\n",
    "    xj = np.zeros(d)\n",
    "    z = round(d * random.uniform(0,1))\n",
    "    random_dimensions = np.random.choice(d, z, replace=False)\n",
    "    for i in random_dimensions:\n",
    "        \n",
    "    random_affected = np.where"
   ]
  },
  {
   "cell_type": "code",
   "execution_count": 94,
   "id": "1bcc32a9-cffa-4b8b-bbe7-ee4797cfb6a4",
   "metadata": {},
   "outputs": [
    {
     "data": {
      "text/plain": [
       "array([2, 7, 5, 6, 0, 3, 4, 8, 1, 9])"
      ]
     },
     "execution_count": 94,
     "metadata": {},
     "output_type": "execute_result"
    }
   ],
   "source": [
    "np.random.choice(10, 10, replace=False)"
   ]
  },
  {
   "cell_type": "markdown",
   "id": "82c83f9c-8b84-48ff-8a29-80be8a0337b8",
   "metadata": {},
   "source": [
    "### Mantendo faíscas no espaço de busca: "
   ]
  },
  {
   "cell_type": "code",
   "execution_count": null,
   "id": "aaf04ec9-1306-41f6-bf21-4df993b36a3a",
   "metadata": {},
   "outputs": [],
   "source": [
    "def round_sparks_number(S, a, b, m):\n",
    "    si = np.zeros(s.shape)\n",
    "    for i in range(len(s)):\n",
    "        if S[i] > a*m:\n",
    "           si[i] = round(a*m)\n",
    "        elif S[i] > a*b:\n",
    "           si[i] = round(b * m)\n",
    "        else:\n",
    "            si[i] = round(s[i])\n",
    "\n",
    "        if S[i] > si[i]:\n",
    "            S[i] = si[i]\n",
    "    return S"
   ]
  },
  {
   "cell_type": "markdown",
   "id": "d1c70923-115e-4533-afec-2157a5e3c519",
   "metadata": {},
   "source": [
    "### Amplitude das Explosões:"
   ]
  },
  {
   "cell_type": "code",
   "execution_count": null,
   "id": "78146af9-4fef-4bb7-b9f8-184e4fbcad4c",
   "metadata": {},
   "outputs": [],
   "source": [
    "def explosion_amplitude(A, fx, ymin, sum_of_difference, eps =.00001):\n",
    "    Ai = A * (fx - ymin + eps/sum_of_difference + eps)\n",
    "    return Ai"
   ]
  },
  {
   "cell_type": "markdown",
   "id": "cf84094d-efce-4f4c-9059-79cdbc22f067",
   "metadata": {},
   "source": [
    "### Gerando faíscas:"
   ]
  },
  {
   "cell_type": "code",
   "execution_count": null,
   "id": "fc8802d9-14f4-49b8-8ba9-72740d4ce8ad",
   "metadata": {},
   "outputs": [],
   "source": [
    "def affected_directions(d):\n",
    "    z = round(d * random.rand(0,1))\n",
    "    return z"
   ]
  },
  {
   "cell_type": "code",
   "execution_count": null,
   "id": "cf1662a1-5a16-400e-832b-f21f0d6bb028",
   "metadata": {},
   "outputs": [],
   "source": [
    "def spark_location(Ai, xi, d):\n",
    "    r"
   ]
  },
  {
   "cell_type": "code",
   "execution_count": null,
   "id": "becc15b1-833e-427d-91b4-f8d724744e6d",
   "metadata": {},
   "outputs": [],
   "source": [
    "x = np.array([.08, 3.2, 1.0, 3.1, 0.01, 2.2])\n",
    "#n_sparks = sparks_number(x, m, eps) \n",
    "m = 50\n",
    "s = sparks_number(x, m)\n",
    "a = 0.8\n",
    "b = 0.04\n",
    "S = sparks_number(x, m)\n",
    "print(S)\n",
    "S = round_sparks_number(S, a, b, m)\n",
    "print(S)"
   ]
  },
  {
   "cell_type": "code",
   "execution_count": null,
   "id": "be9ff56c-94d8-4a63-9e97-613a6aedb4ff",
   "metadata": {},
   "outputs": [],
   "source": []
  },
  {
   "cell_type": "code",
   "execution_count": null,
   "id": "08409139-15ac-4615-9213-27d59c2fecea",
   "metadata": {},
   "outputs": [],
   "source": []
  },
  {
   "cell_type": "code",
   "execution_count": null,
   "id": "c88b1efd-2e60-47ab-9837-9239393f8de7",
   "metadata": {},
   "outputs": [],
   "source": []
  },
  {
   "cell_type": "code",
   "execution_count": null,
   "id": "3aa33368-4d15-473b-bf5b-94453773789d",
   "metadata": {},
   "outputs": [],
   "source": []
  },
  {
   "cell_type": "code",
   "execution_count": null,
   "id": "165a5683-c697-4c4f-bd29-7b578763a162",
   "metadata": {},
   "outputs": [],
   "source": []
  }
 ],
 "metadata": {
  "kernelspec": {
   "display_name": "Python 3 (ipykernel)",
   "language": "python",
   "name": "python3"
  },
  "language_info": {
   "codemirror_mode": {
    "name": "ipython",
    "version": 3
   },
   "file_extension": ".py",
   "mimetype": "text/x-python",
   "name": "python",
   "nbconvert_exporter": "python",
   "pygments_lexer": "ipython3",
   "version": "3.12.1"
  }
 },
 "nbformat": 4,
 "nbformat_minor": 5
}
