{
 "cells": [
  {
   "cell_type": "markdown",
   "id": "1e0cda56-6a7d-49a2-963b-35741b661b0e",
   "metadata": {},
   "source": [
    "# Firework Algorithm for Optimization"
   ]
  },
  {
   "cell_type": "markdown",
   "id": "2fc3c065-cc14-419c-a288-a555fa1bba03",
   "metadata": {},
   "source": [
    "- Autores originais: [*Ying Tan*](https://scholar.google.com/citations?user=PjNxSPsAAAAJ&hl=en) e [*Yuanchun Zhu*](https://ieeexplore.ieee.org/author/38008573100)\n",
    "- Ano de Publicação: 2010\n",
    "- Editora: [Springer](https://link.springer.com/chapter/10.1007/978-3-642-13495-1_44)\n",
    "- Conferência: [Advances in Swarm Intelligence](https://link.springer.com/book/10.1007/978-3-642-13495-1): First International Conference, ICSI 2010, Beijing, China, June 12-15, 2010, Proceedings, Part I 1"
   ]
  },
  {
   "cell_type": "markdown",
   "id": "9fe326d5-4a8d-417d-a39a-298681ffa22c",
   "metadata": {},
   "source": [
    "## Descrição:\n",
    "FA é um algoritmo de inteligência de enxames inspirado na explosão de fogos de artifício. Esse algoritmo é utilizado para a otimização global de funções complexas. São fornecidos dois processos de *“explosão”* (busca) e os mecanismos para manter a diversidade das *“faíscas”*."
   ]
  },
  {
   "cell_type": "code",
   "execution_count": 2,
   "id": "df7392b0-63a7-47e2-b9f9-bf26c29e771b",
   "metadata": {},
   "outputs": [],
   "source": [
    "import numpy as np\n",
    "import pandas as pd\n",
    "import random"
   ]
  },
  {
   "cell_type": "code",
   "execution_count": 3,
   "id": "7d942653-1873-4892-9ece-4a30c3b7dec1",
   "metadata": {},
   "outputs": [
    {
     "data": {
      "text/plain": [
       "-0.3295405050696698"
      ]
     },
     "execution_count": 3,
     "metadata": {},
     "output_type": "execute_result"
    }
   ],
   "source": [
    "value = random.gauss(1,1)\n",
    "value"
   ]
  },
  {
   "cell_type": "code",
   "execution_count": 4,
   "id": "5e514605-57b3-4bdb-999b-48f9aa5d0b8c",
   "metadata": {},
   "outputs": [
    {
     "data": {
      "text/plain": [
       "0.4860866026161915"
      ]
     },
     "execution_count": 4,
     "metadata": {},
     "output_type": "execute_result"
    }
   ],
   "source": [
    "value = random.uniform(0,1)\n",
    "value"
   ]
  },
  {
   "cell_type": "code",
   "execution_count": null,
   "id": "fac67c24-d258-4ab2-b757-b7567e4c1580",
   "metadata": {},
   "outputs": [],
   "source": []
  },
  {
   "cell_type": "code",
   "execution_count": 5,
   "id": "728b6b8e-42ea-4597-a27b-89f3a0c6df38",
   "metadata": {},
   "outputs": [],
   "source": [
    "def objective_function(x):\n",
    "    result = x**2\n",
    "    return result"
   ]
  },
  {
   "cell_type": "markdown",
   "id": "cdede3b5-14d3-49c9-a20d-e0b5b06c3ad1",
   "metadata": {},
   "source": [
    "### Número de Faíscas"
   ]
  },
  {
   "cell_type": "code",
   "execution_count": 6,
   "id": "bace2692-922f-4cd4-9035-2a076c09189e",
   "metadata": {},
   "outputs": [],
   "source": [
    "def sparks_number(x, m, eps=.00001):\n",
    "    fx = objective_function(x)\n",
    "    worst_cost = np.max(fx)\n",
    "    sum_cost = np.sum(worst_cost - fx + eps)\n",
    "    s = m* np.array(worst_cost - fx + eps/sum_cost)\n",
    "    return s"
   ]
  },
  {
   "cell_type": "markdown",
   "id": "82c83f9c-8b84-48ff-8a29-80be8a0337b8",
   "metadata": {},
   "source": [
    "### Mantendo faíscas no espaço de busca: "
   ]
  },
  {
   "cell_type": "code",
   "execution_count": 28,
   "id": "aaf04ec9-1306-41f6-bf21-4df993b36a3a",
   "metadata": {},
   "outputs": [],
   "source": [
    "def round_sparks_number(S, a, b, m):\n",
    "    si = np.zeros(s.shape)\n",
    "    for i in range(len(s)):\n",
    "        if S[i] > a*m:\n",
    "           si[i] = round(a*m)\n",
    "        elif S[i] > a*b:\n",
    "           si[i] = round(b * m)\n",
    "        else:\n",
    "            si[i] = round(s[i])\n",
    "\n",
    "        if S[i] > si[i]:\n",
    "            S[i] = si[i]\n",
    "    return S"
   ]
  },
  {
   "cell_type": "markdown",
   "id": "d1c70923-115e-4533-afec-2157a5e3c519",
   "metadata": {},
   "source": [
    "### Amplitude das Explosões:"
   ]
  },
  {
   "cell_type": "code",
   "execution_count": null,
   "id": "78146af9-4fef-4bb7-b9f8-184e4fbcad4c",
   "metadata": {},
   "outputs": [],
   "source": [
    "def explosion_amplitude(A, fx, ymin, sum_of_difference, eps =.00001):\n",
    "    Ai = A * (fx - ymin + eps/sum_of_difference + eps)\n",
    "    return Ai"
   ]
  },
  {
   "cell_type": "markdown",
   "id": "cf84094d-efce-4f4c-9059-79cdbc22f067",
   "metadata": {},
   "source": [
    "### Gerando faíscas:"
   ]
  },
  {
   "cell_type": "code",
   "execution_count": 34,
   "id": "fc8802d9-14f4-49b8-8ba9-72740d4ce8ad",
   "metadata": {},
   "outputs": [],
   "source": [
    "def affected_directions(d):\n",
    "    z = round(d * random.rand(0,1))\n",
    "    return z"
   ]
  },
  {
   "cell_type": "code",
   "execution_count": null,
   "id": "cf1662a1-5a16-400e-832b-f21f0d6bb028",
   "metadata": {},
   "outputs": [],
   "source": [
    "def spark_location(Ai, xi, d):\n",
    "    "
   ]
  },
  {
   "cell_type": "code",
   "execution_count": 33,
   "id": "becc15b1-833e-427d-91b4-f8d724744e6d",
   "metadata": {},
   "outputs": [
    {
     "name": "stdout",
     "output_type": "stream",
     "text": [
      "[5.11680014e+02 1.39885339e-05 4.62000014e+02 3.15000140e+01\n",
      " 5.11995014e+02 2.70000014e+02]\n",
      "[40.  0. 40.  2. 40. 40.]\n"
     ]
    }
   ],
   "source": [
    "x = np.array([.08, 3.2, 1.0, 3.1, 0.01, 2.2])\n",
    "#n_sparks = sparks_number(x, m, eps) \n",
    "m = 50\n",
    "s = sparks_number(x, m)\n",
    "a = 0.8\n",
    "b = 0.04\n",
    "S = sparks_number(x, m)\n",
    "print(S)\n",
    "S = round_sparks_number(S, a, b, m)\n",
    "print(S)"
   ]
  },
  {
   "cell_type": "code",
   "execution_count": null,
   "id": "be9ff56c-94d8-4a63-9e97-613a6aedb4ff",
   "metadata": {},
   "outputs": [],
   "source": []
  },
  {
   "cell_type": "code",
   "execution_count": null,
   "id": "08409139-15ac-4615-9213-27d59c2fecea",
   "metadata": {},
   "outputs": [],
   "source": []
  },
  {
   "cell_type": "code",
   "execution_count": null,
   "id": "c88b1efd-2e60-47ab-9837-9239393f8de7",
   "metadata": {},
   "outputs": [],
   "source": []
  }
 ],
 "metadata": {
  "kernelspec": {
   "display_name": "Python 3 (ipykernel)",
   "language": "python",
   "name": "python3"
  },
  "language_info": {
   "codemirror_mode": {
    "name": "ipython",
    "version": 3
   },
   "file_extension": ".py",
   "mimetype": "text/x-python",
   "name": "python",
   "nbconvert_exporter": "python",
   "pygments_lexer": "ipython3",
   "version": "3.12.1"
  }
 },
 "nbformat": 4,
 "nbformat_minor": 5
}
