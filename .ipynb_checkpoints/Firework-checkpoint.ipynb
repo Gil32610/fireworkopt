{
 "cells": [
  {
   "cell_type": "markdown",
   "id": "1e0cda56-6a7d-49a2-963b-35741b661b0e",
   "metadata": {},
   "source": [
    "# Firework Algorithm for Optimization"
   ]
  },
  {
   "cell_type": "markdown",
   "id": "2fc3c065-cc14-419c-a288-a555fa1bba03",
   "metadata": {},
   "source": [
    "- Autores originais: [*Ying Tan*](https://scholar.google.com/citations?user=PjNxSPsAAAAJ&hl=en) e [*Yuanchun Zhu*](https://ieeexplore.ieee.org/author/38008573100)\n",
    "- Ano de Publicação: 2010\n",
    "- Editora: [Springer](https://link.springer.com/chapter/10.1007/978-3-642-13495-1_44)\n",
    "- Conferência: [Advances in Swarm Intelligence](https://link.springer.com/book/10.1007/978-3-642-13495-1): First International Conference, ICSI 2010, Beijing, China, June 12-15, 2010, Proceedings, Part I 1"
   ]
  },
  {
   "cell_type": "markdown",
   "id": "9fe326d5-4a8d-417d-a39a-298681ffa22c",
   "metadata": {},
   "source": [
    "## Descrição:\n",
    "FA é um algoritmo de inteligência de enxames inspirado na explosão de fogos de artifício. Esse algoritmo é utilizado para a otimização global de funções complexas. São fornecidos dois processos de *“explosão”* (busca) e os mecanismos para manter a diversidade das *“faíscas”*."
   ]
  },
  {
   "cell_type": "code",
   "execution_count": 1,
   "id": "df7392b0-63a7-47e2-b9f9-bf26c29e771b",
   "metadata": {},
   "outputs": [],
   "source": [
    "import numpy as np\n",
    "import pandas as pd\n",
    "import random"
   ]
  },
  {
   "cell_type": "markdown",
   "id": "7898d621-7e52-4be9-b32c-3a6f9fe06528",
   "metadata": {},
   "source": [
    "## Funções Objetivos"
   ]
  },
  {
   "cell_type": "code",
   "execution_count": 48,
   "id": "728b6b8e-42ea-4597-a27b-89f3a0c6df38",
   "metadata": {},
   "outputs": [],
   "source": [
    "def sphere_function(x):\n",
    "    result = x**2\n",
    "    return np.sum(result)"
   ]
  },
  {
   "cell_type": "code",
   "execution_count": 3,
   "id": "2825a317-31a2-442a-8b5d-f463a4ed5dc9",
   "metadata": {},
   "outputs": [],
   "source": [
    "def rastrigin(x):\n",
    "    n = len(x)\n",
    "    total = 0\n",
    "    total = x**2 - 10*np.cos(2*np.pi*x)\n",
    "    return (10*n) + total"
   ]
  },
  {
   "cell_type": "code",
   "execution_count": 4,
   "id": "8451e066-dfd4-41d2-8964-8b5abb373a60",
   "metadata": {},
   "outputs": [],
   "source": [
    "def rosenbrook(x):\n",
    "    n = len(x)\n",
    "    term1 = 100 * (x[1:] - x[:-1]**2)**2\n",
    "    temr2 = (x[1:] -1)**2\n",
    "    sumterm = np.sum(term1 + term2)\n",
    "    return sumterm"
   ]
  },
  {
   "cell_type": "code",
   "execution_count": 5,
   "id": "ddd311c0-2c71-4aa5-bb5e-02007411fd38",
   "metadata": {},
   "outputs": [],
   "source": [
    "def ackley(x):\n",
    "    n = len(x)\n",
    "    sum1 = np.sum(x*2)\n",
    "    sum2 = np.sum(np.cos(2 * np.pi * x**2))\n",
    "    term1 = -20 * np.exp(-0.2 * np.sqrt(1/n * sum1))\n",
    "    term2 = -np.exp(1/n * sum2)\n",
    "    return term1 + term2 + 20 + np.exp(1)"
   ]
  },
  {
   "cell_type": "markdown",
   "id": "04680570-c1a8-4b3b-b36a-8eb276e3e11e",
   "metadata": {},
   "source": [
    "### Distribuição Gaussiana:"
   ]
  },
  {
   "cell_type": "code",
   "execution_count": 6,
   "id": "7d942653-1873-4892-9ece-4a30c3b7dec1",
   "metadata": {},
   "outputs": [
    {
     "data": {
      "text/plain": [
       "1.009999897856757"
      ]
     },
     "execution_count": 6,
     "metadata": {},
     "output_type": "execute_result"
    }
   ],
   "source": [
    "value = random.gauss(1,1)\n",
    "value"
   ]
  },
  {
   "cell_type": "markdown",
   "id": "be09e63e-3449-4ab8-86ee-abacb2e752aa",
   "metadata": {},
   "source": [
    "### Distribuição Uniforme:"
   ]
  },
  {
   "cell_type": "code",
   "execution_count": 7,
   "id": "5e514605-57b3-4bdb-999b-48f9aa5d0b8c",
   "metadata": {
    "scrolled": true
   },
   "outputs": [
    {
     "data": {
      "text/plain": [
       "0.8250637945775439"
      ]
     },
     "execution_count": 7,
     "metadata": {},
     "output_type": "execute_result"
    }
   ],
   "source": [
    "value = random.uniform(-1,1)\n",
    "value"
   ]
  },
  {
   "cell_type": "markdown",
   "id": "dc883867-78eb-4d39-b8d8-5a5a5381ab2b",
   "metadata": {},
   "source": [
    "## Inicializando posições dos Fogos de Artifício:"
   ]
  },
  {
   "cell_type": "code",
   "execution_count": 8,
   "id": "fac67c24-d258-4ab2-b757-b7567e4c1580",
   "metadata": {},
   "outputs": [],
   "source": [
    "def initialize_firework_locations(shape, xmin, xmax):\n",
    "    fireworks = xmin + (xmax - xmin) * np.random.rand(shape)\n",
    "    return fireworks"
   ]
  },
  {
   "cell_type": "code",
   "execution_count": 9,
   "id": "abd7686f-f9da-4075-b948-30232a59db49",
   "metadata": {
    "scrolled": true
   },
   "outputs": [
    {
     "data": {
      "text/plain": [
       "array([-1.78975347,  0.00282018, -2.72373455, -0.72523566, -0.68309257])"
      ]
     },
     "execution_count": 9,
     "metadata": {},
     "output_type": "execute_result"
    }
   ],
   "source": [
    "fireworks = initialize_firework_locations(5, -5.12, 5.12)\n",
    "fireworks"
   ]
  },
  {
   "cell_type": "markdown",
   "id": "cdede3b5-14d3-49c9-a20d-e0b5b06c3ad1",
   "metadata": {},
   "source": [
    "## Calculando o número de faíscas:"
   ]
  },
  {
   "cell_type": "code",
   "execution_count": 38,
   "id": "bace2692-922f-4cd4-9035-2a076c09189e",
   "metadata": {},
   "outputs": [],
   "source": [
    "def sparks_number(fx, m, ymax, eps=.00001):\n",
    "    sum_difference_of_worst_fit_and_fx = np.sum(ymax-fx) + eps\n",
    "    s = m* ymax - fx + eps/sum_difference_of_worst_fit_and_fx\n",
    "    s = firework_boundaries(0.1, 0.8, m, s)\n",
    "    print(\"number of sparks\",s)\n",
    "    return s"
   ]
  },
  {
   "cell_type": "code",
   "execution_count": 46,
   "id": "2ef8f270-37b5-43a2-be18-82c8b536c61f",
   "metadata": {},
   "outputs": [],
   "source": [
    "def firework_boundaries(a, b, m, s):\n",
    "    term1 = round(a*m) * (s < (a*m))\n",
    "    term2 = round(b*m) * (s> b*m)\n",
    "    term3 = np.round(s) * (~(s < (a*m)) & ~((s > b *m) & (a<b<1)))\n",
    "    s_new = term1 + term2 + term3\n",
    "    return s_new"
   ]
  },
  {
   "cell_type": "code",
   "execution_count": 12,
   "id": "53de897b-256f-4d50-9fce-eb51cecfe306",
   "metadata": {},
   "outputs": [
    {
     "ename": "NameError",
     "evalue": "name 'objective_function' is not defined",
     "output_type": "error",
     "traceback": [
      "\u001b[1;31m---------------------------------------------------------------------------\u001b[0m",
      "\u001b[1;31mNameError\u001b[0m                                 Traceback (most recent call last)",
      "Cell \u001b[1;32mIn[12], line 2\u001b[0m\n\u001b[0;32m      1\u001b[0m x \u001b[38;5;241m=\u001b[39m np\u001b[38;5;241m.\u001b[39marray([\u001b[38;5;241m45.2\u001b[39m,\u001b[38;5;241m0.2\u001b[39m,\u001b[38;5;241m56.5\u001b[39m, \u001b[38;5;241m2.8\u001b[39m, \u001b[38;5;241m1.9\u001b[39m])\n\u001b[1;32m----> 2\u001b[0m fx \u001b[38;5;241m=\u001b[39m \u001b[43mobjective_function\u001b[49m(x)\n\u001b[0;32m      3\u001b[0m m \u001b[38;5;241m=\u001b[39m \u001b[38;5;241m10\u001b[39m\n\u001b[0;32m      4\u001b[0m ymax \u001b[38;5;241m=\u001b[39m x\u001b[38;5;241m.\u001b[39mmax()\n",
      "\u001b[1;31mNameError\u001b[0m: name 'objective_function' is not defined"
     ]
    }
   ],
   "source": [
    "x = np.array([45.2,0.2,56.5, 2.8, 1.9])\n",
    "fx = objective_function(x)\n",
    "m = 10\n",
    "ymax = x.max()\n",
    "sparks_number(fx, m, ymax)"
   ]
  },
  {
   "cell_type": "markdown",
   "id": "d93e5b8c-1f72-4d4d-990f-68d200bde4dd",
   "metadata": {},
   "source": [
    "## Obtendo localização das Faíscas:"
   ]
  },
  {
   "cell_type": "markdown",
   "id": "1bbb5317-8561-42ad-be63-235907cc0d26",
   "metadata": {},
   "source": [
    "### Seletor de dimensões aleatório"
   ]
  },
  {
   "cell_type": "code",
   "execution_count": 60,
   "id": "4eadfcfc-babd-47a3-baad-8083bd703f77",
   "metadata": {},
   "outputs": [],
   "source": [
    "def random_dimension_selector(d):\n",
    "    xj = np.zeros(d)\n",
    "    z = round(d * random.uniform(0,1))\n",
    "    random_dimensions = np.random.choice(d, z, replace=False)\n",
    "    for i in random_dimensions:\n",
    "        xj[i] = 1\n",
    "\n",
    "    print(\"random dimension initialization:\", xj) \n",
    "    return xj\n",
    "    "
   ]
  },
  {
   "cell_type": "markdown",
   "id": "9d94fcba-7173-4854-b0ac-8b9acd763630",
   "metadata": {},
   "source": [
    "### Amplitude de explosão"
   ]
  },
  {
   "cell_type": "code",
   "execution_count": 61,
   "id": "44b3e10e-05de-4191-80b9-0b4b15d11faf",
   "metadata": {},
   "outputs": [],
   "source": [
    "def explosion_amplitude(A_hat, fx, ymin, eps=.00001):\n",
    "    sum_difference_of_fx_and_best_fit = np.sum(fx - ymin) + eps\n",
    "    A = A_hat * (fx - ymin + eps/ sum_difference_of_fx_and_best_fit)\n",
    "    return A"
   ]
  },
  {
   "cell_type": "code",
   "execution_count": 62,
   "id": "0a3c19f6-6eb9-4c3e-b7ee-088680fac9e1",
   "metadata": {},
   "outputs": [
    {
     "data": {
      "text/plain": [
       "1"
      ]
     },
     "execution_count": 62,
     "metadata": {},
     "output_type": "execute_result"
    }
   ],
   "source": [
    "d = 6\n",
    "round(6 * random.uniform(0,1))"
   ]
  },
  {
   "cell_type": "code",
   "execution_count": 63,
   "id": "74b54fa6-a6f0-435f-979b-ee56144ae217",
   "metadata": {},
   "outputs": [
    {
     "ename": "NameError",
     "evalue": "name 'objective_function' is not defined",
     "output_type": "error",
     "traceback": [
      "\u001b[1;31m---------------------------------------------------------------------------\u001b[0m",
      "\u001b[1;31mNameError\u001b[0m                                 Traceback (most recent call last)",
      "Cell \u001b[1;32mIn[63], line 3\u001b[0m\n\u001b[0;32m      1\u001b[0m A_hat \u001b[38;5;241m=\u001b[39m \u001b[38;5;241m10\u001b[39m\n\u001b[0;32m      2\u001b[0m x \u001b[38;5;241m=\u001b[39m np\u001b[38;5;241m.\u001b[39marray([\u001b[38;5;241m1.3\u001b[39m, \u001b[38;5;241m5.2\u001b[39m, \u001b[38;5;241m2.8\u001b[39m])\n\u001b[1;32m----> 3\u001b[0m fx \u001b[38;5;241m=\u001b[39m \u001b[43mobjective_function\u001b[49m(x)\n\u001b[0;32m      4\u001b[0m ymin \u001b[38;5;241m=\u001b[39m x\u001b[38;5;241m.\u001b[39mmin()\n\u001b[0;32m      6\u001b[0m explosion_amplitude(A_hat, fx, ymin)\n",
      "\u001b[1;31mNameError\u001b[0m: name 'objective_function' is not defined"
     ]
    }
   ],
   "source": [
    "A_hat = 10\n",
    "x = np.array([1.3, 5.2, 2.8])\n",
    "fx = objective_function(x)\n",
    "ymin = x.min()\n",
    "\n",
    "explosion_amplitude(A_hat, fx, ymin)"
   ]
  },
  {
   "cell_type": "markdown",
   "id": "01ea8816-9fc6-4184-b410-1a36db11808a",
   "metadata": {},
   "source": [
    "### Obtendo faísca: Estratégia da Explosão"
   ]
  },
  {
   "cell_type": "code",
   "execution_count": 57,
   "id": "cb6377ea-839c-49f5-8f93-47c17dfdd1bf",
   "metadata": {},
   "outputs": [],
   "source": [
    "def obtain_location_of_spark(d, amp, xmin, xmax, xi):\n",
    "    #selecting z dimensions to be affected\n",
    "    xj = xi\n",
    "    random_selected_positions = random_dimension_selector(d)\n",
    "    print(\"xj: \", xj) \n",
    "    h = amp * random.uniform(-1 ,1) \n",
    "    random_affected_dimensions = xj + (random_selected_positions* h)\n",
    "    print(\"random affected dimensions\", random_affected_dimensions)\n",
    "    #mapping affected dimensions to potential space\n",
    "    random_affected_dimensions = map_to_potential_space(xmin, xmax, random_affected_dimensions)\n",
    "    return random_affected_dimensions"
   ]
  },
  {
   "cell_type": "markdown",
   "id": "fab877e2-6934-4d5a-9d2c-ebf21b8c7845",
   "metadata": {},
   "source": [
    "### Mapeamento para espaço potencial:"
   ]
  },
  {
   "cell_type": "code",
   "execution_count": 65,
   "id": "e901366d-9f1c-4cb3-a68e-51fa10aee246",
   "metadata": {},
   "outputs": [],
   "source": [
    "def map_to_potential_space(xmin, xmax, affected):\n",
    "    print(\"xmax - xmin: \", xmax - xmin)\n",
    "    inbound = xmin + abs(affected)%(xmax - xmin)\n",
    "    print(\"inbound: \", inbound)\n",
    "    print(inbound)\n",
    "    term1 = (affected > xmax) * inbound\n",
    "    print(\"values that are over the max bound\",term1)\n",
    "    term2 =  (affected < xmin) * inbound\n",
    "    print(\"values that are over the min bound\",term2)\n",
    "    fixed_bounds = term1 + term2\n",
    "    mapping = (fixed_bounds == 0) * affected + fixed_bounds \n",
    "    print(\"mapping: \",  mapping)\n",
    "    return mapping"
   ]
  },
  {
   "cell_type": "code",
   "execution_count": null,
   "id": "208dfb9f-b37a-4c13-b357-47665cc98a56",
   "metadata": {},
   "outputs": [],
   "source": []
  },
  {
   "cell_type": "code",
   "execution_count": null,
   "id": "7e01f952-05d0-4315-ac01-f125461b5062",
   "metadata": {
    "scrolled": true
   },
   "outputs": [],
   "source": [
    "xi = np.random.rand(3)\n",
    "print(\"xi\", xi)\n",
    "xmin = np.array([-3.12, -4.5, -6.6])\n",
    "xmax = np.array([3.12, 4.5, 6.6])\n",
    "d = 3\n",
    "amp = 5\n",
    "obtain_location_of_spark(d, amp, xmin, xmax, xi)"
   ]
  },
  {
   "cell_type": "markdown",
   "id": "597dafe7-6baa-4737-b57e-cc3e098c8f0f",
   "metadata": {
    "jp-MarkdownHeadingCollapsed": true
   },
   "source": [
    "### Obtendo faísca: Estratégia de Faíscas Gaussianas:"
   ]
  },
  {
   "cell_type": "code",
   "execution_count": null,
   "id": "5d306158-65c4-44f1-9a59-8a626a775238",
   "metadata": {},
   "outputs": [],
   "source": [
    "def gaussian_spark_location(xmin, xmax, d, xi):\n",
    "    xj = xi\n",
    "    random_dimensions_selected = random_dimension_selector(d)\n",
    "    random_affected_dimensions = xj * (random_dimensions_selected * np.random.normal(1,1,d))\n",
    "    random_affected_dimensions = map_to_potential_space(xmin, xmax, random_affected_dimensions)\n",
    "    return random_affected_dimensions"
   ]
  },
  {
   "cell_type": "code",
   "execution_count": null,
   "id": "1bcc32a9-cffa-4b8b-bbe7-ee4797cfb6a4",
   "metadata": {},
   "outputs": [],
   "source": [
    "d =3\n",
    "np.random.normal(1,1,d)"
   ]
  },
  {
   "cell_type": "code",
   "execution_count": null,
   "id": "ef0ba3da-7367-4f2b-826a-f132aacbfd0e",
   "metadata": {},
   "outputs": [],
   "source": [
    "np.random.rand(3)"
   ]
  },
  {
   "cell_type": "markdown",
   "id": "c5d2f1bb-0fd5-4368-82a3-d06b2da61b9a",
   "metadata": {},
   "source": [
    "## Seleção de Localizações:"
   ]
  },
  {
   "cell_type": "markdown",
   "id": "022aa1ec-c179-4c6d-a11a-e045c36bca2c",
   "metadata": {
    "jp-MarkdownHeadingCollapsed": true
   },
   "source": [
    "### Calculando Distância Geral:"
   ]
  },
  {
   "cell_type": "code",
   "execution_count": null,
   "id": "a1884995-4ec6-416a-882f-4743027c6654",
   "metadata": {},
   "outputs": [],
   "source": [
    "def general_distance(xi , X, d):\n",
    "    sum_of_distances = 0\n",
    "    for xj in X:\n",
    "        sum_of_distances += np.sum(abs(xi - xj))\n",
    "    return sum_of_distances"
   ]
  },
  {
   "cell_type": "markdown",
   "id": "122ec7a2-5d48-4032-be21-65c608dd0663",
   "metadata": {
    "jp-MarkdownHeadingCollapsed": true
   },
   "source": [
    "#### Testando função:"
   ]
  },
  {
   "cell_type": "code",
   "execution_count": null,
   "id": "5416dc45-4b85-49f7-ab25-0cd093836f03",
   "metadata": {},
   "outputs": [],
   "source": [
    "n1 = np.array([3,-8,2])\n",
    "n2 = np.array([[3,-8,2], [2,.9,12], [1,3,5]])\n",
    "distance = general_distance(n1, n2, 3)\n",
    "general_distance_of_fireworks_and_sparks = 0\n",
    "for i in n2:\n",
    "    general_distance_of_fireworks_and_sparks += general_distance(i, n2, d)\n",
    "\n",
    "print(\"general distance: \", general_distance_of_fireworks_and_sparks)\n",
    "general_distance_n1 = general_distance(n1, n2, 3)\n",
    "print(\"general distance of n1\", general_distance_n1)\n",
    "prob = location_probability(general_distance_of_fireworks_and_sparks, general_distance_n1, 3)\n",
    "print(\"probability of n1: \", prob)"
   ]
  },
  {
   "cell_type": "markdown",
   "id": "22014bb4-30d2-4b8c-a46c-43697ab2ba06",
   "metadata": {
    "jp-MarkdownHeadingCollapsed": true
   },
   "source": [
    "### Calculando probabilidade de seleção:"
   ]
  },
  {
   "cell_type": "code",
   "execution_count": null,
   "id": "cc941bca-a314-42e6-8469-6cdc713ba1aa",
   "metadata": {},
   "outputs": [],
   "source": [
    "def location_probability(RX, Rxi,d):\n",
    "    pxi = Rxi/RX\n",
    "    return pxi"
   ]
  },
  {
   "cell_type": "markdown",
   "id": "caa8799a-f80d-474a-ac61-5d0e4e98076d",
   "metadata": {},
   "source": [
    "## Framework ALgoritmo de Otimização Fogos de Artifício:"
   ]
  },
  {
   "cell_type": "code",
   "execution_count": 66,
   "id": "99c34196-db8d-4bed-9dda-85c4210b6b6c",
   "metadata": {},
   "outputs": [
    {
     "name": "stdout",
     "output_type": "stream",
     "text": [
      "(1,)\n",
      "120.51911445744742\n",
      "[[100.12490892]\n",
      " [120.51911446]\n",
      " [ 67.51847393]\n",
      " [ 68.65057421]\n",
      " [100.51071019]\n",
      " [ 77.78245113]\n",
      " [106.56875417]\n",
      " [ 79.80452987]\n",
      " [ 73.30037318]\n",
      " [100.2435421 ]]\n",
      "number of sparks [24.]\n",
      "number of sparks [24.]\n",
      "number of sparks [24.]\n",
      "number of sparks [24.]\n",
      "number of sparks [24.]\n",
      "number of sparks [24.]\n",
      "number of sparks [24.]\n",
      "number of sparks [24.]\n",
      "number of sparks [24.]\n",
      "number of sparks [24.]\n",
      "random dimension initialization: [1. 1. 1. 0. 0. 0. 1. 0. 1. 1.]\n",
      "xj:  [ 4.25526974 -2.61307292  2.84252722  2.41394325  0.54121202 -1.68116729\n",
      " -4.72820679  4.00920466 -4.435285   -0.24840864]\n",
      "random affected dimensions [-13.54632704 -20.4146697  -14.95906956   2.41394325   0.54121202\n",
      "  -1.68116729 -22.52980357   4.00920466 -22.23688178 -18.05000542]\n",
      "xmax - xmin:  10\n",
      "inbound:  [-1.45367296 -4.5853303  -0.04093044 -2.58605675 -4.45878798 -3.31883271\n",
      " -2.47019643 -0.99079534 -2.76311822  3.05000542]\n",
      "[-1.45367296 -4.5853303  -0.04093044 -2.58605675 -4.45878798 -3.31883271\n",
      " -2.47019643 -0.99079534 -2.76311822  3.05000542]\n",
      "values that are over the max bound [-0. -0. -0. -0. -0. -0. -0. -0. -0.  0.]\n",
      "values that are over the min bound [-1.45367296 -4.5853303  -0.04093044 -0.         -0.         -0.\n",
      " -2.47019643 -0.         -2.76311822  3.05000542]\n",
      "mapping:  [-1.45367296 -4.5853303  -0.04093044  2.41394325  0.54121202 -1.68116729\n",
      " -2.47019643  4.00920466 -2.76311822  3.05000542]\n"
     ]
    },
    {
     "data": {
      "text/plain": [
       "array([-1.45367296, -4.5853303 , -0.04093044,  2.41394325,  0.54121202,\n",
       "       -1.68116729, -2.47019643,  4.00920466, -2.76311822,  3.05000542])"
      ]
     },
     "execution_count": 66,
     "metadata": {},
     "output_type": "execute_result"
    }
   ],
   "source": [
    "#localizações\n",
    "n = 10\n",
    "#quantidade de faíscas\n",
    "m = 30\n",
    "d = 10\n",
    "A = 20\n",
    "xmin = -5\n",
    "xmax = 5\n",
    "fireworks = xmin + (xmax - xmin) * np.random.rand(n,d)\n",
    "max_iter=1000\n",
    "iter = 0\n",
    "S = np.zeros((n,1))\n",
    "y = np.zeros((n,1))\n",
    "for i in range(n):\n",
    "    y[i] = sphere_function(fireworks[i])\n",
    "ymin = y.min()\n",
    "ymax = y.max()\n",
    "S = np.zeros((n,1))\n",
    "print(S[0].shape)\n",
    "print(ymax)\n",
    "print(y)\n",
    "for i in range(n):\n",
    "    S[i] = sparks_number(y[i], m, ymax)\n",
    "\n",
    "obtain_location_of_spark(d, A, xmin, xmax, fireworks[0])"
   ]
  },
  {
   "cell_type": "code",
   "execution_count": null,
   "id": "9b3be042-5c67-4d43-a84a-d08f9ab3c402",
   "metadata": {},
   "outputs": [],
   "source": []
  },
  {
   "cell_type": "code",
   "execution_count": null,
   "id": "56efe737-12c4-4df2-af13-a9ec03370c0b",
   "metadata": {},
   "outputs": [],
   "source": []
  }
 ],
 "metadata": {
  "kernelspec": {
   "display_name": "Python 3 (ipykernel)",
   "language": "python",
   "name": "python3"
  },
  "language_info": {
   "codemirror_mode": {
    "name": "ipython",
    "version": 3
   },
   "file_extension": ".py",
   "mimetype": "text/x-python",
   "name": "python",
   "nbconvert_exporter": "python",
   "pygments_lexer": "ipython3",
   "version": "3.12.1"
  }
 },
 "nbformat": 4,
 "nbformat_minor": 5
}
