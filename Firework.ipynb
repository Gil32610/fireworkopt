{
 "cells": [
  {
   "cell_type": "markdown",
   "id": "1e0cda56-6a7d-49a2-963b-35741b661b0e",
   "metadata": {},
   "source": [
    "# Firework Algorithm for Optimization"
   ]
  },
  {
   "cell_type": "markdown",
   "id": "2fc3c065-cc14-419c-a288-a555fa1bba03",
   "metadata": {},
   "source": [
    "- Autores originais: [*Ying Tan*](https://scholar.google.com/citations?user=PjNxSPsAAAAJ&hl=en) e [*Yuanchun Zhu*](https://ieeexplore.ieee.org/author/38008573100)\n",
    "- Ano de Publicação: 2010\n",
    "- Editora: [Springer](https://link.springer.com/chapter/10.1007/978-3-642-13495-1_44)\n",
    "- Conferência: [Advances in Swarm Intelligence](https://link.springer.com/book/10.1007/978-3-642-13495-1): First International Conference, ICSI 2010, Beijing, China, June 12-15, 2010, Proceedings, Part I 1"
   ]
  },
  {
   "cell_type": "markdown",
   "id": "9fe326d5-4a8d-417d-a39a-298681ffa22c",
   "metadata": {},
   "source": [
    "## Descrição:\n",
    "FA é um algoritmo de inteligência de enxames inspirado na explosão de fogos de artifício. Esse algoritmo é utilizado para a otimização global de funções complexas. São fornecidos dois processos de *“explosão”* (busca) e os mecanismos para manter a diversidade das *“faíscas”*."
   ]
  },
  {
   "cell_type": "code",
   "execution_count": 1,
   "id": "df7392b0-63a7-47e2-b9f9-bf26c29e771b",
   "metadata": {},
   "outputs": [],
   "source": [
    "import numpy as np\n",
    "import pandas as pd\n",
    "import random"
   ]
  },
  {
   "cell_type": "markdown",
   "id": "7898d621-7e52-4be9-b32c-3a6f9fe06528",
   "metadata": {},
   "source": [
    "## Funções Objetivos"
   ]
  },
  {
   "cell_type": "code",
   "execution_count": 2,
   "id": "728b6b8e-42ea-4597-a27b-89f3a0c6df38",
   "metadata": {},
   "outputs": [],
   "source": [
    "def sphere_function(x):\n",
    "    result = x**2\n",
    "    return np.sum(result)"
   ]
  },
  {
   "cell_type": "code",
   "execution_count": 3,
   "id": "2825a317-31a2-442a-8b5d-f463a4ed5dc9",
   "metadata": {},
   "outputs": [],
   "source": [
    "def rastrigin(x):\n",
    "    n = len(x)\n",
    "    total = 0\n",
    "    total = x**2 - 10*np.cos(2*np.pi*x)\n",
    "    return (10*n) + total"
   ]
  },
  {
   "cell_type": "code",
   "execution_count": 4,
   "id": "8451e066-dfd4-41d2-8964-8b5abb373a60",
   "metadata": {},
   "outputs": [],
   "source": [
    "def rosenbrook(x):\n",
    "    n = len(x)\n",
    "    term1 = 100 * (x[1:] - x[:-1]**2)**2\n",
    "    temr2 = (x[1:] -1)**2\n",
    "    sumterm = np.sum(term1 + term2)\n",
    "    return sumterm"
   ]
  },
  {
   "cell_type": "code",
   "execution_count": 5,
   "id": "ddd311c0-2c71-4aa5-bb5e-02007411fd38",
   "metadata": {},
   "outputs": [],
   "source": [
    "def ackley(x):\n",
    "    n = len(x)\n",
    "    sum1 = np.sum(x*2)\n",
    "    sum2 = np.sum(np.cos(2 * np.pi * x**2))\n",
    "    term1 = -20 * np.exp(-0.2 * np.sqrt(1/n * sum1))\n",
    "    term2 = -np.exp(1/n * sum2)\n",
    "    return term1 + term2 + 20 + np.exp(1)"
   ]
  },
  {
   "cell_type": "markdown",
   "id": "04680570-c1a8-4b3b-b36a-8eb276e3e11e",
   "metadata": {},
   "source": [
    "### Distribuição Gaussiana:"
   ]
  },
  {
   "cell_type": "code",
   "execution_count": 6,
   "id": "7d942653-1873-4892-9ece-4a30c3b7dec1",
   "metadata": {},
   "outputs": [
    {
     "data": {
      "text/plain": [
       "0.024486290735798777"
      ]
     },
     "execution_count": 6,
     "metadata": {},
     "output_type": "execute_result"
    }
   ],
   "source": [
    "value = random.gauss(1,1)\n",
    "value"
   ]
  },
  {
   "cell_type": "markdown",
   "id": "be09e63e-3449-4ab8-86ee-abacb2e752aa",
   "metadata": {},
   "source": [
    "### Distribuição Uniforme:"
   ]
  },
  {
   "cell_type": "code",
   "execution_count": 7,
   "id": "5e514605-57b3-4bdb-999b-48f9aa5d0b8c",
   "metadata": {
    "scrolled": true
   },
   "outputs": [
    {
     "data": {
      "text/plain": [
       "0.5859760883579517"
      ]
     },
     "execution_count": 7,
     "metadata": {},
     "output_type": "execute_result"
    }
   ],
   "source": [
    "value = random.uniform(-1,1)\n",
    "value"
   ]
  },
  {
   "cell_type": "markdown",
   "id": "dc883867-78eb-4d39-b8d8-5a5a5381ab2b",
   "metadata": {},
   "source": [
    "## Inicializando posições dos Fogos de Artifício:"
   ]
  },
  {
   "cell_type": "code",
   "execution_count": 8,
   "id": "fac67c24-d258-4ab2-b757-b7567e4c1580",
   "metadata": {},
   "outputs": [],
   "source": [
    "def initialize_firework_locations(n, d, xmin, xmax):\n",
    "    fireworks = xmin + (xmax - xmin) * np.random.rand(n,d)\n",
    "    return fireworks"
   ]
  },
  {
   "cell_type": "code",
   "execution_count": null,
   "id": "abd7686f-f9da-4075-b948-30232a59db49",
   "metadata": {
    "scrolled": true
   },
   "outputs": [],
   "source": []
  },
  {
   "cell_type": "markdown",
   "id": "cdede3b5-14d3-49c9-a20d-e0b5b06c3ad1",
   "metadata": {},
   "source": [
    "## Calculando o número de faíscas:"
   ]
  },
  {
   "cell_type": "code",
   "execution_count": 9,
   "id": "bace2692-922f-4cd4-9035-2a076c09189e",
   "metadata": {},
   "outputs": [],
   "source": [
    "def sparks_number(fx, fX, m, ymax, eps=.00001):\n",
    "    sum_difference_of_worst_fit_and_fx = np.sum(ymax-fX) + eps\n",
    "    difference_of_max_and_fx = (ymax - fx + eps)\n",
    "    s = m * difference_of_max_and_fx/sum_difference_of_worst_fit_and_fx\n",
    "    s = firework_boundaries(0.1, 0.8, m, s)\n",
    "    return s"
   ]
  },
  {
   "cell_type": "code",
   "execution_count": 10,
   "id": "2ef8f270-37b5-43a2-be18-82c8b536c61f",
   "metadata": {},
   "outputs": [],
   "source": [
    "def firework_boundaries(a, b, m, s):\n",
    "    term1 = np.round(a*m) * (s < (a*m))\n",
    "    term2 = np.round(b*m) * (s> b*m)\n",
    "    term3 = np.round(s) * (~(s < (a*m)) & ~((s > b *m) & (a<b<1)))\n",
    "    s_new = term1 + term2 + term3\n",
    "    return s_new"
   ]
  },
  {
   "cell_type": "markdown",
   "id": "d93e5b8c-1f72-4d4d-990f-68d200bde4dd",
   "metadata": {},
   "source": [
    "## Obtendo localização das Faíscas:"
   ]
  },
  {
   "cell_type": "markdown",
   "id": "1bbb5317-8561-42ad-be63-235907cc0d26",
   "metadata": {},
   "source": [
    "### Seletor de dimensões aleatório"
   ]
  },
  {
   "cell_type": "code",
   "execution_count": 11,
   "id": "4eadfcfc-babd-47a3-baad-8083bd703f77",
   "metadata": {},
   "outputs": [],
   "source": [
    "def random_dimension_selector(d):\n",
    "    xj = np.zeros(d)\n",
    "    z = round(d * random.uniform(0,1))\n",
    "    random_dimensions = np.random.choice(d, z, replace=False)\n",
    "    for i in random_dimensions:\n",
    "        xj[i] = 1\n",
    "    return xj\n",
    "    "
   ]
  },
  {
   "cell_type": "markdown",
   "id": "9d94fcba-7173-4854-b0ac-8b9acd763630",
   "metadata": {},
   "source": [
    "### Amplitude de explosão"
   ]
  },
  {
   "cell_type": "code",
   "execution_count": 12,
   "id": "44b3e10e-05de-4191-80b9-0b4b15d11faf",
   "metadata": {},
   "outputs": [],
   "source": [
    "def explosion_amplitude(A_hat, fx,fX, ymin, eps=.00001):\n",
    "    sum_difference_of_fx_and_best_fit = np.sum(fX - ymin) + eps\n",
    "    difference_of_fx_and_min = (fx - ymin + eps)\n",
    "    A = A_hat * difference_of_fx_and_min/sum_difference_of_fx_and_best_fit\n",
    "    return A"
   ]
  },
  {
   "cell_type": "code",
   "execution_count": 13,
   "id": "0a3c19f6-6eb9-4c3e-b7ee-088680fac9e1",
   "metadata": {},
   "outputs": [
    {
     "data": {
      "text/plain": [
       "2"
      ]
     },
     "execution_count": 13,
     "metadata": {},
     "output_type": "execute_result"
    }
   ],
   "source": [
    "d = 6\n",
    "round(6 * random.uniform(0,1))"
   ]
  },
  {
   "cell_type": "markdown",
   "id": "01ea8816-9fc6-4184-b410-1a36db11808a",
   "metadata": {},
   "source": [
    "### Obtendo faísca: Estratégia da Explosão"
   ]
  },
  {
   "cell_type": "code",
   "execution_count": 14,
   "id": "cb6377ea-839c-49f5-8f93-47c17dfdd1bf",
   "metadata": {},
   "outputs": [],
   "source": [
    "def obtain_location_of_spark(d, amp, xmin, xmax, xi):\n",
    "    #selecting z dimensions to be affected\n",
    "    xj = xi\n",
    "    random_selected_positions = random_dimension_selector(d) \n",
    "    h = amp * random.uniform(-1 ,1) \n",
    "    random_affected_dimensions = xj + (random_selected_positions* h)\n",
    "    #mapping affected dimensions to potential space\n",
    "    random_affected_dimensions = map_to_potential_space(xmin, xmax, random_affected_dimensions)\n",
    "    return random_affected_dimensions"
   ]
  },
  {
   "cell_type": "markdown",
   "id": "fab877e2-6934-4d5a-9d2c-ebf21b8c7845",
   "metadata": {},
   "source": [
    "### Mapeamento para espaço potencial:"
   ]
  },
  {
   "cell_type": "code",
   "execution_count": 15,
   "id": "e901366d-9f1c-4cb3-a68e-51fa10aee246",
   "metadata": {},
   "outputs": [],
   "source": [
    "def map_to_potential_space(xmin, xmax, affected):\n",
    "    inbound = xmin + abs(affected)%(xmax - xmin)\n",
    "    term1 = (affected > xmax) * inbound\n",
    "    term2 =  (affected < xmin) * inbound\n",
    "    fixed_bounds = term1 + term2\n",
    "    mapping = (fixed_bounds == 0) * affected + fixed_bounds \n",
    "    return mapping"
   ]
  },
  {
   "cell_type": "code",
   "execution_count": 16,
   "id": "7e01f952-05d0-4315-ac01-f125461b5062",
   "metadata": {
    "scrolled": true
   },
   "outputs": [
    {
     "data": {
      "text/plain": [
       "array([0.69752719, 0.69360941, 0.96435884])"
      ]
     },
     "execution_count": 16,
     "metadata": {},
     "output_type": "execute_result"
    }
   ],
   "source": [
    "xi = np.random.rand(3)\n",
    "xmin = np.array([-3.12, -4.5, -6.6])\n",
    "xmax = np.array([3.12, 4.5, 6.6])\n",
    "d = 3\n",
    "amp = 5\n",
    "obtain_location_of_spark(d, amp, xmin, xmax, xi)"
   ]
  },
  {
   "cell_type": "markdown",
   "id": "597dafe7-6baa-4737-b57e-cc3e098c8f0f",
   "metadata": {},
   "source": [
    "### Obtendo faísca: Estratégia de Faíscas Gaussianas:"
   ]
  },
  {
   "cell_type": "code",
   "execution_count": 17,
   "id": "5d306158-65c4-44f1-9a59-8a626a775238",
   "metadata": {},
   "outputs": [],
   "source": [
    "def gaussian_spark_location(xmin, xmax, d, xi):\n",
    "    xj = xi\n",
    "    random_dimensions_selected = random_dimension_selector(d)\n",
    "    random_affected_dimensions = (xj * np.logical_not(random_dimensions_selected)) + xj * (random_dimensions_selected * np.random.normal(1,1,d))\n",
    "    random_affected_dimensions = map_to_potential_space(xmin, xmax, random_affected_dimensions)\n",
    "    return random_affected_dimensions"
   ]
  },
  {
   "cell_type": "code",
   "execution_count": 18,
   "id": "1bcc32a9-cffa-4b8b-bbe7-ee4797cfb6a4",
   "metadata": {},
   "outputs": [
    {
     "data": {
      "text/plain": [
       "array([ 0.24729605, -0.31566698,  1.89294813])"
      ]
     },
     "execution_count": 18,
     "metadata": {},
     "output_type": "execute_result"
    }
   ],
   "source": [
    "d =3\n",
    "np.random.normal(1,1,d)"
   ]
  },
  {
   "cell_type": "code",
   "execution_count": 19,
   "id": "ef0ba3da-7367-4f2b-826a-f132aacbfd0e",
   "metadata": {},
   "outputs": [
    {
     "data": {
      "text/plain": [
       "array([0.34749793, 0.58474792, 0.28910127])"
      ]
     },
     "execution_count": 19,
     "metadata": {},
     "output_type": "execute_result"
    }
   ],
   "source": [
    "np.random.rand(3)"
   ]
  },
  {
   "cell_type": "markdown",
   "id": "c5d2f1bb-0fd5-4368-82a3-d06b2da61b9a",
   "metadata": {},
   "source": [
    "## Seleção de Localizações:"
   ]
  },
  {
   "cell_type": "markdown",
   "id": "022aa1ec-c179-4c6d-a11a-e045c36bca2c",
   "metadata": {},
   "source": [
    "### Calculando Distância Geral:"
   ]
  },
  {
   "cell_type": "code",
   "execution_count": 20,
   "id": "a1884995-4ec6-416a-882f-4743027c6654",
   "metadata": {},
   "outputs": [],
   "source": [
    "def general_distance(xi , X, d):\n",
    "    sum_of_distances = np.sum(abs(xi - X))\n",
    "    return sum_of_distances"
   ]
  },
  {
   "cell_type": "markdown",
   "id": "22014bb4-30d2-4b8c-a46c-43697ab2ba06",
   "metadata": {},
   "source": [
    "### Calculando probabilidade de seleção:"
   ]
  },
  {
   "cell_type": "code",
   "execution_count": 21,
   "id": "cc941bca-a314-42e6-8469-6cdc713ba1aa",
   "metadata": {},
   "outputs": [],
   "source": [
    "def location_probability(RX, Rxi,d):\n",
    "    pxi = Rxi/RX\n",
    "    return pxi"
   ]
  },
  {
   "cell_type": "markdown",
   "id": "caa8799a-f80d-474a-ac61-5d0e4e98076d",
   "metadata": {},
   "source": [
    "## Framework ALgoritmo de Otimização Fogos de Artifício:"
   ]
  },
  {
   "cell_type": "code",
   "execution_count": 22,
   "id": "99c34196-db8d-4bed-9dda-85c4210b6b6c",
   "metadata": {},
   "outputs": [
    {
     "name": "stdout",
     "output_type": "stream",
     "text": [
      "current best location:\n",
      " [ 0.17755457  1.30316099  2.28409427  0.81136814  0.54740178 -2.09190678\n",
      " -0.53879902 -2.34636781 -1.65148333 -1.47426815]\n"
     ]
    }
   ],
   "source": [
    "#localizações\n",
    "n = 10\n",
    "#quantidade de faíscas\n",
    "m = 50\n",
    "#dimensões\n",
    "d = 10\n",
    "#parâmetro para amplitude\n",
    "a = 20\n",
    "#faíscas gaussianas\n",
    "gauss = 15\n",
    "\n",
    "#Número de fogos na estratégia gaussiana\n",
    "m_hat = 5\n",
    "\n",
    "#minimo valor do espaço potencial\n",
    "xmin = -5\n",
    "\n",
    "#máximo valor do espaço potencial\n",
    "xmax = 5\n",
    "\n",
    "#Inicializando fogoso de artifício\n",
    "X = initialize_firework_locations(n, d, xmin, xmax)\n",
    "\n",
    "#Total de iterações\n",
    "explosion_generations = 10\n",
    "\n",
    "current_generation = 0\n",
    "while(current_generation < explosion_generations):\n",
    "        #f(X)\n",
    "    y = np.zeros((n,1))\n",
    "    for i in range(n):\n",
    "        y[i] = sphere_function(X[i])\n",
    "\n",
    "    #best fit\n",
    "    ymin = y.min()\n",
    "    #worst fit\n",
    "    ymax = y.max()\n",
    "\n",
    "    #Numero de faíscas por fogo de artifício\n",
    "    S = np.zeros((n,1))\n",
    "    #Amplitude de cada fogo de artificio\n",
    "    A = np.zeros((n,1))\n",
    "\n",
    "    for i in range(n):\n",
    "        S[i] = sparks_number(y[i],y, m, ymax) \n",
    "        A[i] = explosion_amplitude(a, y[i],y, ymin)\n",
    "\n",
    "    total_sparks = np.sum(S)\n",
    "    new_locations = X\n",
    "    generation = np.array((n,d))\n",
    "    for i in range(n):\n",
    "        xi = X[i]\n",
    "        n_sparks = int(S[i][0])\n",
    "        sparks = np.zeros((n_sparks,d))\n",
    "        for j in range(n_sparks):\n",
    "            sparks[j] = obtain_location_of_spark(d, a, xmin, xmax, xi)\n",
    "        new_locations = np.vstack((new_locations, sparks)) \n",
    "\n",
    "    random_fireworks = np.sort(np.random.choice(n,m_hat, replace=False))\n",
    "    for i in range(m_hat):\n",
    "        xi = X[random_fireworks[i]]\n",
    "        gaussian_sparks = np.zeros((gauss,d))\n",
    "        for j in range(gauss):\n",
    "            gaussian_sparks[j] = gaussian_spark_location(xmin, xmax, d, xi)\n",
    "        new_locations = np.vstack((new_locations, gaussian_sparks)) \n",
    "    total_locations = int(total_sparks) + n + m_hat*gauss\n",
    "    fx_new_locations = np.zeros((total_locations, 1))\n",
    "    for i in range(total_locations):\n",
    "        fx_new_locations[i] = sphere_function(new_locations[i])\n",
    "\n",
    "    current_best_location = fx_new_locations.argmin()\n",
    "    best_location = new_locations[current_best_location]\n",
    "    new_locations = np.delete(new_locations, current_best_location,0)\n",
    "    RX = np.zeros((total_locations -1, 1)) \n",
    "    for i in range(total_locations-1):\n",
    "        RX[i] = general_distance(new_locations[i], new_locations, d)\n",
    "\n",
    "    prob = np.zeros((total_locations, 1))\n",
    "    sum_RX = np.sum(RX)\n",
    "    for i in range(total_locations-1):\n",
    "        prob[i] = location_probability(sum_RX, RX[i],d)\n",
    "    prob = prob.flatten()\n",
    "    indexes = np.arange(total_locations)\n",
    "\n",
    "    next_generation_selection = np.random.choice(indexes, n -1, p=prob, replace=False)\n",
    "\n",
    "    X = np.zeros((n-1,d))\n",
    "    for i in range(n-1):\n",
    "        X[i] = next_generation_selection[i]\n",
    "    X = np.vstack((best_location, X))\n",
    "    print(\"current best location:\\n\",best_location)\n",
    "    current_generation+=1"
   ]
  },
  {
   "cell_type": "code",
   "execution_count": 23,
   "id": "9b3be042-5c67-4d43-a84a-d08f9ab3c402",
   "metadata": {},
   "outputs": [
    {
     "name": "stdout",
     "output_type": "stream",
     "text": [
      "si:  [8.]\n",
      "fx:  [78.78535627]\n",
      "ymax:  137.7006935494672\n",
      "sum:  372.21326531167716\n",
      "ymax - y[0]/sum:  [0.15828382]\n",
      "m * ymax - fx/sum:  [7.91419097]\n"
     ]
    }
   ],
   "source": [
    "fx = y[4]\n",
    "si = sparks_number(fx, y, m, ymax)\n",
    "print(\"si: \",si)\n",
    "print(\"fx: \", fx)\n",
    "print(\"ymax: \",ymax)\n",
    "sum = np.sum(ymax - y)\n",
    "print(\"sum: \",sum)\n",
    "spark =  (ymax - fx)/sum\n",
    "print(\"ymax - y[0]/sum: \", spark)\n",
    "print(\"m * ymax - fx/sum: \",m* spark)"
   ]
  },
  {
   "cell_type": "code",
   "execution_count": 24,
   "id": "56efe737-12c4-4df2-af13-a9ec03370c0b",
   "metadata": {},
   "outputs": [
    {
     "data": {
      "text/plain": [
       "62.0"
      ]
     },
     "execution_count": 24,
     "metadata": {},
     "output_type": "execute_result"
    }
   ],
   "source": [
    "total_fireworks = np.sum(S)\n",
    "total_fireworks"
   ]
  },
  {
   "cell_type": "code",
   "execution_count": 25,
   "id": "7193aa09-db00-4fc9-b37b-76c9921842f1",
   "metadata": {},
   "outputs": [
    {
     "data": {
      "text/plain": [
       "array([0, 2, 3, 6, 9])"
      ]
     },
     "execution_count": 25,
     "metadata": {},
     "output_type": "execute_result"
    }
   ],
   "source": [
    "np.sort(np.random.choice(10,5, replace=False))"
   ]
  },
  {
   "cell_type": "code",
   "execution_count": 26,
   "id": "ca58e7d2-1bde-4acd-8e7d-e3ddc61ca11c",
   "metadata": {},
   "outputs": [
    {
     "data": {
      "text/plain": [
       "array([ 0.2510135 ,  0.71211403,  2.48550116,  0.81136814,  0.54740178,\n",
       "        0.82632003, -0.6562709 , -2.34636781, -2.17651554, -1.45354921])"
      ]
     },
     "execution_count": 26,
     "metadata": {},
     "output_type": "execute_result"
    }
   ],
   "source": [
    "xi = X[0]\n",
    "gaussian_spark_location(xmin, xmax, d, xi)"
   ]
  },
  {
   "cell_type": "code",
   "execution_count": 27,
   "id": "90eab028-1b20-43c1-9d7b-4fed2600993b",
   "metadata": {},
   "outputs": [
    {
     "data": {
      "text/plain": [
       "array([ 2.34553008,  4.12494212,  3.54902903, -1.80762664, -2.53406342,\n",
       "        0.98386032, -1.72025483,  2.81305928, -3.81820882,  3.11315142])"
      ]
     },
     "execution_count": 27,
     "metadata": {},
     "output_type": "execute_result"
    }
   ],
   "source": [
    "new_locations[101]"
   ]
  },
  {
   "cell_type": "code",
   "execution_count": 28,
   "id": "1e6d466f-b694-4100-9b14-c5abd2e73fe5",
   "metadata": {},
   "outputs": [
    {
     "data": {
      "text/plain": [
       "array([[-4.3933076 , -4.13686969,  2.25651063,  2.89252411, -1.49747298,\n",
       "         2.5280929 , -3.96846284,  0.61770753,  4.12472049, -3.00082018],\n",
       "       [-0.07451786, -4.28446033, -0.67784064, -3.15397134, -1.49747298,\n",
       "         2.5280929 , -0.49936262,  0.96096245,  4.12472049,  0.95268438],\n",
       "       [-2.42562859,  3.98472167, -2.80451254,  4.70913443,  3.03418915,\n",
       "        -0.50369144, -0.8681764 ,  0.02685239,  1.75607886,  0.33847144],\n",
       "       [-3.18392892,  3.98472167, -3.6394176 ,  4.70913443, -3.93279476,\n",
       "         4.16755403,  1.48097202, -0.22126592,  1.49513747,  0.13582478],\n",
       "       [-2.42562859,  3.98472167, -2.80451254,  2.0969871 ,  1.03356054,\n",
       "        -4.98196781,  1.47501557, -0.22126592,  1.75607886,  0.33847144],\n",
       "       [-2.42562859,  3.98472167, -2.80451254,  4.70913443, -2.66508879,\n",
       "         4.92427516,  1.73655342, -0.22126592,  1.75607886,  0.33847144],\n",
       "       [ 0.5801002 ,  3.98472167,  0.04399791,  4.70913443, -2.66508879,\n",
       "        -1.5510623 ,  1.73655342, -0.08234001,  0.85989111,  0.59573213],\n",
       "       [-2.42562859,  3.98472167, -0.54972742,  3.16974181, -2.66508879,\n",
       "         4.92427516,  1.73655342, -0.22126592,  1.75607886,  0.33847144],\n",
       "       [-2.42562859,  1.26336467,  1.09603442, -3.46264374, -3.23100645,\n",
       "         0.91216257,  1.73655342, -0.2952577 ,  1.17622518,  0.66154154],\n",
       "       [-3.60763337,  1.77282882, -2.80451254, -2.44676079, -2.27361409,\n",
       "         2.34064006,  2.53890722, -0.34479874,  2.61821357,  0.60611765],\n",
       "       [-2.42562859,  3.98472167, -2.80451254,  4.70913443, -2.66508879,\n",
       "         4.92427516,  1.73655342, -0.22126592,  1.75607886,  0.33847144],\n",
       "       [-2.12454111,  0.66933283,  0.30869217,  1.68513543, -2.31618779,\n",
       "         1.00630935,  2.96661037, -0.58090933,  2.39916069,  0.1683854 ],\n",
       "       [-1.88328295,  0.94472598, -2.80451254, -1.10950094, -0.12475105,\n",
       "        -1.33072673,  1.33101429, -0.07367754,  4.34614746,  0.33847144],\n",
       "       [-2.42562859,  3.98472167, -2.80451254,  4.70913443, -2.66508879,\n",
       "         4.92427516,  1.73655342, -0.22126592,  1.75607886,  0.13761001],\n",
       "       [-2.42562859,  3.98472167, -2.80451254, -1.24008507, -2.66508879,\n",
       "         4.09480835,  1.78955317, -0.22126592,  1.75607886,  0.33847144],\n",
       "       [-4.70913508,  2.70567279,  1.02396558,  4.34708817, -2.66508879,\n",
       "         2.56324436,  1.88423424, -0.24226092,  1.75607886,  0.73668739],\n",
       "       [-2.42562859,  3.98472167, -2.80451254,  4.70913443, -2.66508879,\n",
       "         4.92427516,  1.73655342, -0.22126592,  1.75607886,  0.33847144],\n",
       "       [ 2.09756012,  3.60794711, -2.01527851, -2.83749921, -3.08877272,\n",
       "         4.12183608,  0.32042768, -4.95044742,  2.51518189, -4.20461189],\n",
       "       [ 0.9443749 , -0.6474985 , -2.45285474, -2.83749921,  1.60865445,\n",
       "         4.12183608, -4.00226557, -4.95044742,  2.51518189, -4.20461189],\n",
       "       [ 2.09756012,  2.54885801, -2.45285474, -4.70914094,  2.89506085,\n",
       "         1.06109843, -4.85775758, -2.94234643,  2.51518189, -2.02439138],\n",
       "       [ 2.09756012,  3.60794711, -2.45285474,  2.27257109,  2.89506085,\n",
       "         2.80077627, -4.00226557, -4.95044742,  2.51518189, -4.20461189],\n",
       "       [ 2.09756012,  3.60794711, -2.45285474, -2.83749921,  2.89506085,\n",
       "         4.12183608, -4.00226557, -4.95044742,  2.51518189, -4.20461189],\n",
       "       [ 2.67856623,  4.39554816, -2.45285474,  0.612564  ,  1.25137945,\n",
       "         4.12183608, -4.00226557, -4.95044742,  2.51518189, -4.21368356],\n",
       "       [ 2.17006573,  4.59841592,  0.73411946, -4.90020189,  2.89506085,\n",
       "         1.4022007 ,  3.86250761,  4.88970953,  4.68053608, -2.37727926],\n",
       "       [ 1.71320376,  3.41761585, -2.45285474, -1.89828014,  2.89506085,\n",
       "         3.72530632, -4.00226557, -4.95044742,  1.1346811 ,  4.16794237],\n",
       "       [ 2.09756012,  4.86382166, -2.45285474, -2.83749921,  3.04157322,\n",
       "         4.12183608, -4.00226557, -4.95044742,  2.51518189,  2.66973486],\n",
       "       [ 1.52027125,  3.60794711, -2.45285474,  0.32091793,  2.89506085,\n",
       "         3.2253452 ,  0.32448455, -4.95044742,  2.89216069, -4.20461189],\n",
       "       [ 1.9373069 ,  2.31880268, -4.16270917, -3.37642974, -0.04750667,\n",
       "         3.79822514,  0.17729471, -2.33093358, -1.60053182, -4.20461189],\n",
       "       [ 1.31003789,  3.07535972, -2.34613448, -2.83749921,  2.48937391,\n",
       "         0.39199211, -1.20463389,  4.77589167,  2.2339818 , -4.20461189],\n",
       "       [ 2.09756012,  3.60794711, -2.45285474, -2.83749921,  2.15539714,\n",
       "         4.78604316, -4.00226557, -4.95044742,  2.51518189, -4.20461189],\n",
       "       [ 3.63342051,  3.60794711, -2.45285474, -2.83749921,  2.89506085,\n",
       "         4.12183608, -4.00226557,  3.45408904,  2.51518189, -4.20461189],\n",
       "       [ 0.55412688,  3.60794711, -2.45285474, -3.73819054,  0.43599271,\n",
       "         2.02032503, -4.00226557, -4.95044742,  2.51518189, -3.24334298],\n",
       "       [ 2.34553008,  4.12494212,  3.54902903, -1.80762664, -2.53406342,\n",
       "         0.98386032, -1.72025483,  2.81305928, -3.81820882,  3.11315142],\n",
       "       [ 2.34553008, -2.87965115,  2.10056876, -1.80762664, -2.53406342,\n",
       "         0.98386032, -1.72025483,  2.81305928, -3.81820882, -0.68483934],\n",
       "       [-2.34641309,  4.13336934,  2.7769052 , -4.27312231, -1.49009696,\n",
       "         0.94564303, -3.84816447,  1.73955077, -0.14675589,  4.38673833],\n",
       "       [ 2.34553008,  1.61012888,  3.54902903, -1.80762664, -2.53406342,\n",
       "         0.15477385, -1.72025483,  2.81305928, -3.81820882,  3.11315142],\n",
       "       [ 2.34553008,  4.12494212,  4.85341221, -1.80762664, -2.53406342,\n",
       "         0.98386032, -3.59979983,  1.76329382, -1.14123784,  3.11315142],\n",
       "       [ 2.34553008,  4.70293169,  3.54902903, -1.80762664, -2.53406342,\n",
       "         0.98386032, -1.72025483,  2.81305928, -3.81820882,  3.11315142],\n",
       "       [ 2.34553008,  4.12494212,  3.54902903, -1.80762664, -3.03468046,\n",
       "         0.98386032, -1.72025483,  2.81305928,  4.47676635,  3.11315142],\n",
       "       [ 2.34553008,  4.12494212,  3.29339177, -2.40299648, -2.53406342,\n",
       "         0.98386032, -1.72025483,  2.81305928, -3.81820882,  3.11315142],\n",
       "       [ 0.91817777,  4.12494212,  3.54902903, -3.02449962, -2.53406342,\n",
       "         0.572924  , -1.61723205,  0.67073454, -3.81820882,  3.11315142],\n",
       "       [ 1.88300559,  2.89084935,  3.54902903, -1.88824389, -2.53406342,\n",
       "         0.98386032, -2.72389107,  0.4029289 ,  4.2288498 ,  3.11315142],\n",
       "       [ 2.34553008,  4.12494212,  3.54902903, -1.80762664, -0.60860598,\n",
       "         0.98386032, -1.72025483,  2.81305928, -3.81820882,  3.11315142],\n",
       "       [ 2.34553008,  2.31987163,  3.54902903, -2.5935027 , -2.53406342,\n",
       "         0.98386032, -1.72025483,  2.81305928, -3.81820882,  1.31018272],\n",
       "       [ 4.47956182,  4.75619565,  3.54902903,  0.45824304, -1.95286688,\n",
       "         0.88888642,  0.86585758,  1.26119671, -3.81820882,  4.22595703],\n",
       "       [ 2.34553008,  3.73066851,  4.97860811, -0.83303947, -2.53406342,\n",
       "         0.48696967, -2.80050204,  0.95019831, -3.81820882,  0.26132689],\n",
       "       [ 3.51821359,  4.12494212,  3.27361612,  1.78640071, -2.53406342,\n",
       "         1.9506528 , -0.80829664,  2.81305928,  4.37533436,  3.11315142],\n",
       "       [ 3.87442694, -0.22939186,  4.51746092,  2.32836093,  4.31760285,\n",
       "         4.96375389, -3.63646148,  4.52941744,  0.17479395, -2.38240777],\n",
       "       [ 3.87442694, -2.92010841,  4.51746092,  2.32836093,  3.50605854,\n",
       "         2.83728287,  0.06203578,  3.92979896,  0.17479395, -2.07396301],\n",
       "       [ 3.87442694, -4.77418119,  1.09705962,  1.59683575,  0.14818614,\n",
       "         0.6954919 , -3.63646148,  0.32324417,  0.10383413, -2.38240777],\n",
       "       [ 3.87442694, -2.92010841,  4.51746092,  2.32836093, -1.28359675,\n",
       "        -4.81831731,  4.65777422,  4.52941744,  0.24106817, -2.38240777],\n",
       "       [-3.9845599 ,  0.62518594, -0.95922353,  2.04235916,  4.92432856,\n",
       "        -0.07026275,  2.36441383,  4.45117375,  0.10953881, -2.75177132],\n",
       "       [ 3.87442694, -2.92010841,  4.51746092,  2.32836093,  4.92432856,\n",
       "        -4.90954658, -3.63646148,  4.52941744,  0.17479395, -2.38240777],\n",
       "       [ 3.94894809,  2.38813199,  4.51746092,  2.32836093,  4.92432856,\n",
       "         4.96375389, -3.63646148,  4.52941744,  0.17479395, -2.38240777],\n",
       "       [ 3.87442694, -2.92010841,  4.51746092,  2.32836093,  4.92432856,\n",
       "         4.96375389,  3.42022489,  4.52941744,  0.17479395, -2.38240777],\n",
       "       [-3.85658267, -2.92010841,  4.51746092,  2.32836093,  0.12569839,\n",
       "         4.96375389, -3.59063197,  4.52941744,  0.10119557, -2.38240777],\n",
       "       [ 3.87442694, -2.92010841,  4.51746092,  4.37025252,  4.92432856,\n",
       "         4.96375389, -3.63646148,  4.52941744,  0.17479395,  0.20060297],\n",
       "       [ 2.73383824, -4.19566926,  4.51746092,  2.32836093, -2.30316254,\n",
       "         2.12244332, -0.66305141,  1.02599845,  0.28435323, -4.24862312],\n",
       "       [ 3.87442694, -2.92010841,  4.51746092,  2.32836093,  4.92432856,\n",
       "         4.96375389, -3.63646148,  4.52941744,  0.17479395, -2.38240777],\n",
       "       [ 3.87442694, -2.92010841, -3.43364488,  1.35566635,  3.55776858,\n",
       "        -3.86126755,  1.10113624,  0.69383913,  0.31008452, -0.94455494],\n",
       "       [ 1.12412302, -2.92010841, -4.9644701 ,  2.32836093,  4.92432856,\n",
       "         4.96375389, -4.18764159,  4.52941744,  0.17479395, -2.38240777],\n",
       "       [ 3.87442694, -2.92010841,  4.51746092,  2.32836093, -1.46992676,\n",
       "         4.96375389, -3.63646148,  4.52941744,  0.17479395, -2.38240777],\n",
       "       [ 4.26906641,  1.31776803, -0.42347143,  2.21366893, -2.54616485,\n",
       "         2.5280929 , -4.2186455 ,  2.86275962, -1.71762941, -4.8126643 ],\n",
       "       [-4.3933076 , -0.81254302, -0.88585233, -1.03446894,  1.72188097,\n",
       "         2.85043514, -1.50856228,  0.96096245,  4.12472049, -0.06289614],\n",
       "       [-4.3933076 , -4.28446033, -0.67784064, -3.38311356, -1.49747298,\n",
       "         2.5280929 ,  0.54286166,  0.96096245,  4.44948836,  4.57949016],\n",
       "       [-4.3933076 , -2.29436746, -0.67784064, -3.7551797 , -4.13759126,\n",
       "         4.18620732,  4.81742465,  0.68750197,  4.12472049,  4.64996863],\n",
       "       [-4.3933076 , -4.28446033, -0.40474101, -1.31385412, -1.49747298,\n",
       "         4.45124984,  2.30219962,  1.59906915,  4.12472049,  4.57949016],\n",
       "       [-2.59769777, -4.28446033, -0.67784064, -0.56458796, -1.49747298,\n",
       "         2.67132559,  1.77432814,  0.96096245,  4.39875235,  3.30728057],\n",
       "       [-4.3933076 , -1.70078297, -0.67784064, -1.00687478, -1.49747298,\n",
       "         2.5280929 , -3.4024382 ,  0.96096245,  4.12472049,  4.57949016],\n",
       "       [-4.3933076 , -4.28446033, -0.67784064, -1.31385412, -1.49747298,\n",
       "         2.5280929 , -3.96846284,  0.96096245,  4.12472049,  3.64325302],\n",
       "       [-4.3933076 , -4.28446033, -0.67784064, -1.31385412, -1.49747298,\n",
       "         2.5280929 , -3.96846284,  0.96096245,  4.12472049,  4.57949016],\n",
       "       [ 4.01838616, -4.28446033, -0.67784064, -2.17626687, -1.49747298,\n",
       "         2.5280929 , -3.96846284,  0.96096245, -4.96598696,  4.57949016],\n",
       "       [-4.3933076 , -4.28446033, -1.00085896, -1.31385412, -1.49747298,\n",
       "         2.5280929 , -3.96846284,  0.96096245,  4.12472049,  4.57949016],\n",
       "       [-4.3933076 , -4.28446033, -0.67784064, -2.06684171, -1.49747298,\n",
       "         2.5280929 , -3.96846284,  1.34403303,  4.12472049,  4.57949016],\n",
       "       [-4.3933076 , -4.28446033, -1.75935858, -1.31385412, -1.49747298,\n",
       "         2.5280929 ,  1.11274808,  0.96096245,  2.09898214,  0.50480099],\n",
       "       [ 3.57459434,  1.18271867, -0.29304777, -0.41324535, -1.49747298,\n",
       "         2.5280929 , -3.96846284,  0.31018156,  0.90109123,  4.57949016],\n",
       "       [-1.10475131, -4.28446033, -0.67784064, -1.31385412, -1.49747298,\n",
       "         2.5280929 ,  4.52196912,  0.96096245,  3.05768613,  4.57949016]])"
      ]
     },
     "execution_count": 28,
     "metadata": {},
     "output_type": "execute_result"
    }
   ],
   "source": [
    "new_locations[69:]"
   ]
  },
  {
   "cell_type": "code",
   "execution_count": 29,
   "id": "6f0778b1-7c9a-4366-83a8-897abde2376f",
   "metadata": {},
   "outputs": [
    {
     "data": {
      "text/plain": [
       "39"
      ]
     },
     "execution_count": 29,
     "metadata": {},
     "output_type": "execute_result"
    }
   ],
   "source": [
    "current_best_location"
   ]
  },
  {
   "cell_type": "code",
   "execution_count": 30,
   "id": "fcd74e41-c782-4111-8409-d6d5e042c39f",
   "metadata": {},
   "outputs": [
    {
     "data": {
      "text/plain": [
       "110"
      ]
     },
     "execution_count": 30,
     "metadata": {},
     "output_type": "execute_result"
    }
   ],
   "source": [
    "next_generation_selection[0]"
   ]
  },
  {
   "cell_type": "code",
   "execution_count": 31,
   "id": "2866c205-bc94-4b67-8336-44782e5b68d6",
   "metadata": {},
   "outputs": [
    {
     "name": "stdout",
     "output_type": "stream",
     "text": [
      "(147,)\n",
      "[0.0064845  0.00666762 0.00712537 0.00713783 0.0074446  0.00640096\n",
      " 0.00761116 0.0072078  0.00706027 0.00692186 0.00834668 0.00635642\n",
      " 0.00701526 0.00701902 0.00710855 0.00658452 0.00659229 0.0066903\n",
      " 0.00632743 0.00655961 0.00810629 0.00680676 0.0072056  0.00727458\n",
      " 0.00666762 0.00712725 0.00706798 0.00818455 0.0065683  0.00720554\n",
      " 0.0077361  0.00592482 0.00708871 0.00606834 0.00767567 0.00750678\n",
      " 0.00665836 0.00751776 0.00817495 0.00728002 0.00677854 0.00681207\n",
      " 0.00755402 0.00739377 0.0064377  0.00642752 0.00609655 0.0064541\n",
      " 0.00658264 0.00749935 0.00634243 0.0073077  0.007374   0.00654522\n",
      " 0.00738403 0.00721195 0.00744789 0.00719053 0.00651208 0.00714992\n",
      " 0.0072078  0.00611356 0.00664934 0.00694335 0.00694474 0.00720252\n",
      " 0.00669107 0.00677621 0.0064941  0.00685162 0.00613193 0.00658571\n",
      " 0.006983   0.00693355 0.00666762 0.00632984 0.00628043 0.00607819\n",
      " 0.00634629 0.00666762 0.00595531 0.00635205 0.00666934 0.00619935\n",
      " 0.00650134 0.00666762 0.00689774 0.00694132 0.00687999 0.00692948\n",
      " 0.00712537 0.00701026 0.00755052 0.00691627 0.00715836 0.00683938\n",
      " 0.00679654 0.00649907 0.00715678 0.00678598 0.00687639 0.00640096\n",
      " 0.00611127 0.00668012 0.00630624 0.0063232  0.00650567 0.00635643\n",
      " 0.00643209 0.00650223 0.00610252 0.0063565  0.00621314 0.00690343\n",
      " 0.00639576 0.00635192 0.00695253 0.00656507 0.00614153 0.00777927\n",
      " 0.00702441 0.00779637 0.00711692 0.00750468 0.00698122 0.00737624\n",
      " 0.00630103 0.0072078  0.00690106 0.00737407 0.00668496 0.00649794\n",
      " 0.00622282 0.00709395 0.00796947 0.007185   0.00650903 0.00659213\n",
      " 0.00677779 0.00692186 0.00705712 0.00694142 0.00698156 0.00628334\n",
      " 0.00589152 0.00682944 0.        ]\n",
      "NEXT GEN SIZE:  146\n",
      "total locations: 147\n"
     ]
    }
   ],
   "source": [
    "print(indexes.shape)\n",
    "print(prob)\n",
    "next_gen = np.random.choice(indexes, total_locations -1, p=prob, replace=False)\n",
    "print(\"NEXT GEN SIZE: \", len(next_gen))\n",
    "print(\"total locations:\", total_locations)"
   ]
  },
  {
   "cell_type": "code",
   "execution_count": null,
   "id": "e4fa01c5-121c-42d9-a657-df9585b54370",
   "metadata": {},
   "outputs": [],
   "source": []
  },
  {
   "cell_type": "code",
   "execution_count": null,
   "id": "6dfed967-74bb-40e9-8023-efdfdd636f3d",
   "metadata": {},
   "outputs": [],
   "source": []
  },
  {
   "cell_type": "code",
   "execution_count": null,
   "id": "26da0203-ce73-4be1-86bf-72be1066563b",
   "metadata": {},
   "outputs": [],
   "source": []
  },
  {
   "cell_type": "code",
   "execution_count": null,
   "id": "5dd94743-3ef7-4a80-ae63-ca02b3712b1a",
   "metadata": {},
   "outputs": [],
   "source": []
  }
 ],
 "metadata": {
  "kernelspec": {
   "display_name": "Python 3 (ipykernel)",
   "language": "python",
   "name": "python3"
  },
  "language_info": {
   "codemirror_mode": {
    "name": "ipython",
    "version": 3
   },
   "file_extension": ".py",
   "mimetype": "text/x-python",
   "name": "python",
   "nbconvert_exporter": "python",
   "pygments_lexer": "ipython3",
   "version": "3.12.1"
  }
 },
 "nbformat": 4,
 "nbformat_minor": 5
}
